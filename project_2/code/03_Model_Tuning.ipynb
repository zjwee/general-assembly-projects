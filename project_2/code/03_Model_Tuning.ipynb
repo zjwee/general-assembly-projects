{
 "cells": [
  {
   "cell_type": "markdown",
   "metadata": {},
   "source": [
    "# Project 2: Ames Housing Prices"
   ]
  },
  {
   "cell_type": "markdown",
   "metadata": {},
   "source": [
    "## Model Tuning"
   ]
  },
  {
   "cell_type": "code",
   "execution_count": 1,
   "metadata": {},
   "outputs": [],
   "source": [
    "# Import libraries\n",
    "import pandas as pd\n",
    "import numpy as np\n",
    "import matplotlib.pyplot as plt\n",
    "import seaborn as sns\n",
    "\n",
    "from sklearn.linear_model import Ridge, Lasso, ElasticNet, LinearRegression, RidgeCV, LassoCV, ElasticNetCV\n",
    "from sklearn.model_selection import cross_val_score\n",
    "from sklearn.metrics import mean_squared_error\n",
    "from sklearn.preprocessing import PolynomialFeatures"
   ]
  },
  {
   "cell_type": "code",
   "execution_count": 2,
   "metadata": {},
   "outputs": [],
   "source": [
    "# Read in data\n",
    "X_train = pd.read_csv('../datasets/model_tuning/X_train_processed.csv', keep_default_na=False, index_col='Id')\n",
    "X_test = pd.read_csv('../datasets/model_tuning/X_test_processed.csv', keep_default_na=False, index_col='Id')\n",
    "y_train = pd.read_csv('../datasets/model_tuning/y_train.csv', keep_default_na=False, index_col='Id')\n",
    "y_test = pd.read_csv('../datasets/model_tuning/y_test.csv', keep_default_na=False, index_col='Id')\n",
    "\n",
    "# Read in top Lasso coefficients from Feature Set 1\n",
    "top_lasso_coef = pd.read_csv('../datasets/model_tuning/top_lasso_coef.csv', index_col = 0)"
   ]
  },
  {
   "cell_type": "markdown",
   "metadata": {},
   "source": [
    "### Feature Set 2"
   ]
  },
  {
   "cell_type": "markdown",
   "metadata": {},
   "source": [
    "For Feature Set 2, we can try retaining only the top 50 features of the previous Lasso Regression model."
   ]
  },
  {
   "cell_type": "code",
   "execution_count": 3,
   "metadata": {
    "scrolled": true
   },
   "outputs": [
    {
     "data": {
      "text/html": [
       "<div>\n",
       "<style scoped>\n",
       "    .dataframe tbody tr th:only-of-type {\n",
       "        vertical-align: middle;\n",
       "    }\n",
       "\n",
       "    .dataframe tbody tr th {\n",
       "        vertical-align: top;\n",
       "    }\n",
       "\n",
       "    .dataframe thead th {\n",
       "        text-align: right;\n",
       "    }\n",
       "</style>\n",
       "<table border=\"1\" class=\"dataframe\">\n",
       "  <thead>\n",
       "    <tr style=\"text-align: right;\">\n",
       "      <th></th>\n",
       "      <th>feature</th>\n",
       "      <th>coef</th>\n",
       "      <th>abs_coef</th>\n",
       "    </tr>\n",
       "  </thead>\n",
       "  <tbody>\n",
       "    <tr>\n",
       "      <th>8</th>\n",
       "      <td>Gr Liv Area</td>\n",
       "      <td>24095.700940</td>\n",
       "      <td>24095.700940</td>\n",
       "    </tr>\n",
       "    <tr>\n",
       "      <th>185</th>\n",
       "      <td>Kitchen Qual_Ex</td>\n",
       "      <td>23847.440798</td>\n",
       "      <td>23847.440798</td>\n",
       "    </tr>\n",
       "    <tr>\n",
       "      <th>150</th>\n",
       "      <td>Bsmt Qual_Ex</td>\n",
       "      <td>18516.320628</td>\n",
       "      <td>18516.320628</td>\n",
       "    </tr>\n",
       "    <tr>\n",
       "      <th>47</th>\n",
       "      <td>Neighborhood_NridgHt</td>\n",
       "      <td>17397.100149</td>\n",
       "      <td>17397.100149</td>\n",
       "    </tr>\n",
       "    <tr>\n",
       "      <th>162</th>\n",
       "      <td>Bsmt Exposure_Gd</td>\n",
       "      <td>15177.173105</td>\n",
       "      <td>15177.173105</td>\n",
       "    </tr>\n",
       "    <tr>\n",
       "      <th>141</th>\n",
       "      <td>Exter Qual_Ex</td>\n",
       "      <td>14577.094016</td>\n",
       "      <td>14577.094016</td>\n",
       "    </tr>\n",
       "    <tr>\n",
       "      <th>46</th>\n",
       "      <td>Neighborhood_NoRidge</td>\n",
       "      <td>13415.796923</td>\n",
       "      <td>13415.796923</td>\n",
       "    </tr>\n",
       "    <tr>\n",
       "      <th>35</th>\n",
       "      <td>Neighborhood_Crawfor</td>\n",
       "      <td>11487.809499</td>\n",
       "      <td>11487.809499</td>\n",
       "    </tr>\n",
       "    <tr>\n",
       "      <th>11</th>\n",
       "      <td>Overall Qual</td>\n",
       "      <td>9065.137909</td>\n",
       "      <td>9065.137909</td>\n",
       "    </tr>\n",
       "    <tr>\n",
       "      <th>6</th>\n",
       "      <td>Total Bsmt SF</td>\n",
       "      <td>8556.796445</td>\n",
       "      <td>8556.796445</td>\n",
       "    </tr>\n",
       "    <tr>\n",
       "      <th>53</th>\n",
       "      <td>Neighborhood_StoneBr</td>\n",
       "      <td>8412.946600</td>\n",
       "      <td>8412.946600</td>\n",
       "    </tr>\n",
       "    <tr>\n",
       "      <th>172</th>\n",
       "      <td>BsmtFin Type 1_Unf</td>\n",
       "      <td>-8173.794791</td>\n",
       "      <td>8173.794791</td>\n",
       "    </tr>\n",
       "    <tr>\n",
       "      <th>168</th>\n",
       "      <td>BsmtFin Type 1_GLQ</td>\n",
       "      <td>8161.067388</td>\n",
       "      <td>8161.067388</td>\n",
       "    </tr>\n",
       "    <tr>\n",
       "      <th>0</th>\n",
       "      <td>Year Built</td>\n",
       "      <td>7903.657504</td>\n",
       "      <td>7903.657504</td>\n",
       "    </tr>\n",
       "    <tr>\n",
       "      <th>86</th>\n",
       "      <td>Exterior 1st_BrkFace</td>\n",
       "      <td>7885.435063</td>\n",
       "      <td>7885.435063</td>\n",
       "    </tr>\n",
       "    <tr>\n",
       "      <th>134</th>\n",
       "      <td>Sale Type_New</td>\n",
       "      <td>6453.636935</td>\n",
       "      <td>6453.636935</td>\n",
       "    </tr>\n",
       "    <tr>\n",
       "      <th>65</th>\n",
       "      <td>Bldg Type_1Fam</td>\n",
       "      <td>6416.285448</td>\n",
       "      <td>6416.285448</td>\n",
       "    </tr>\n",
       "    <tr>\n",
       "      <th>9</th>\n",
       "      <td>Garage Area</td>\n",
       "      <td>5685.335824</td>\n",
       "      <td>5685.335824</td>\n",
       "    </tr>\n",
       "    <tr>\n",
       "      <th>21</th>\n",
       "      <td>Land Contour_HLS</td>\n",
       "      <td>5645.181993</td>\n",
       "      <td>5645.181993</td>\n",
       "    </tr>\n",
       "    <tr>\n",
       "      <th>56</th>\n",
       "      <td>Condition 1_Artery</td>\n",
       "      <td>-5021.194826</td>\n",
       "      <td>5021.194826</td>\n",
       "    </tr>\n",
       "    <tr>\n",
       "      <th>12</th>\n",
       "      <td>Overall Cond</td>\n",
       "      <td>4660.814965</td>\n",
       "      <td>4660.814965</td>\n",
       "    </tr>\n",
       "    <tr>\n",
       "      <th>165</th>\n",
       "      <td>Bsmt Exposure_No</td>\n",
       "      <td>-4229.322369</td>\n",
       "      <td>4229.322369</td>\n",
       "    </tr>\n",
       "    <tr>\n",
       "      <th>192</th>\n",
       "      <td>Fireplace Qu_NA</td>\n",
       "      <td>-4063.891430</td>\n",
       "      <td>4063.891430</td>\n",
       "    </tr>\n",
       "    <tr>\n",
       "      <th>52</th>\n",
       "      <td>Neighborhood_Somerst</td>\n",
       "      <td>3408.125911</td>\n",
       "      <td>3408.125911</td>\n",
       "    </tr>\n",
       "    <tr>\n",
       "      <th>67</th>\n",
       "      <td>Bldg Type_Duplex</td>\n",
       "      <td>-3350.513110</td>\n",
       "      <td>3350.513110</td>\n",
       "    </tr>\n",
       "    <tr>\n",
       "      <th>117</th>\n",
       "      <td>Foundation_PConc</td>\n",
       "      <td>3155.819816</td>\n",
       "      <td>3155.819816</td>\n",
       "    </tr>\n",
       "    <tr>\n",
       "      <th>19</th>\n",
       "      <td>MS Zoning_RM</td>\n",
       "      <td>-2921.003610</td>\n",
       "      <td>2921.003610</td>\n",
       "    </tr>\n",
       "    <tr>\n",
       "      <th>144</th>\n",
       "      <td>Exter Qual_TA</td>\n",
       "      <td>-2876.847277</td>\n",
       "      <td>2876.847277</td>\n",
       "    </tr>\n",
       "    <tr>\n",
       "      <th>195</th>\n",
       "      <td>Garage Finish_Fin</td>\n",
       "      <td>2721.284042</td>\n",
       "      <td>2721.284042</td>\n",
       "    </tr>\n",
       "    <tr>\n",
       "      <th>66</th>\n",
       "      <td>Bldg Type_2fmCon</td>\n",
       "      <td>2600.705812</td>\n",
       "      <td>2600.705812</td>\n",
       "    </tr>\n",
       "    <tr>\n",
       "      <th>89</th>\n",
       "      <td>Exterior 1st_HdBoard</td>\n",
       "      <td>-2550.929591</td>\n",
       "      <td>2550.929591</td>\n",
       "    </tr>\n",
       "    <tr>\n",
       "      <th>198</th>\n",
       "      <td>Garage Finish_Unf</td>\n",
       "      <td>-2521.859461</td>\n",
       "      <td>2521.859461</td>\n",
       "    </tr>\n",
       "    <tr>\n",
       "      <th>128</th>\n",
       "      <td>Sale Type_COD</td>\n",
       "      <td>-2512.539247</td>\n",
       "      <td>2512.539247</td>\n",
       "    </tr>\n",
       "    <tr>\n",
       "      <th>36</th>\n",
       "      <td>Neighborhood_Edwards</td>\n",
       "      <td>-2479.082898</td>\n",
       "      <td>2479.082898</td>\n",
       "    </tr>\n",
       "    <tr>\n",
       "      <th>163</th>\n",
       "      <td>Bsmt Exposure_Mn</td>\n",
       "      <td>-2248.227676</td>\n",
       "      <td>2248.227676</td>\n",
       "    </tr>\n",
       "    <tr>\n",
       "      <th>1</th>\n",
       "      <td>Year Remod/Add</td>\n",
       "      <td>2059.222789</td>\n",
       "      <td>2059.222789</td>\n",
       "    </tr>\n",
       "    <tr>\n",
       "      <th>191</th>\n",
       "      <td>Fireplace Qu_Gd</td>\n",
       "      <td>1949.187781</td>\n",
       "      <td>1949.187781</td>\n",
       "    </tr>\n",
       "    <tr>\n",
       "      <th>180</th>\n",
       "      <td>Heating QC_Ex</td>\n",
       "      <td>1886.261053</td>\n",
       "      <td>1886.261053</td>\n",
       "    </tr>\n",
       "    <tr>\n",
       "      <th>34</th>\n",
       "      <td>Neighborhood_CollgCr</td>\n",
       "      <td>-1713.350178</td>\n",
       "      <td>1713.350178</td>\n",
       "    </tr>\n",
       "    <tr>\n",
       "      <th>58</th>\n",
       "      <td>Condition 1_Norm</td>\n",
       "      <td>1713.049108</td>\n",
       "      <td>1713.049108</td>\n",
       "    </tr>\n",
       "    <tr>\n",
       "      <th>166</th>\n",
       "      <td>BsmtFin Type 1_ALQ</td>\n",
       "      <td>1347.529265</td>\n",
       "      <td>1347.529265</td>\n",
       "    </tr>\n",
       "    <tr>\n",
       "      <th>92</th>\n",
       "      <td>Exterior 1st_Plywood</td>\n",
       "      <td>-1323.083811</td>\n",
       "      <td>1323.083811</td>\n",
       "    </tr>\n",
       "    <tr>\n",
       "      <th>51</th>\n",
       "      <td>Neighborhood_SawyerW</td>\n",
       "      <td>-1292.432236</td>\n",
       "      <td>1292.432236</td>\n",
       "    </tr>\n",
       "    <tr>\n",
       "      <th>136</th>\n",
       "      <td>Sale Type_WD</td>\n",
       "      <td>-1206.961629</td>\n",
       "      <td>1206.961629</td>\n",
       "    </tr>\n",
       "    <tr>\n",
       "      <th>5</th>\n",
       "      <td>Garage Cars</td>\n",
       "      <td>1201.563865</td>\n",
       "      <td>1201.563865</td>\n",
       "    </tr>\n",
       "    <tr>\n",
       "      <th>169</th>\n",
       "      <td>BsmtFin Type 1_LwQ</td>\n",
       "      <td>-1100.642445</td>\n",
       "      <td>1100.642445</td>\n",
       "    </tr>\n",
       "    <tr>\n",
       "      <th>2</th>\n",
       "      <td>Full Bath</td>\n",
       "      <td>-1100.245998</td>\n",
       "      <td>1100.245998</td>\n",
       "    </tr>\n",
       "    <tr>\n",
       "      <th>184</th>\n",
       "      <td>Heating QC_TA</td>\n",
       "      <td>-1080.527943</td>\n",
       "      <td>1080.527943</td>\n",
       "    </tr>\n",
       "    <tr>\n",
       "      <th>24</th>\n",
       "      <td>Lot Config_Corner</td>\n",
       "      <td>896.743733</td>\n",
       "      <td>896.743733</td>\n",
       "    </tr>\n",
       "    <tr>\n",
       "      <th>105</th>\n",
       "      <td>Exterior 2nd_Plywood</td>\n",
       "      <td>-802.766379</td>\n",
       "      <td>802.766379</td>\n",
       "    </tr>\n",
       "  </tbody>\n",
       "</table>\n",
       "</div>"
      ],
      "text/plain": [
       "                  feature          coef      abs_coef\n",
       "8             Gr Liv Area  24095.700940  24095.700940\n",
       "185       Kitchen Qual_Ex  23847.440798  23847.440798\n",
       "150          Bsmt Qual_Ex  18516.320628  18516.320628\n",
       "47   Neighborhood_NridgHt  17397.100149  17397.100149\n",
       "162      Bsmt Exposure_Gd  15177.173105  15177.173105\n",
       "141         Exter Qual_Ex  14577.094016  14577.094016\n",
       "46   Neighborhood_NoRidge  13415.796923  13415.796923\n",
       "35   Neighborhood_Crawfor  11487.809499  11487.809499\n",
       "11           Overall Qual   9065.137909   9065.137909\n",
       "6           Total Bsmt SF   8556.796445   8556.796445\n",
       "53   Neighborhood_StoneBr   8412.946600   8412.946600\n",
       "172    BsmtFin Type 1_Unf  -8173.794791   8173.794791\n",
       "168    BsmtFin Type 1_GLQ   8161.067388   8161.067388\n",
       "0              Year Built   7903.657504   7903.657504\n",
       "86   Exterior 1st_BrkFace   7885.435063   7885.435063\n",
       "134         Sale Type_New   6453.636935   6453.636935\n",
       "65         Bldg Type_1Fam   6416.285448   6416.285448\n",
       "9             Garage Area   5685.335824   5685.335824\n",
       "21       Land Contour_HLS   5645.181993   5645.181993\n",
       "56     Condition 1_Artery  -5021.194826   5021.194826\n",
       "12           Overall Cond   4660.814965   4660.814965\n",
       "165      Bsmt Exposure_No  -4229.322369   4229.322369\n",
       "192       Fireplace Qu_NA  -4063.891430   4063.891430\n",
       "52   Neighborhood_Somerst   3408.125911   3408.125911\n",
       "67       Bldg Type_Duplex  -3350.513110   3350.513110\n",
       "117      Foundation_PConc   3155.819816   3155.819816\n",
       "19           MS Zoning_RM  -2921.003610   2921.003610\n",
       "144         Exter Qual_TA  -2876.847277   2876.847277\n",
       "195     Garage Finish_Fin   2721.284042   2721.284042\n",
       "66       Bldg Type_2fmCon   2600.705812   2600.705812\n",
       "89   Exterior 1st_HdBoard  -2550.929591   2550.929591\n",
       "198     Garage Finish_Unf  -2521.859461   2521.859461\n",
       "128         Sale Type_COD  -2512.539247   2512.539247\n",
       "36   Neighborhood_Edwards  -2479.082898   2479.082898\n",
       "163      Bsmt Exposure_Mn  -2248.227676   2248.227676\n",
       "1          Year Remod/Add   2059.222789   2059.222789\n",
       "191       Fireplace Qu_Gd   1949.187781   1949.187781\n",
       "180         Heating QC_Ex   1886.261053   1886.261053\n",
       "34   Neighborhood_CollgCr  -1713.350178   1713.350178\n",
       "58       Condition 1_Norm   1713.049108   1713.049108\n",
       "166    BsmtFin Type 1_ALQ   1347.529265   1347.529265\n",
       "92   Exterior 1st_Plywood  -1323.083811   1323.083811\n",
       "51   Neighborhood_SawyerW  -1292.432236   1292.432236\n",
       "136         Sale Type_WD   -1206.961629   1206.961629\n",
       "5             Garage Cars   1201.563865   1201.563865\n",
       "169    BsmtFin Type 1_LwQ  -1100.642445   1100.642445\n",
       "2               Full Bath  -1100.245998   1100.245998\n",
       "184         Heating QC_TA  -1080.527943   1080.527943\n",
       "24      Lot Config_Corner    896.743733    896.743733\n",
       "105  Exterior 2nd_Plywood   -802.766379    802.766379"
      ]
     },
     "execution_count": 3,
     "metadata": {},
     "output_type": "execute_result"
    }
   ],
   "source": [
    "# Examine top Lasso coefficients\n",
    "top_lasso_coef"
   ]
  },
  {
   "cell_type": "code",
   "execution_count": 4,
   "metadata": {},
   "outputs": [],
   "source": [
    "# Create Feature Set 2\n",
    "feature_set_2 = list(top_lasso_coef['feature'])\n",
    "\n",
    "# Create new train and test sets\n",
    "X_train_2 = X_train[feature_set_2]\n",
    "X_test_2 = X_test[feature_set_2]"
   ]
  },
  {
   "cell_type": "markdown",
   "metadata": {},
   "source": [
    "#### Ridge Regression"
   ]
  },
  {
   "cell_type": "code",
   "execution_count": 5,
   "metadata": {},
   "outputs": [
    {
     "name": "stdout",
     "output_type": "stream",
     "text": [
      "2.0022003718155847\n"
     ]
    }
   ],
   "source": [
    "# Create Ridge Regression CV of training data of Feature Set 2\n",
    "ridge_alphas = np.logspace(0, 5, 200)\n",
    "\n",
    "optimal_ridge = RidgeCV(alphas=ridge_alphas, cv=5)\n",
    "optimal_ridge.fit(X_train_2, y_train)\n",
    "\n",
    "print(optimal_ridge.alpha_)"
   ]
  },
  {
   "cell_type": "code",
   "execution_count": 6,
   "metadata": {},
   "outputs": [
    {
     "data": {
      "text/plain": [
       "Ridge(alpha=2.0022003718155847)"
      ]
     },
     "execution_count": 6,
     "metadata": {},
     "output_type": "execute_result"
    }
   ],
   "source": [
    "# Create Ridge Regression model with optimal alpha\n",
    "ridge = Ridge(alpha=optimal_ridge.alpha_)\n",
    "ridge.fit(X_train_2, y_train)"
   ]
  },
  {
   "cell_type": "code",
   "execution_count": 7,
   "metadata": {},
   "outputs": [
    {
     "data": {
      "text/plain": [
       "20014.65003038865"
      ]
     },
     "execution_count": 7,
     "metadata": {},
     "output_type": "execute_result"
    }
   ],
   "source": [
    "# Check cross val score (RMSE)\n",
    "abs(cross_val_score(ridge, X_train_2, y_train, cv=5, scoring='neg_root_mean_squared_error')).mean()"
   ]
  },
  {
   "cell_type": "code",
   "execution_count": 8,
   "metadata": {},
   "outputs": [
    {
     "data": {
      "text/plain": [
       "19112.26129192974"
      ]
     },
     "execution_count": 8,
     "metadata": {},
     "output_type": "execute_result"
    }
   ],
   "source": [
    "# Compare model predictions to test data (RMSE)\n",
    "mean_squared_error(y_test, ridge.predict(X_test_2), squared=False)"
   ]
  },
  {
   "cell_type": "markdown",
   "metadata": {},
   "source": [
    "The Ridge Regression model for Feature Set 2 performs much better than Feature Set 1 in test predictions.\n",
    "\n",
    "There is less overfitting as Feature Set 2 uses 50 features compared to 220 from Feature Set 1.\n",
    "\n",
    "The model is better at generalizing to unseen data.\n",
    "\n",
    "| Ridge          |     |                |     |\n",
    "|----------------|-----|----------------|     |\n",
    "|Feature Set 1   |RMSE |Feature Set 2   |RMSE |\n",
    "|Cross validation|19950|Cross validation|20014|\n",
    "|Test predictions|58395|Test predictions|19112|"
   ]
  },
  {
   "cell_type": "markdown",
   "metadata": {},
   "source": [
    "#### Lasso Regression"
   ]
  },
  {
   "cell_type": "code",
   "execution_count": 9,
   "metadata": {},
   "outputs": [
    {
     "name": "stdout",
     "output_type": "stream",
     "text": [
      "82.23289058522015\n"
     ]
    }
   ],
   "source": [
    "# Create Lasso Regression CV of training data of Feature Set 2\n",
    "optimal_lasso = LassoCV(n_alphas=500, cv=5)\n",
    "optimal_lasso.fit(X_train_2, np.ravel(y_train))\n",
    "\n",
    "print(optimal_lasso.alpha_)"
   ]
  },
  {
   "cell_type": "code",
   "execution_count": 10,
   "metadata": {},
   "outputs": [
    {
     "data": {
      "text/plain": [
       "Lasso(alpha=82.23289058522015)"
      ]
     },
     "execution_count": 10,
     "metadata": {},
     "output_type": "execute_result"
    }
   ],
   "source": [
    "# Create Lasso Regression model with optimal alpha\n",
    "lasso = Lasso(alpha=optimal_lasso.alpha_)\n",
    "lasso.fit(X_train_2, y_train)"
   ]
  },
  {
   "cell_type": "code",
   "execution_count": 11,
   "metadata": {},
   "outputs": [
    {
     "data": {
      "text/plain": [
       "20151.096318317526"
      ]
     },
     "execution_count": 11,
     "metadata": {},
     "output_type": "execute_result"
    }
   ],
   "source": [
    "# Check cross val score (RMSE)\n",
    "abs(cross_val_score(lasso, X_train_2, y_train, cv=5, scoring='neg_root_mean_squared_error')).mean()"
   ]
  },
  {
   "cell_type": "code",
   "execution_count": 12,
   "metadata": {},
   "outputs": [
    {
     "data": {
      "text/plain": [
       "19172.911723312995"
      ]
     },
     "execution_count": 12,
     "metadata": {},
     "output_type": "execute_result"
    }
   ],
   "source": [
    "# Compare model predictions to test data (RMSE)\n",
    "mean_squared_error(y_test, lasso.predict(X_test_2), squared=False)"
   ]
  },
  {
   "cell_type": "markdown",
   "metadata": {},
   "source": [
    "The Lasso Regression of Feature Set 2 performs similarly to the Ridge Regression above.\n",
    "\n",
    "| Lasso          |     |                |     |\n",
    "|----------------|-----|----------------|     |\n",
    "|Feature Set 1   |RMSE |Feature Set 2   |RMSE |\n",
    "|Cross validation|20837|Cross validation|20151|\n",
    "|Test predictions|50134|Test predictions|19172|"
   ]
  },
  {
   "cell_type": "markdown",
   "metadata": {},
   "source": [
    "#### Elastic Net Regression"
   ]
  },
  {
   "cell_type": "code",
   "execution_count": 13,
   "metadata": {},
   "outputs": [
    {
     "data": {
      "text/plain": [
       "ElasticNetCV(cv=5,\n",
       "             l1_ratio=array([0.01   , 0.05125, 0.0925 , 0.13375, 0.175  , 0.21625, 0.2575 ,\n",
       "       0.29875, 0.34   , 0.38125, 0.4225 , 0.46375, 0.505  , 0.54625,\n",
       "       0.5875 , 0.62875, 0.67   , 0.71125, 0.7525 , 0.79375, 0.835  ,\n",
       "       0.87625, 0.9175 , 0.95875, 1.     ]))"
      ]
     },
     "execution_count": 13,
     "metadata": {},
     "output_type": "execute_result"
    }
   ],
   "source": [
    "# Create Enet Regression CV of training data of Feature Set 2\n",
    "l1_ratios = np.linspace(0.01, 1.0, 25)\n",
    "optimal_enet = ElasticNetCV(l1_ratio=l1_ratios, n_alphas=100, cv=5)\n",
    "optimal_enet.fit(X_train_2, np.ravel(y_train))"
   ]
  },
  {
   "cell_type": "code",
   "execution_count": 14,
   "metadata": {},
   "outputs": [
    {
     "name": "stdout",
     "output_type": "stream",
     "text": [
      "82.23289058522015 1.0\n"
     ]
    }
   ],
   "source": [
    "print(optimal_enet.alpha_, optimal_enet.l1_ratio_)"
   ]
  },
  {
   "cell_type": "code",
   "execution_count": 15,
   "metadata": {},
   "outputs": [
    {
     "data": {
      "text/plain": [
       "ElasticNet(alpha=82.23289058522015, l1_ratio=1.0)"
      ]
     },
     "execution_count": 15,
     "metadata": {},
     "output_type": "execute_result"
    }
   ],
   "source": [
    "# Enet Regression should perform similarly to Lasso, given optimal l1 = 1\n",
    "enet = ElasticNet(alpha=optimal_enet.alpha_, l1_ratio=optimal_enet.l1_ratio_)\n",
    "enet.fit(X_train_2, y_train)"
   ]
  },
  {
   "cell_type": "code",
   "execution_count": 16,
   "metadata": {},
   "outputs": [
    {
     "data": {
      "text/plain": [
       "20151.096318317526"
      ]
     },
     "execution_count": 16,
     "metadata": {},
     "output_type": "execute_result"
    }
   ],
   "source": [
    "# Check cross val score (RMSE)\n",
    "abs(cross_val_score(enet, X_train_2, y_train, cv=5, scoring='neg_root_mean_squared_error')).mean()"
   ]
  },
  {
   "cell_type": "code",
   "execution_count": 17,
   "metadata": {},
   "outputs": [
    {
     "data": {
      "text/plain": [
       "19172.911723312995"
      ]
     },
     "execution_count": 17,
     "metadata": {},
     "output_type": "execute_result"
    }
   ],
   "source": [
    "# Compare model predictions to test data (RMSE)\n",
    "mean_squared_error(y_test, enet.predict(X_test_2), squared=False)"
   ]
  },
  {
   "cell_type": "markdown",
   "metadata": {},
   "source": [
    "The Elastic Net regression of Feature Set 2 performs similarly to the Lasso Regression above, as l1_ratio = 1.\n",
    "\n",
    "| Enet           |     |                |     |\n",
    "|----------------|-----|----------------|     |\n",
    "|Feature Set 1   |RMSE |Feature Set 2   |RMSE |\n",
    "|Cross validation|20837|Cross validation|20151|\n",
    "|Test predictions|50134|Test predictions|19172|"
   ]
  },
  {
   "cell_type": "markdown",
   "metadata": {},
   "source": [
    "#### Summary (Feature Set 2)"
   ]
  },
  {
   "cell_type": "markdown",
   "metadata": {},
   "source": [
    "Overall, Feature Set 2 performed much better than Feature Set 1 as only the top 50 features (based on Lasso coefficients) were used.\n",
    "\n",
    "| Ridge          |     |                |     |\n",
    "|----------------|-----|----------------|     |\n",
    "|Feature Set 1   |RMSE |Feature Set 2   |RMSE |\n",
    "|Cross validation|19950|Cross validation|20014|\n",
    "|Test predictions|58395|Test predictions|19112|\n",
    "\n",
    "| Lasso          |     |                |     |\n",
    "|----------------|-----|----------------|     |\n",
    "|Feature Set 1   |RMSE |Feature Set 2   |RMSE |\n",
    "|Cross validation|20837|Cross validation|20151|\n",
    "|Test predictions|50134|Test predictions|19172|\n",
    "\n",
    "| Enet           |     |                |     |\n",
    "|----------------|-----|----------------|     |\n",
    "|Feature Set 1   |RMSE |Feature Set 2   |RMSE |\n",
    "|Cross validation|20837|Cross validation|20151|\n",
    "|Test predictions|50134|Test predictions|19172|"
   ]
  },
  {
   "cell_type": "markdown",
   "metadata": {},
   "source": [
    "We can try to further reduce the number of features to 30 for Feature Set 3."
   ]
  },
  {
   "cell_type": "markdown",
   "metadata": {},
   "source": [
    "### Feature Set 3"
   ]
  },
  {
   "cell_type": "code",
   "execution_count": 18,
   "metadata": {},
   "outputs": [],
   "source": [
    "# Create Feature Set 3 based on top 30 coefficients\n",
    "feature_set_3 = list(top_lasso_coef.head(30)['feature'])"
   ]
  },
  {
   "cell_type": "code",
   "execution_count": 19,
   "metadata": {},
   "outputs": [],
   "source": [
    "# Create new train and test sets\n",
    "X_train_3 = X_train[feature_set_3]\n",
    "X_test_3 = X_test[feature_set_3]"
   ]
  },
  {
   "cell_type": "markdown",
   "metadata": {},
   "source": [
    "#### Ridge Regression"
   ]
  },
  {
   "cell_type": "code",
   "execution_count": 20,
   "metadata": {},
   "outputs": [
    {
     "name": "stdout",
     "output_type": "stream",
     "text": [
      "1.414991297434576\n"
     ]
    }
   ],
   "source": [
    "# Create Ridge Regression CV of training data of Feature Set 3\n",
    "ridge_alphas = np.logspace(0, 5, 200)\n",
    "\n",
    "optimal_ridge = RidgeCV(alphas=ridge_alphas, cv=5)\n",
    "optimal_ridge.fit(X_train_3, y_train)\n",
    "\n",
    "print(optimal_ridge.alpha_)"
   ]
  },
  {
   "cell_type": "code",
   "execution_count": 21,
   "metadata": {},
   "outputs": [
    {
     "data": {
      "text/plain": [
       "Ridge(alpha=1.414991297434576)"
      ]
     },
     "execution_count": 21,
     "metadata": {},
     "output_type": "execute_result"
    }
   ],
   "source": [
    "# Create Ridge Regression model with optimal alpha\n",
    "ridge = Ridge(alpha=optimal_ridge.alpha_)\n",
    "ridge.fit(X_train_3, y_train)"
   ]
  },
  {
   "cell_type": "code",
   "execution_count": 22,
   "metadata": {},
   "outputs": [
    {
     "data": {
      "text/plain": [
       "20165.271527197277"
      ]
     },
     "execution_count": 22,
     "metadata": {},
     "output_type": "execute_result"
    }
   ],
   "source": [
    "# Check cross val score (RMSE)\n",
    "abs(cross_val_score(ridge, X_train_3, y_train, cv=5, scoring='neg_root_mean_squared_error')).mean()"
   ]
  },
  {
   "cell_type": "code",
   "execution_count": 23,
   "metadata": {},
   "outputs": [
    {
     "data": {
      "text/plain": [
       "19213.26387075005"
      ]
     },
     "execution_count": 23,
     "metadata": {},
     "output_type": "execute_result"
    }
   ],
   "source": [
    "# Compare model predictions to test data (RMSE)\n",
    "mean_squared_error(y_test, ridge.predict(X_test_3), squared=False)"
   ]
  },
  {
   "cell_type": "markdown",
   "metadata": {},
   "source": [
    "The Ridge Regression model for Feature Set 3 performs similarly to Feature Set 2.\n",
    "\n",
    "| Ridge          |     |                |     |                |     |\n",
    "|----------------|-----|----------------|     |----------------|     |\n",
    "|Feature Set 1   |RMSE |Feature Set 2   |RMSE |Feature Set 3   |RMSE |\n",
    "|Cross validation|19950|Cross validation|20014|Cross validation|20165|\n",
    "|Test predictions|58395|Test predictions|19112|Test predictions|19213|"
   ]
  },
  {
   "cell_type": "markdown",
   "metadata": {},
   "source": [
    "#### Lasso Regression"
   ]
  },
  {
   "cell_type": "code",
   "execution_count": 24,
   "metadata": {},
   "outputs": [
    {
     "name": "stdout",
     "output_type": "stream",
     "text": [
      "82.23289058522015\n"
     ]
    }
   ],
   "source": [
    "# Create Lasso Regression CV of training data of Feature Set 3\n",
    "optimal_lasso = LassoCV(n_alphas=500, cv=5)\n",
    "optimal_lasso.fit(X_train_3, np.ravel(y_train))\n",
    "\n",
    "print(optimal_lasso.alpha_)"
   ]
  },
  {
   "cell_type": "code",
   "execution_count": 25,
   "metadata": {},
   "outputs": [
    {
     "data": {
      "text/plain": [
       "Lasso(alpha=82.23289058522015)"
      ]
     },
     "execution_count": 25,
     "metadata": {},
     "output_type": "execute_result"
    }
   ],
   "source": [
    "# Create Lasso Regression model with optimal alpha\n",
    "lasso = Lasso(alpha=optimal_lasso.alpha_)\n",
    "lasso.fit(X_train_3, y_train)"
   ]
  },
  {
   "cell_type": "code",
   "execution_count": 26,
   "metadata": {},
   "outputs": [
    {
     "data": {
      "text/plain": [
       "20262.486172452464"
      ]
     },
     "execution_count": 26,
     "metadata": {},
     "output_type": "execute_result"
    }
   ],
   "source": [
    "# Check cross val score (RMSE)\n",
    "abs(cross_val_score(lasso, X_train_3, y_train, cv=5, scoring='neg_root_mean_squared_error')).mean()"
   ]
  },
  {
   "cell_type": "code",
   "execution_count": 27,
   "metadata": {},
   "outputs": [
    {
     "data": {
      "text/plain": [
       "19326.15432645396"
      ]
     },
     "execution_count": 27,
     "metadata": {},
     "output_type": "execute_result"
    }
   ],
   "source": [
    "# Compare model predictions to test data (RMSE)\n",
    "mean_squared_error(y_test, lasso.predict(X_test_3), squared=False)"
   ]
  },
  {
   "cell_type": "markdown",
   "metadata": {},
   "source": [
    "The Lasso Regression of Feature Set 3 performs similarly to Feature Set 2.\n",
    "\n",
    "| Lasso          |     |                |     |                |     |\n",
    "|----------------|-----|----------------|     |----------------|     |\n",
    "|Feature Set 1   |RMSE |Feature Set 2   |RMSE |Feature Set 3   |RMSE |\n",
    "|Cross validation|20837|Cross validation|20151|Cross validation|20262|\n",
    "|Test predictions|50134|Test predictions|19172|Test predictions|19326|"
   ]
  },
  {
   "cell_type": "markdown",
   "metadata": {},
   "source": [
    "#### Elastic Net Regression"
   ]
  },
  {
   "cell_type": "code",
   "execution_count": 28,
   "metadata": {},
   "outputs": [
    {
     "data": {
      "text/plain": [
       "ElasticNetCV(cv=5,\n",
       "             l1_ratio=array([0.01   , 0.05125, 0.0925 , 0.13375, 0.175  , 0.21625, 0.2575 ,\n",
       "       0.29875, 0.34   , 0.38125, 0.4225 , 0.46375, 0.505  , 0.54625,\n",
       "       0.5875 , 0.62875, 0.67   , 0.71125, 0.7525 , 0.79375, 0.835  ,\n",
       "       0.87625, 0.9175 , 0.95875, 1.     ]))"
      ]
     },
     "execution_count": 28,
     "metadata": {},
     "output_type": "execute_result"
    }
   ],
   "source": [
    "# Create Enet Regression CV of training data of Feature Set 3\n",
    "l1_ratios = np.linspace(0.01, 1.0, 25)\n",
    "optimal_enet = ElasticNetCV(l1_ratio=l1_ratios, n_alphas=100, cv=5)\n",
    "optimal_enet.fit(X_train_3, np.ravel(y_train))"
   ]
  },
  {
   "cell_type": "code",
   "execution_count": 29,
   "metadata": {},
   "outputs": [
    {
     "name": "stdout",
     "output_type": "stream",
     "text": [
      "82.23289058522015 1.0\n"
     ]
    }
   ],
   "source": [
    "print(optimal_enet.alpha_, optimal_enet.l1_ratio_)"
   ]
  },
  {
   "cell_type": "code",
   "execution_count": 30,
   "metadata": {},
   "outputs": [
    {
     "data": {
      "text/plain": [
       "ElasticNet(alpha=82.23289058522015, l1_ratio=1.0)"
      ]
     },
     "execution_count": 30,
     "metadata": {},
     "output_type": "execute_result"
    }
   ],
   "source": [
    "# Enet Regression should perform similarly to Lasso, given optimal l1 = 1\n",
    "enet = ElasticNet(alpha=optimal_enet.alpha_, l1_ratio=optimal_enet.l1_ratio_)\n",
    "enet.fit(X_train_3, y_train)"
   ]
  },
  {
   "cell_type": "code",
   "execution_count": 31,
   "metadata": {},
   "outputs": [
    {
     "data": {
      "text/plain": [
       "20262.486172452464"
      ]
     },
     "execution_count": 31,
     "metadata": {},
     "output_type": "execute_result"
    }
   ],
   "source": [
    "# Check cross val score (RMSE)\n",
    "abs(cross_val_score(enet, X_train_3, y_train, cv=5, scoring='neg_root_mean_squared_error')).mean()"
   ]
  },
  {
   "cell_type": "code",
   "execution_count": 32,
   "metadata": {},
   "outputs": [
    {
     "data": {
      "text/plain": [
       "19326.15432645396"
      ]
     },
     "execution_count": 32,
     "metadata": {},
     "output_type": "execute_result"
    }
   ],
   "source": [
    "# Compare model predictions to test data (RMSE)\n",
    "mean_squared_error(y_test, enet.predict(X_test_3), squared=False)"
   ]
  },
  {
   "cell_type": "markdown",
   "metadata": {},
   "source": [
    "The Elastic Net regression of Feature Set 3 performs similarly to the Lasso Regression above, as l1_ratio = 1.\n",
    "\n",
    "| Enet           |     |                |     |                |     |\n",
    "|----------------|-----|----------------|     |----------------|     |\n",
    "|Feature Set 1   |RMSE |Feature Set 2   |RMSE |Feature Set 3   |RMSE |\n",
    "|Cross validation|20837|Cross validation|20151|Cross validation|20262|\n",
    "|Test predictions|50134|Test predictions|19172|Test predictions|19326|"
   ]
  },
  {
   "cell_type": "markdown",
   "metadata": {},
   "source": [
    "#### Summary (Feature Set 3)"
   ]
  },
  {
   "cell_type": "markdown",
   "metadata": {},
   "source": [
    "Overall, Feature Set 3 performed similarly to Feature Set 2, as it used a subset of the 50 features previously used.\n",
    "\n",
    "| Ridge          |     |                |     |                |     |\n",
    "|----------------|-----|----------------|     |----------------|     |\n",
    "|Feature Set 1   |RMSE |Feature Set 2   |RMSE |Feature Set 3   |RMSE |\n",
    "|Cross validation|19950|Cross validation|20014|Cross validation|20165|\n",
    "|Test predictions|58395|Test predictions|19112|Test predictions|19213|\n",
    "\n",
    "| Lasso          |     |                |     |                |     |\n",
    "|----------------|-----|----------------|     |----------------|     |\n",
    "|Feature Set 1   |RMSE |Feature Set 2   |RMSE |Feature Set 3   |RMSE |\n",
    "|Cross validation|20837|Cross validation|20151|Cross validation|20262|\n",
    "|Test predictions|50134|Test predictions|19172|Test predictions|19326|\n",
    "\n",
    "| Enet           |     |                |     |                |     |\n",
    "|----------------|-----|----------------|     |----------------|     |\n",
    "|Feature Set 1   |RMSE |Feature Set 2   |RMSE |Feature Set 3   |RMSE |\n",
    "|Cross validation|20837|Cross validation|20151|Cross validation|20262|\n",
    "|Test predictions|50134|Test predictions|19172|Test predictions|19326|"
   ]
  },
  {
   "cell_type": "markdown",
   "metadata": {},
   "source": [
    "### Feature Set 4"
   ]
  },
  {
   "cell_type": "markdown",
   "metadata": {},
   "source": [
    "For Feature Set 4, we can try using Polynomial Features to see if the model performs better with interaction features.\n",
    "\n",
    "We can set interaction_only = True for now to test only the interaction between features and to reduce complexity."
   ]
  },
  {
   "cell_type": "code",
   "execution_count": 33,
   "metadata": {},
   "outputs": [],
   "source": [
    "# Instantiate Polynomial Features with interaction only\n",
    "poly = PolynomialFeatures(interaction_only=True)"
   ]
  },
  {
   "cell_type": "code",
   "execution_count": 34,
   "metadata": {},
   "outputs": [],
   "source": [
    "X_train_4 = poly.fit_transform(X_train_3)\n",
    "X_test_4 = poly.transform(X_test_3)"
   ]
  },
  {
   "cell_type": "code",
   "execution_count": 35,
   "metadata": {},
   "outputs": [
    {
     "data": {
      "text/plain": [
       "(1458, 466)"
      ]
     },
     "execution_count": 35,
     "metadata": {},
     "output_type": "execute_result"
    }
   ],
   "source": [
    "# The number of columns has increased significantly, increasing the chances of overfitting.\n",
    "X_train_4.shape"
   ]
  },
  {
   "cell_type": "markdown",
   "metadata": {},
   "source": [
    "#### Ridge Regression"
   ]
  },
  {
   "cell_type": "code",
   "execution_count": 36,
   "metadata": {},
   "outputs": [
    {
     "name": "stdout",
     "output_type": "stream",
     "text": [
      "121.7382727739662\n"
     ]
    }
   ],
   "source": [
    "# Create Ridge Regression CV of training data of Feature Set 4\n",
    "ridge_alphas = np.logspace(0, 5, 200)\n",
    "\n",
    "optimal_ridge = RidgeCV(alphas=ridge_alphas, cv=5)\n",
    "optimal_ridge.fit(X_train_4, y_train)\n",
    "\n",
    "print(optimal_ridge.alpha_)"
   ]
  },
  {
   "cell_type": "code",
   "execution_count": 37,
   "metadata": {},
   "outputs": [
    {
     "data": {
      "text/plain": [
       "Ridge(alpha=121.7382727739662)"
      ]
     },
     "execution_count": 37,
     "metadata": {},
     "output_type": "execute_result"
    }
   ],
   "source": [
    "# Create Ridge Regression model with optimal alpha\n",
    "ridge = Ridge(alpha=optimal_ridge.alpha_)\n",
    "ridge.fit(X_train_4, y_train)"
   ]
  },
  {
   "cell_type": "code",
   "execution_count": 38,
   "metadata": {},
   "outputs": [
    {
     "data": {
      "text/plain": [
       "18581.69354963295"
      ]
     },
     "execution_count": 38,
     "metadata": {},
     "output_type": "execute_result"
    }
   ],
   "source": [
    "# Check cross val score (RMSE)\n",
    "abs(cross_val_score(ridge, X_train_4, y_train, cv=5, scoring='neg_root_mean_squared_error')).mean()"
   ]
  },
  {
   "cell_type": "code",
   "execution_count": 39,
   "metadata": {},
   "outputs": [
    {
     "data": {
      "text/plain": [
       "18173.034009579802"
      ]
     },
     "execution_count": 39,
     "metadata": {},
     "output_type": "execute_result"
    }
   ],
   "source": [
    "# Compare model predictions to test data (RMSE)\n",
    "mean_squared_error(y_test, ridge.predict(X_test_4), squared=False)"
   ]
  },
  {
   "cell_type": "markdown",
   "metadata": {},
   "source": [
    "The Ridge Regression model for Feature Set 4 performs better than Feature Set 3.\n",
    "\n",
    "| Ridge          |     |                |     |                |     |                |     |\n",
    "|----------------|-----|----------------|     |----------------|     |----------------|     |\n",
    "|Feature Set 1   |RMSE |Feature Set 2   |RMSE |Feature Set 3   |RMSE |Feature Set 4   |RMSE |\n",
    "|Cross validation|19950|Cross validation|20014|Cross validation|20165|Cross validation|18581|\n",
    "|Test predictions|58395|Test predictions|19112|Test predictions|19213|Test predictions|18173|"
   ]
  },
  {
   "cell_type": "markdown",
   "metadata": {},
   "source": [
    "#### Lasso Regression"
   ]
  },
  {
   "cell_type": "code",
   "execution_count": 40,
   "metadata": {},
   "outputs": [
    {
     "name": "stdout",
     "output_type": "stream",
     "text": [
      "374.7157283649545\n"
     ]
    }
   ],
   "source": [
    "# Create Lasso Regression CV of training data of Feature Set 4\n",
    "optimal_lasso = LassoCV(n_alphas=500, cv=5)\n",
    "optimal_lasso.fit(X_train_4, np.ravel(y_train))\n",
    "\n",
    "print(optimal_lasso.alpha_)"
   ]
  },
  {
   "cell_type": "code",
   "execution_count": 41,
   "metadata": {},
   "outputs": [
    {
     "data": {
      "text/plain": [
       "Lasso(alpha=374.7157283649545)"
      ]
     },
     "execution_count": 41,
     "metadata": {},
     "output_type": "execute_result"
    }
   ],
   "source": [
    "# Create Lasso Regression model with optimal alpha\n",
    "lasso = Lasso(alpha=optimal_lasso.alpha_)\n",
    "lasso.fit(X_train_4, y_train)"
   ]
  },
  {
   "cell_type": "code",
   "execution_count": 42,
   "metadata": {},
   "outputs": [
    {
     "data": {
      "text/plain": [
       "18783.71985654378"
      ]
     },
     "execution_count": 42,
     "metadata": {},
     "output_type": "execute_result"
    }
   ],
   "source": [
    "# Check cross val score (RMSE)\n",
    "abs(cross_val_score(lasso, X_train_4, y_train, cv=5, scoring='neg_root_mean_squared_error')).mean()"
   ]
  },
  {
   "cell_type": "code",
   "execution_count": 43,
   "metadata": {},
   "outputs": [
    {
     "data": {
      "text/plain": [
       "18472.730984884824"
      ]
     },
     "execution_count": 43,
     "metadata": {},
     "output_type": "execute_result"
    }
   ],
   "source": [
    "# Compare model predictions to test data (RMSE)\n",
    "mean_squared_error(y_test, lasso.predict(X_test_4), squared=False)"
   ]
  },
  {
   "cell_type": "markdown",
   "metadata": {},
   "source": [
    "The Lasso Regression of Feature Set 4 performs similarly to the Ridge Regression above.\n",
    "\n",
    "| Lasso          |     |                |     |                |     |                |     |\n",
    "|----------------|-----|----------------|     |----------------|     |----------------|     |\n",
    "|Feature Set 1   |RMSE |Feature Set 2   |RMSE |Feature Set 3   |RMSE |Feature Set 4   |RMSE |\n",
    "|Cross validation|20837|Cross validation|20151|Cross validation|20262|Cross validation|18783|\n",
    "|Test predictions|50134|Test predictions|19172|Test predictions|19326|Test predictions|18472|"
   ]
  },
  {
   "cell_type": "markdown",
   "metadata": {},
   "source": [
    "#### Elastic Net Regression"
   ]
  },
  {
   "cell_type": "code",
   "execution_count": 44,
   "metadata": {},
   "outputs": [
    {
     "data": {
      "text/plain": [
       "ElasticNetCV(cv=5,\n",
       "             l1_ratio=array([0.01   , 0.05125, 0.0925 , 0.13375, 0.175  , 0.21625, 0.2575 ,\n",
       "       0.29875, 0.34   , 0.38125, 0.4225 , 0.46375, 0.505  , 0.54625,\n",
       "       0.5875 , 0.62875, 0.67   , 0.71125, 0.7525 , 0.79375, 0.835  ,\n",
       "       0.87625, 0.9175 , 0.95875, 1.     ]))"
      ]
     },
     "execution_count": 44,
     "metadata": {},
     "output_type": "execute_result"
    }
   ],
   "source": [
    "# Create Enet Regression CV of training data of Feature Set 4\n",
    "l1_ratios = np.linspace(0.01, 1.0, 25)\n",
    "optimal_enet = ElasticNetCV(l1_ratio=l1_ratios, n_alphas=100, cv=5)\n",
    "optimal_enet.fit(X_train_4, np.ravel(y_train))"
   ]
  },
  {
   "cell_type": "code",
   "execution_count": 45,
   "metadata": {},
   "outputs": [
    {
     "name": "stdout",
     "output_type": "stream",
     "text": [
      "374.7157283649545 1.0\n"
     ]
    }
   ],
   "source": [
    "print(optimal_enet.alpha_, optimal_enet.l1_ratio_)"
   ]
  },
  {
   "cell_type": "code",
   "execution_count": 46,
   "metadata": {},
   "outputs": [
    {
     "data": {
      "text/plain": [
       "ElasticNet(alpha=374.7157283649545, l1_ratio=1.0)"
      ]
     },
     "execution_count": 46,
     "metadata": {},
     "output_type": "execute_result"
    }
   ],
   "source": [
    "# Enet Regression should perform similarly to Lasso, given optimal l1 = 1\n",
    "enet = ElasticNet(alpha=optimal_enet.alpha_, l1_ratio=optimal_enet.l1_ratio_)\n",
    "enet.fit(X_train_4, y_train)"
   ]
  },
  {
   "cell_type": "code",
   "execution_count": 47,
   "metadata": {},
   "outputs": [
    {
     "data": {
      "text/plain": [
       "18783.71985654378"
      ]
     },
     "execution_count": 47,
     "metadata": {},
     "output_type": "execute_result"
    }
   ],
   "source": [
    "# Check cross val score (RMSE)\n",
    "abs(cross_val_score(enet, X_train_4, y_train, cv=5, scoring='neg_root_mean_squared_error')).mean()"
   ]
  },
  {
   "cell_type": "code",
   "execution_count": 48,
   "metadata": {},
   "outputs": [
    {
     "data": {
      "text/plain": [
       "18472.730984884824"
      ]
     },
     "execution_count": 48,
     "metadata": {},
     "output_type": "execute_result"
    }
   ],
   "source": [
    "# Compare model predictions to test data (RMSE)\n",
    "mean_squared_error(y_test, enet.predict(X_test_4), squared=False)"
   ]
  },
  {
   "cell_type": "markdown",
   "metadata": {},
   "source": [
    "The Elastic Net regression of Feature Set 4 performs similarly to the Lasso Regression above, as l1_ratio = 1.\n",
    "\n",
    "| Enet           |     |                |     |                |     |                |     |\n",
    "|----------------|-----|----------------|     |----------------|     |----------------|     |\n",
    "|Feature Set 1   |RMSE |Feature Set 2   |RMSE |Feature Set 3   |RMSE |Feature Set 4   |RMSE |\n",
    "|Cross validation|20837|Cross validation|20151|Cross validation|20262|Cross validation|18783|\n",
    "|Test predictions|50134|Test predictions|19172|Test predictions|19326|Test predictions|18472|"
   ]
  },
  {
   "cell_type": "markdown",
   "metadata": {},
   "source": [
    "#### Summary (Feature Set 4)"
   ]
  },
  {
   "cell_type": "markdown",
   "metadata": {},
   "source": [
    "Overall, Feature Set 4 performed slightly better than Feature Set 3, with the inclusion of interaction features.\n",
    "\n",
    "| Ridge          |     |                |     |                |     |                |     |\n",
    "|----------------|-----|----------------|     |----------------|     |----------------|     |\n",
    "|Feature Set 1   |RMSE |Feature Set 2   |RMSE |Feature Set 3   |RMSE |Feature Set 4   |RMSE |\n",
    "|Cross validation|19950|Cross validation|20014|Cross validation|20165|Cross validation|18581|\n",
    "|Test predictions|58395|Test predictions|19112|Test predictions|19213|Test predictions|18173|\n",
    "\n",
    "| Lasso          |     |                |     |                |     |                |     |\n",
    "|----------------|-----|----------------|     |----------------|     |----------------|     |\n",
    "|Feature Set 1   |RMSE |Feature Set 2   |RMSE |Feature Set 3   |RMSE |Feature Set 4   |RMSE |\n",
    "|Cross validation|20837|Cross validation|20151|Cross validation|20262|Cross validation|18783|\n",
    "|Test predictions|50134|Test predictions|19172|Test predictions|19326|Test predictions|18472|\n",
    "\n",
    "| Enet           |     |                |     |                |     |                |     |\n",
    "|----------------|-----|----------------|     |----------------|     |----------------|     |\n",
    "|Feature Set 1   |RMSE |Feature Set 2   |RMSE |Feature Set 3   |RMSE |Feature Set 4   |RMSE |\n",
    "|Cross validation|20837|Cross validation|20151|Cross validation|20262|Cross validation|18783|\n",
    "|Test predictions|50134|Test predictions|19172|Test predictions|19326|Test predictions|18472|"
   ]
  },
  {
   "cell_type": "markdown",
   "metadata": {},
   "source": [
    "### Feature Set 5"
   ]
  },
  {
   "cell_type": "code",
   "execution_count": 49,
   "metadata": {
    "scrolled": true
   },
   "outputs": [
    {
     "data": {
      "text/html": [
       "<div>\n",
       "<style scoped>\n",
       "    .dataframe tbody tr th:only-of-type {\n",
       "        vertical-align: middle;\n",
       "    }\n",
       "\n",
       "    .dataframe tbody tr th {\n",
       "        vertical-align: top;\n",
       "    }\n",
       "\n",
       "    .dataframe thead th {\n",
       "        text-align: right;\n",
       "    }\n",
       "</style>\n",
       "<table border=\"1\" class=\"dataframe\">\n",
       "  <thead>\n",
       "    <tr style=\"text-align: right;\">\n",
       "      <th></th>\n",
       "      <th>feature</th>\n",
       "      <th>coef</th>\n",
       "      <th>abs_coef</th>\n",
       "    </tr>\n",
       "  </thead>\n",
       "  <tbody>\n",
       "    <tr>\n",
       "      <th>46</th>\n",
       "      <td>Gr Liv Area Bldg Type_1Fam</td>\n",
       "      <td>3995.500010</td>\n",
       "      <td>3995.500010</td>\n",
       "    </tr>\n",
       "    <tr>\n",
       "      <th>258</th>\n",
       "      <td>Total Bsmt SF BsmtFin Type 1_GLQ</td>\n",
       "      <td>3562.932523</td>\n",
       "      <td>3562.932523</td>\n",
       "    </tr>\n",
       "    <tr>\n",
       "      <th>145</th>\n",
       "      <td>Bsmt Exposure_Gd Total Bsmt SF</td>\n",
       "      <td>3404.750463</td>\n",
       "      <td>3404.750463</td>\n",
       "    </tr>\n",
       "    <tr>\n",
       "      <th>240</th>\n",
       "      <td>Overall Qual Exterior 1st_BrkFace</td>\n",
       "      <td>2647.844422</td>\n",
       "      <td>2647.844422</td>\n",
       "    </tr>\n",
       "    <tr>\n",
       "      <th>225</th>\n",
       "      <td>Neighborhood_Crawfor Overall Cond</td>\n",
       "      <td>2610.817782</td>\n",
       "      <td>2610.817782</td>\n",
       "    </tr>\n",
       "    <tr>\n",
       "      <th>239</th>\n",
       "      <td>Overall Qual Year Built</td>\n",
       "      <td>2265.466465</td>\n",
       "      <td>2265.466465</td>\n",
       "    </tr>\n",
       "    <tr>\n",
       "      <th>38</th>\n",
       "      <td>Gr Liv Area Overall Qual</td>\n",
       "      <td>2254.036962</td>\n",
       "      <td>2254.036962</td>\n",
       "    </tr>\n",
       "    <tr>\n",
       "      <th>9</th>\n",
       "      <td>Overall Qual</td>\n",
       "      <td>2093.026051</td>\n",
       "      <td>2093.026051</td>\n",
       "    </tr>\n",
       "    <tr>\n",
       "      <th>119</th>\n",
       "      <td>Neighborhood_NridgHt Overall Qual</td>\n",
       "      <td>2047.273924</td>\n",
       "      <td>2047.273924</td>\n",
       "    </tr>\n",
       "    <tr>\n",
       "      <th>236</th>\n",
       "      <td>Overall Qual Neighborhood_StoneBr</td>\n",
       "      <td>1993.223509</td>\n",
       "      <td>1993.223509</td>\n",
       "    </tr>\n",
       "    <tr>\n",
       "      <th>245</th>\n",
       "      <td>Overall Qual Condition 1_Artery</td>\n",
       "      <td>-1705.909227</td>\n",
       "      <td>1705.909227</td>\n",
       "    </tr>\n",
       "    <tr>\n",
       "      <th>66</th>\n",
       "      <td>Kitchen Qual_Ex Overall Qual</td>\n",
       "      <td>1649.333238</td>\n",
       "      <td>1649.333238</td>\n",
       "    </tr>\n",
       "    <tr>\n",
       "      <th>144</th>\n",
       "      <td>Bsmt Exposure_Gd Overall Qual</td>\n",
       "      <td>1569.320791</td>\n",
       "      <td>1569.320791</td>\n",
       "    </tr>\n",
       "    <tr>\n",
       "      <th>378</th>\n",
       "      <td>Bldg Type_1Fam Overall Cond</td>\n",
       "      <td>1548.060280</td>\n",
       "      <td>1548.060280</td>\n",
       "    </tr>\n",
       "    <tr>\n",
       "      <th>241</th>\n",
       "      <td>Overall Qual Sale Type_New</td>\n",
       "      <td>1507.323130</td>\n",
       "      <td>1507.323130</td>\n",
       "    </tr>\n",
       "    <tr>\n",
       "      <th>423</th>\n",
       "      <td>Overall Cond Neighborhood_Somerst</td>\n",
       "      <td>1471.537843</td>\n",
       "      <td>1471.537843</td>\n",
       "    </tr>\n",
       "    <tr>\n",
       "      <th>237</th>\n",
       "      <td>Overall Qual BsmtFin Type 1_Unf</td>\n",
       "      <td>-1411.428972</td>\n",
       "      <td>1411.428972</td>\n",
       "    </tr>\n",
       "    <tr>\n",
       "      <th>246</th>\n",
       "      <td>Overall Qual Overall Cond</td>\n",
       "      <td>1257.024876</td>\n",
       "      <td>1257.024876</td>\n",
       "    </tr>\n",
       "    <tr>\n",
       "      <th>93</th>\n",
       "      <td>Bsmt Qual_Ex Overall Qual</td>\n",
       "      <td>1227.538472</td>\n",
       "      <td>1227.538472</td>\n",
       "    </tr>\n",
       "    <tr>\n",
       "      <th>429</th>\n",
       "      <td>Overall Cond Bldg Type_2fmCon</td>\n",
       "      <td>1160.100960</td>\n",
       "      <td>1160.100960</td>\n",
       "    </tr>\n",
       "    <tr>\n",
       "      <th>242</th>\n",
       "      <td>Overall Qual Bldg Type_1Fam</td>\n",
       "      <td>1149.292696</td>\n",
       "      <td>1149.292696</td>\n",
       "    </tr>\n",
       "    <tr>\n",
       "      <th>243</th>\n",
       "      <td>Overall Qual Garage Area</td>\n",
       "      <td>1121.075029</td>\n",
       "      <td>1121.075029</td>\n",
       "    </tr>\n",
       "    <tr>\n",
       "      <th>251</th>\n",
       "      <td>Overall Qual Foundation_PConc</td>\n",
       "      <td>1053.436601</td>\n",
       "      <td>1053.436601</td>\n",
       "    </tr>\n",
       "    <tr>\n",
       "      <th>248</th>\n",
       "      <td>Overall Qual Fireplace Qu_NA</td>\n",
       "      <td>-1050.743770</td>\n",
       "      <td>1050.743770</td>\n",
       "    </tr>\n",
       "    <tr>\n",
       "      <th>235</th>\n",
       "      <td>Overall Qual Total Bsmt SF</td>\n",
       "      <td>970.166351</td>\n",
       "      <td>970.166351</td>\n",
       "    </tr>\n",
       "    <tr>\n",
       "      <th>238</th>\n",
       "      <td>Overall Qual BsmtFin Type 1_GLQ</td>\n",
       "      <td>969.393601</td>\n",
       "      <td>969.393601</td>\n",
       "    </tr>\n",
       "    <tr>\n",
       "      <th>55</th>\n",
       "      <td>Gr Liv Area Foundation_PConc</td>\n",
       "      <td>945.606336</td>\n",
       "      <td>945.606336</td>\n",
       "    </tr>\n",
       "    <tr>\n",
       "      <th>191</th>\n",
       "      <td>Neighborhood_NoRidge Overall Qual</td>\n",
       "      <td>824.326976</td>\n",
       "      <td>824.326976</td>\n",
       "    </tr>\n",
       "    <tr>\n",
       "      <th>50</th>\n",
       "      <td>Gr Liv Area Overall Cond</td>\n",
       "      <td>817.179921</td>\n",
       "      <td>817.179921</td>\n",
       "    </tr>\n",
       "    <tr>\n",
       "      <th>271</th>\n",
       "      <td>Total Bsmt SF Foundation_PConc</td>\n",
       "      <td>792.339923</td>\n",
       "      <td>792.339923</td>\n",
       "    </tr>\n",
       "  </tbody>\n",
       "</table>\n",
       "</div>"
      ],
      "text/plain": [
       "                               feature         coef     abs_coef\n",
       "46          Gr Liv Area Bldg Type_1Fam  3995.500010  3995.500010\n",
       "258   Total Bsmt SF BsmtFin Type 1_GLQ  3562.932523  3562.932523\n",
       "145     Bsmt Exposure_Gd Total Bsmt SF  3404.750463  3404.750463\n",
       "240  Overall Qual Exterior 1st_BrkFace  2647.844422  2647.844422\n",
       "225  Neighborhood_Crawfor Overall Cond  2610.817782  2610.817782\n",
       "239            Overall Qual Year Built  2265.466465  2265.466465\n",
       "38            Gr Liv Area Overall Qual  2254.036962  2254.036962\n",
       "9                         Overall Qual  2093.026051  2093.026051\n",
       "119  Neighborhood_NridgHt Overall Qual  2047.273924  2047.273924\n",
       "236  Overall Qual Neighborhood_StoneBr  1993.223509  1993.223509\n",
       "245    Overall Qual Condition 1_Artery -1705.909227  1705.909227\n",
       "66        Kitchen Qual_Ex Overall Qual  1649.333238  1649.333238\n",
       "144      Bsmt Exposure_Gd Overall Qual  1569.320791  1569.320791\n",
       "378        Bldg Type_1Fam Overall Cond  1548.060280  1548.060280\n",
       "241         Overall Qual Sale Type_New  1507.323130  1507.323130\n",
       "423  Overall Cond Neighborhood_Somerst  1471.537843  1471.537843\n",
       "237    Overall Qual BsmtFin Type 1_Unf -1411.428972  1411.428972\n",
       "246          Overall Qual Overall Cond  1257.024876  1257.024876\n",
       "93           Bsmt Qual_Ex Overall Qual  1227.538472  1227.538472\n",
       "429      Overall Cond Bldg Type_2fmCon  1160.100960  1160.100960\n",
       "242        Overall Qual Bldg Type_1Fam  1149.292696  1149.292696\n",
       "243           Overall Qual Garage Area  1121.075029  1121.075029\n",
       "251      Overall Qual Foundation_PConc  1053.436601  1053.436601\n",
       "248       Overall Qual Fireplace Qu_NA -1050.743770  1050.743770\n",
       "235         Overall Qual Total Bsmt SF   970.166351   970.166351\n",
       "238    Overall Qual BsmtFin Type 1_GLQ   969.393601   969.393601\n",
       "55        Gr Liv Area Foundation_PConc   945.606336   945.606336\n",
       "191  Neighborhood_NoRidge Overall Qual   824.326976   824.326976\n",
       "50            Gr Liv Area Overall Cond   817.179921   817.179921\n",
       "271     Total Bsmt SF Foundation_PConc   792.339923   792.339923"
      ]
     },
     "execution_count": 49,
     "metadata": {},
     "output_type": "execute_result"
    }
   ],
   "source": [
    "# Obtain new set of best Lasso coefficients\n",
    "lasso_coefs = pd.DataFrame({'feature': poly.get_feature_names(X_train_3.columns),\n",
    "                            'coef':lasso.coef_,\n",
    "                            'abs_coef':np.abs(lasso.coef_)})\n",
    "lasso_coefs.sort_values('abs_coef', inplace=True, ascending=False)\n",
    "lasso_coefs.head(30)"
   ]
  },
  {
   "cell_type": "code",
   "execution_count": 50,
   "metadata": {},
   "outputs": [],
   "source": [
    "# Create feature_set_5 from the top 30 interaction features\n",
    "feature_set_5 = list(lasso_coefs.head(30)['feature'])\n",
    "\n",
    "# Create train and test datasets using Feature Set 5\n",
    "X_train_5 = pd.DataFrame(X_train_4, columns=poly.get_feature_names(X_train_3.columns))[feature_set_5]\n",
    "X_test_5 = pd.DataFrame(X_test_4, columns=poly.get_feature_names(X_test_3.columns))[feature_set_5]"
   ]
  },
  {
   "cell_type": "markdown",
   "metadata": {},
   "source": [
    "#### Ridge Regression"
   ]
  },
  {
   "cell_type": "code",
   "execution_count": 51,
   "metadata": {},
   "outputs": [
    {
     "name": "stdout",
     "output_type": "stream",
     "text": [
      "4.768611697714471\n"
     ]
    }
   ],
   "source": [
    "# Create Ridge Regression CV of training data of Feature Set 5\n",
    "ridge_alphas = np.logspace(0, 5, 200)\n",
    "\n",
    "optimal_ridge = RidgeCV(alphas=ridge_alphas, cv=5)\n",
    "optimal_ridge.fit(X_train_5, y_train)\n",
    "\n",
    "print(optimal_ridge.alpha_)"
   ]
  },
  {
   "cell_type": "code",
   "execution_count": 52,
   "metadata": {},
   "outputs": [
    {
     "data": {
      "text/plain": [
       "Ridge(alpha=4.768611697714471)"
      ]
     },
     "execution_count": 52,
     "metadata": {},
     "output_type": "execute_result"
    }
   ],
   "source": [
    "# Create Ridge Regression model with optimal alpha\n",
    "ridge = Ridge(alpha=optimal_ridge.alpha_)\n",
    "ridge.fit(X_train_5, y_train)"
   ]
  },
  {
   "cell_type": "code",
   "execution_count": 53,
   "metadata": {},
   "outputs": [
    {
     "data": {
      "text/plain": [
       "18415.197524725267"
      ]
     },
     "execution_count": 53,
     "metadata": {},
     "output_type": "execute_result"
    }
   ],
   "source": [
    "# Check cross val score (RMSE)\n",
    "abs(cross_val_score(ridge, X_train_5, y_train, cv=5, scoring='neg_root_mean_squared_error')).mean()"
   ]
  },
  {
   "cell_type": "code",
   "execution_count": 54,
   "metadata": {},
   "outputs": [
    {
     "data": {
      "text/plain": [
       "18474.92082659599"
      ]
     },
     "execution_count": 54,
     "metadata": {},
     "output_type": "execute_result"
    }
   ],
   "source": [
    "# Compare model predictions to test data (RMSE)\n",
    "mean_squared_error(y_test, ridge.predict(X_test_5), squared=False)"
   ]
  },
  {
   "cell_type": "markdown",
   "metadata": {},
   "source": [
    "The Ridge Regression model for Feature Set 5 performs similarly to Feature Set 4.\n",
    "\n",
    "| Ridge          |     |                |     |                |     |                |     |                |     |\n",
    "|----------------|-----|----------------|     |----------------|     |----------------|     |----------------|     |\n",
    "|Feature Set 1   |RMSE |Feature Set 2   |RMSE |Feature Set 3   |RMSE |Feature Set 4   |RMSE |Feature Set 5   |RMSE |\n",
    "|Cross validation|19950|Cross validation|20014|Cross validation|20165|Cross validation|18581|Cross validation|18415|\n",
    "|Test predictions|58395|Test predictions|19112|Test predictions|19213|Test predictions|18173|Test predictions|18474|"
   ]
  },
  {
   "cell_type": "markdown",
   "metadata": {},
   "source": [
    "#### Lasso Regression"
   ]
  },
  {
   "cell_type": "code",
   "execution_count": 55,
   "metadata": {},
   "outputs": [
    {
     "name": "stdout",
     "output_type": "stream",
     "text": [
      "374.7157283649552\n"
     ]
    }
   ],
   "source": [
    "# Create Lasso Regression CV of training data of Feature Set 5\n",
    "optimal_lasso = LassoCV(n_alphas=500, cv=5)\n",
    "optimal_lasso.fit(X_train_5, np.ravel(y_train))\n",
    "\n",
    "print(optimal_lasso.alpha_)"
   ]
  },
  {
   "cell_type": "code",
   "execution_count": 56,
   "metadata": {},
   "outputs": [
    {
     "data": {
      "text/plain": [
       "Lasso(alpha=374.7157283649552)"
      ]
     },
     "execution_count": 56,
     "metadata": {},
     "output_type": "execute_result"
    }
   ],
   "source": [
    "# Create Lasso Regression model with optimal alpha\n",
    "lasso = Lasso(alpha=optimal_lasso.alpha_)\n",
    "lasso.fit(X_train_5, y_train)"
   ]
  },
  {
   "cell_type": "code",
   "execution_count": 57,
   "metadata": {},
   "outputs": [
    {
     "data": {
      "text/plain": [
       "18660.02669649224"
      ]
     },
     "execution_count": 57,
     "metadata": {},
     "output_type": "execute_result"
    }
   ],
   "source": [
    "# Check cross val score (RMSE)\n",
    "abs(cross_val_score(lasso, X_train_5, y_train, cv=5, scoring='neg_root_mean_squared_error')).mean()"
   ]
  },
  {
   "cell_type": "code",
   "execution_count": 58,
   "metadata": {},
   "outputs": [
    {
     "data": {
      "text/plain": [
       "18514.929784812284"
      ]
     },
     "execution_count": 58,
     "metadata": {},
     "output_type": "execute_result"
    }
   ],
   "source": [
    "# Compare model predictions to test data (RMSE)\n",
    "mean_squared_error(y_test, lasso.predict(X_test_5), squared=False)"
   ]
  },
  {
   "cell_type": "markdown",
   "metadata": {},
   "source": [
    "The Lasso Regression of Feature Set 5 performs similarly to the Ridge Regression above.\n",
    "\n",
    "| Lasso          |     |                |     |                |     |                |     |                |     |\n",
    "|----------------|-----|----------------|     |----------------|     |----------------|     |----------------|     |\n",
    "|Feature Set 1   |RMSE |Feature Set 2   |RMSE |Feature Set 3   |RMSE |Feature Set 4   |RMSE |Feature Set 5   |RMSE |\n",
    "|Cross validation|20837|Cross validation|20151|Cross validation|20262|Cross validation|18783|Cross validation|18660|\n",
    "|Test predictions|50134|Test predictions|19172|Test predictions|19326|Test predictions|18472|Test predictions|18514|"
   ]
  },
  {
   "cell_type": "markdown",
   "metadata": {},
   "source": [
    "#### Elastic Net Regression"
   ]
  },
  {
   "cell_type": "code",
   "execution_count": 59,
   "metadata": {},
   "outputs": [
    {
     "data": {
      "text/plain": [
       "ElasticNetCV(cv=5,\n",
       "             l1_ratio=array([0.01   , 0.05125, 0.0925 , 0.13375, 0.175  , 0.21625, 0.2575 ,\n",
       "       0.29875, 0.34   , 0.38125, 0.4225 , 0.46375, 0.505  , 0.54625,\n",
       "       0.5875 , 0.62875, 0.67   , 0.71125, 0.7525 , 0.79375, 0.835  ,\n",
       "       0.87625, 0.9175 , 0.95875, 1.     ]))"
      ]
     },
     "execution_count": 59,
     "metadata": {},
     "output_type": "execute_result"
    }
   ],
   "source": [
    "# Create Enet Regression CV of training data of Feature Set 5\n",
    "l1_ratios = np.linspace(0.01, 1.0, 25)\n",
    "optimal_enet = ElasticNetCV(l1_ratio=l1_ratios, n_alphas=100, cv=5)\n",
    "optimal_enet.fit(X_train_5, np.ravel(y_train))"
   ]
  },
  {
   "cell_type": "code",
   "execution_count": 60,
   "metadata": {},
   "outputs": [
    {
     "name": "stdout",
     "output_type": "stream",
     "text": [
      "374.7157283649552 1.0\n"
     ]
    }
   ],
   "source": [
    "print(optimal_enet.alpha_, optimal_enet.l1_ratio_)"
   ]
  },
  {
   "cell_type": "code",
   "execution_count": 61,
   "metadata": {},
   "outputs": [
    {
     "data": {
      "text/plain": [
       "ElasticNet(alpha=374.7157283649552, l1_ratio=1.0)"
      ]
     },
     "execution_count": 61,
     "metadata": {},
     "output_type": "execute_result"
    }
   ],
   "source": [
    "# Enet Regression should perform similarly to Lasso, given optimal l1 = 1\n",
    "enet = ElasticNet(alpha=optimal_enet.alpha_, l1_ratio=optimal_enet.l1_ratio_)\n",
    "enet.fit(X_train_5, y_train)"
   ]
  },
  {
   "cell_type": "code",
   "execution_count": 62,
   "metadata": {},
   "outputs": [
    {
     "data": {
      "text/plain": [
       "18660.02669649224"
      ]
     },
     "execution_count": 62,
     "metadata": {},
     "output_type": "execute_result"
    }
   ],
   "source": [
    "# Check cross val score (RMSE)\n",
    "abs(cross_val_score(enet, X_train_5, y_train, cv=5, scoring='neg_root_mean_squared_error')).mean()"
   ]
  },
  {
   "cell_type": "code",
   "execution_count": 63,
   "metadata": {},
   "outputs": [
    {
     "data": {
      "text/plain": [
       "18514.929784812284"
      ]
     },
     "execution_count": 63,
     "metadata": {},
     "output_type": "execute_result"
    }
   ],
   "source": [
    "# Compare model predictions to test data (RMSE)\n",
    "mean_squared_error(y_test, enet.predict(X_test_5), squared=False)"
   ]
  },
  {
   "cell_type": "markdown",
   "metadata": {},
   "source": [
    "The Elastic Net regression of Feature Set 5 performs similarly to the Lasso Regression above, as l1_ratio = 1.\n",
    "\n",
    "| Enet           |     |                |     |                |     |                |     |                |     |\n",
    "|----------------|-----|----------------|     |----------------|     |----------------|     |----------------|     |\n",
    "|Feature Set 1   |RMSE |Feature Set 2   |RMSE |Feature Set 3   |RMSE |Feature Set 4   |RMSE |Feature Set 5   |RMSE |\n",
    "|Cross validation|20837|Cross validation|20151|Cross validation|20262|Cross validation|18783|Cross validation|18660|\n",
    "|Test predictions|50134|Test predictions|19172|Test predictions|19326|Test predictions|18472|Test predictions|18514|"
   ]
  },
  {
   "cell_type": "markdown",
   "metadata": {},
   "source": [
    "#### Summary (Feature Set 5)"
   ]
  },
  {
   "cell_type": "markdown",
   "metadata": {},
   "source": [
    "Overall, Feature 5 has performed the best, given the low RMSE scores and low (30) number of features.\n",
    "\n",
    "| Ridge          |     |                |     |                |     |                |     |                |     |\n",
    "|----------------|-----|----------------|     |----------------|     |----------------|     |----------------|     |\n",
    "|Feature Set 1   |RMSE |Feature Set 2   |RMSE |Feature Set 3   |RMSE |Feature Set 4   |RMSE |Feature Set 5   |RMSE |\n",
    "|Cross validation|19950|Cross validation|20014|Cross validation|20165|Cross validation|18581|Cross validation|18415|\n",
    "|Test predictions|58395|Test predictions|19112|Test predictions|19213|Test predictions|18173|Test predictions|18474|\n",
    "\n",
    "| Lasso          |     |                |     |                |     |                |     |                |     |\n",
    "|----------------|-----|----------------|     |----------------|     |----------------|     |----------------|     |\n",
    "|Feature Set 1   |RMSE |Feature Set 2   |RMSE |Feature Set 3   |RMSE |Feature Set 4   |RMSE |Feature Set 5   |RMSE |\n",
    "|Cross validation|20837|Cross validation|20151|Cross validation|20262|Cross validation|18783|Cross validation|18660|\n",
    "|Test predictions|50134|Test predictions|19172|Test predictions|19326|Test predictions|18472|Test predictions|18514|\n",
    "\n",
    "| Enet           |     |                |     |                |     |                |     |                |     |\n",
    "|----------------|-----|----------------|     |----------------|     |----------------|     |----------------|     |\n",
    "|Feature Set 1   |RMSE |Feature Set 2   |RMSE |Feature Set 3   |RMSE |Feature Set 4   |RMSE |Feature Set 5   |RMSE |\n",
    "|Cross validation|20837|Cross validation|20151|Cross validation|20262|Cross validation|18783|Cross validation|18660|\n",
    "|Test predictions|50134|Test predictions|19172|Test predictions|19326|Test predictions|18472|Test predictions|18514|"
   ]
  },
  {
   "cell_type": "markdown",
   "metadata": {},
   "source": [
    "We will use Feature Set 5 to build our final model for Kaggle submission. Based on the cross validation and test prediction RMSE scores, the Ridge Regression model of Feature Set 5 seems to have performed the best out of the 3."
   ]
  },
  {
   "cell_type": "markdown",
   "metadata": {},
   "source": [
    "## Model Production and Kaggle Submission"
   ]
  },
  {
   "cell_type": "code",
   "execution_count": 64,
   "metadata": {},
   "outputs": [],
   "source": [
    "# Read in data\n",
    "train_X = pd.read_csv('../datasets/kaggle_submission/train_X_processed.csv', keep_default_na=False, index_col='Id')\n",
    "train_y = pd.read_csv('../datasets/kaggle_submission/train_y.csv', keep_default_na=False, index_col='Id')\n",
    "test_X = pd.read_csv('../datasets/kaggle_submission/test_X_processed.csv', keep_default_na=False, index_col='Id')"
   ]
  },
  {
   "cell_type": "code",
   "execution_count": 65,
   "metadata": {},
   "outputs": [],
   "source": [
    "# Create train and test sets based on 30 features from Feature Set 3\n",
    "train_X_3 = train_X[feature_set_3]\n",
    "test_X_3 = test_X[feature_set_3]"
   ]
  },
  {
   "cell_type": "code",
   "execution_count": 66,
   "metadata": {},
   "outputs": [],
   "source": [
    "# Get interaction features of train_X_3 and test_X_3\n",
    "poly = PolynomialFeatures(interaction_only=True)\n",
    "train_X_4 = poly.fit_transform(train_X_3)\n",
    "test_X_4 = poly.transform(test_X_3)"
   ]
  },
  {
   "cell_type": "code",
   "execution_count": 67,
   "metadata": {},
   "outputs": [],
   "source": [
    "# Create final train and test datasets using Feature Set 5\n",
    "train_X_5 = pd.DataFrame(train_X_4, columns=poly.get_feature_names(train_X_3.columns))[feature_set_5]\n",
    "test_X_5 = pd.DataFrame(test_X_4, columns=poly.get_feature_names(test_X_3.columns))[feature_set_5]"
   ]
  },
  {
   "cell_type": "code",
   "execution_count": 68,
   "metadata": {},
   "outputs": [
    {
     "name": "stdout",
     "output_type": "stream",
     "text": [
      "18.041864093920726\n"
     ]
    }
   ],
   "source": [
    "# Create Ridge Regression CV of training data of Feature Set 5\n",
    "ridge_alphas = np.logspace(0, 5, 200)\n",
    "\n",
    "optimal_ridge = RidgeCV(alphas=ridge_alphas, cv=5)\n",
    "optimal_ridge.fit(train_X_5, train_y)\n",
    "\n",
    "print(optimal_ridge.alpha_)"
   ]
  },
  {
   "cell_type": "code",
   "execution_count": 69,
   "metadata": {},
   "outputs": [
    {
     "data": {
      "text/plain": [
       "Ridge(alpha=18.041864093920726)"
      ]
     },
     "execution_count": 69,
     "metadata": {},
     "output_type": "execute_result"
    }
   ],
   "source": [
    "# Create Ridge Regression model with optimal alpha\n",
    "ridge = Ridge(alpha=optimal_ridge.alpha_)\n",
    "ridge.fit(train_X_5, train_y)"
   ]
  },
  {
   "cell_type": "code",
   "execution_count": 70,
   "metadata": {},
   "outputs": [
    {
     "data": {
      "text/plain": [
       "18449.870248425577"
      ]
     },
     "execution_count": 70,
     "metadata": {},
     "output_type": "execute_result"
    }
   ],
   "source": [
    "# Check cross val score (RMSE)\n",
    "abs(cross_val_score(ridge, train_X_5, train_y, cv=5, scoring='neg_root_mean_squared_error')).mean()"
   ]
  },
  {
   "cell_type": "code",
   "execution_count": 71,
   "metadata": {},
   "outputs": [],
   "source": [
    "submission_final = pd.DataFrame(test_X.index, columns=['Id'])"
   ]
  },
  {
   "cell_type": "code",
   "execution_count": 72,
   "metadata": {},
   "outputs": [],
   "source": [
    "submission_final['SalePrice'] = ridge.predict(test_X_5)"
   ]
  },
  {
   "cell_type": "code",
   "execution_count": 73,
   "metadata": {},
   "outputs": [],
   "source": [
    "submission_final.to_csv('../datasets/kaggle_submission/submission_final.csv', index=False)"
   ]
  },
  {
   "cell_type": "markdown",
   "metadata": {},
   "source": [
    "Final submission to Kaggle acheived Private Score: 29167 and Public Score: 24979."
   ]
  },
  {
   "cell_type": "code",
   "execution_count": null,
   "metadata": {},
   "outputs": [],
   "source": []
  },
  {
   "cell_type": "code",
   "execution_count": null,
   "metadata": {},
   "outputs": [],
   "source": []
  }
 ],
 "metadata": {
  "kernelspec": {
   "display_name": "Python 3",
   "language": "python",
   "name": "python3"
  },
  "language_info": {
   "codemirror_mode": {
    "name": "ipython",
    "version": 3
   },
   "file_extension": ".py",
   "mimetype": "text/x-python",
   "name": "python",
   "nbconvert_exporter": "python",
   "pygments_lexer": "ipython3",
   "version": "3.8.5"
  },
  "toc": {
   "base_numbering": 1,
   "nav_menu": {},
   "number_sections": true,
   "sideBar": true,
   "skip_h1_title": false,
   "title_cell": "Table of Contents",
   "title_sidebar": "Contents",
   "toc_cell": false,
   "toc_position": {
    "height": "calc(100% - 180px)",
    "left": "10px",
    "top": "150px",
    "width": "384px"
   },
   "toc_section_display": true,
   "toc_window_display": true
  }
 },
 "nbformat": 4,
 "nbformat_minor": 4
}
