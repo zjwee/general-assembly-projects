{
 "cells": [
  {
   "cell_type": "markdown",
   "metadata": {},
   "source": [
    "# Project 2: Ames Housing Prices"
   ]
  },
  {
   "cell_type": "markdown",
   "metadata": {},
   "source": [
    "## Model Benchmarks"
   ]
  },
  {
   "cell_type": "code",
   "execution_count": 1,
   "metadata": {},
   "outputs": [],
   "source": [
    "# Import libraries\n",
    "import pandas as pd\n",
    "import numpy as np\n",
    "import matplotlib.pyplot as plt\n",
    "import seaborn as sns\n",
    "\n",
    "from sklearn.linear_model import Ridge, Lasso, ElasticNet, LinearRegression, RidgeCV, LassoCV, ElasticNetCV\n",
    "from sklearn.model_selection import cross_val_score\n",
    "from sklearn.metrics import mean_squared_error"
   ]
  },
  {
   "cell_type": "code",
   "execution_count": 2,
   "metadata": {},
   "outputs": [],
   "source": [
    "# Read processed datasets, keeping the 'NA' values filled in previously\n",
    "X_train = pd.read_csv('../datasets/model_tuning/X_train_processed.csv', keep_default_na=False, index_col='Id')\n",
    "X_test = pd.read_csv('../datasets/model_tuning/X_test_processed.csv', keep_default_na=False, index_col='Id')\n",
    "y_train = pd.read_csv('../datasets/model_tuning/y_train.csv', keep_default_na=False, index_col='Id')\n",
    "y_test = pd.read_csv('../datasets/model_tuning/y_test.csv', keep_default_na=False, index_col='Id')"
   ]
  },
  {
   "cell_type": "markdown",
   "metadata": {},
   "source": [
    "## Benchmark (Feature Set 1)"
   ]
  },
  {
   "cell_type": "markdown",
   "metadata": {},
   "source": [
    "We can use the mean sale price of y_train to set as the benchmark to compare our model against."
   ]
  },
  {
   "cell_type": "code",
   "execution_count": 3,
   "metadata": {},
   "outputs": [],
   "source": [
    "# Create a df for y_train_mean with the same size as y_test\n",
    "y_train_mean = y_test.copy()\n",
    "\n",
    "# Set y_train_mean SalePrice to the mean SalePrice of y_train\n",
    "y_train_mean['SalePrice'] = y_train['SalePrice'].mean()"
   ]
  },
  {
   "cell_type": "code",
   "execution_count": 4,
   "metadata": {},
   "outputs": [
    {
     "data": {
      "text/plain": [
       "71351.54360417312"
      ]
     },
     "execution_count": 4,
     "metadata": {},
     "output_type": "execute_result"
    }
   ],
   "source": [
    "# Compute RMSE of y_train_mean to y_test\n",
    "mean_squared_error(y_test, y_train_mean, squared=False)"
   ]
  },
  {
   "cell_type": "markdown",
   "metadata": {},
   "source": [
    "## Linear Regression Modelling"
   ]
  },
  {
   "cell_type": "markdown",
   "metadata": {},
   "source": [
    "### Ordinary Linear Regression"
   ]
  },
  {
   "cell_type": "code",
   "execution_count": 5,
   "metadata": {},
   "outputs": [
    {
     "data": {
      "text/plain": [
       "LinearRegression()"
      ]
     },
     "execution_count": 5,
     "metadata": {},
     "output_type": "execute_result"
    }
   ],
   "source": [
    "# Create and fit Linear Regression model to training data of Feature Set 1\n",
    "lr = LinearRegression()\n",
    "lr.fit(X_train, y_train['SalePrice'])"
   ]
  },
  {
   "cell_type": "code",
   "execution_count": 6,
   "metadata": {},
   "outputs": [
    {
     "data": {
      "text/plain": [
       "26270070147013.473"
      ]
     },
     "execution_count": 6,
     "metadata": {},
     "output_type": "execute_result"
    }
   ],
   "source": [
    "# Check cross val score (RMSE)\n",
    "abs(cross_val_score(lr, X_train, y_train, cv=5, scoring = 'neg_root_mean_squared_error')).mean()"
   ]
  },
  {
   "cell_type": "code",
   "execution_count": 7,
   "metadata": {},
   "outputs": [
    {
     "data": {
      "text/plain": [
       "846252266585126.9"
      ]
     },
     "execution_count": 7,
     "metadata": {},
     "output_type": "execute_result"
    }
   ],
   "source": [
    "# Compare model predictions to test data (RMSE)\n",
    "mean_squared_error(y_test, lr.predict(X_test), squared=False)"
   ]
  },
  {
   "cell_type": "markdown",
   "metadata": {},
   "source": [
    "The high RMSE values for the cross validation scores and the model predictions of test data show that the ordinary Linear Regression model does not perform well at all."
   ]
  },
  {
   "cell_type": "markdown",
   "metadata": {},
   "source": [
    "### Ridge Regression"
   ]
  },
  {
   "cell_type": "code",
   "execution_count": 8,
   "metadata": {},
   "outputs": [
    {
     "name": "stdout",
     "output_type": "stream",
     "text": [
      "2.1214517849106302\n"
     ]
    }
   ],
   "source": [
    "# Create Ridge Regression CV of training data of Feature Set 1\n",
    "ridge_alphas = np.logspace(0, 5, 200)\n",
    "\n",
    "optimal_ridge = RidgeCV(alphas=ridge_alphas, cv=5)\n",
    "optimal_ridge.fit(X_train, y_train)\n",
    "\n",
    "print(optimal_ridge.alpha_)"
   ]
  },
  {
   "cell_type": "code",
   "execution_count": 9,
   "metadata": {},
   "outputs": [
    {
     "data": {
      "text/plain": [
       "Ridge(alpha=2.1214517849106302)"
      ]
     },
     "execution_count": 9,
     "metadata": {},
     "output_type": "execute_result"
    }
   ],
   "source": [
    "# Create Ridge Regression model with optimal alpha\n",
    "ridge = Ridge(alpha=optimal_ridge.alpha_)\n",
    "ridge.fit(X_train, y_train)"
   ]
  },
  {
   "cell_type": "code",
   "execution_count": 10,
   "metadata": {},
   "outputs": [
    {
     "data": {
      "text/plain": [
       "19950.43548232915"
      ]
     },
     "execution_count": 10,
     "metadata": {},
     "output_type": "execute_result"
    }
   ],
   "source": [
    "# Check cross val score (RMSE)\n",
    "abs(cross_val_score(ridge, X_train, y_train, cv=5, scoring='neg_root_mean_squared_error')).mean()"
   ]
  },
  {
   "cell_type": "code",
   "execution_count": 11,
   "metadata": {},
   "outputs": [
    {
     "data": {
      "text/plain": [
       "58395.657586695364"
      ]
     },
     "execution_count": 11,
     "metadata": {},
     "output_type": "execute_result"
    }
   ],
   "source": [
    "# Compare model predictions to test data (RMSE)\n",
    "mean_squared_error(y_test, ridge.predict(X_test), squared=False)"
   ]
  },
  {
   "cell_type": "markdown",
   "metadata": {},
   "source": [
    "Based on the RMSE scores, the Ridge Regression model performs much better than the ordinary Linear Regression model.\n",
    "\n",
    "However, there is a high level of overfitting as the test predictions are much worse than the cross validation score. The model does not generalize well to unseen data. This is to be expected as over 200 columns are used.\n",
    "\n",
    "The model test prediction RMSE performs only slightly better than the benchmark RMSE of 71351.\n",
    "\n",
    "| Score | RMSE|\n",
    "|-------|-----|\n",
    "|Cross validation|19950|\n",
    "|Test predictions|58395|\n",
    "\n"
   ]
  },
  {
   "cell_type": "markdown",
   "metadata": {},
   "source": [
    "### Lasso Regression"
   ]
  },
  {
   "cell_type": "code",
   "execution_count": 12,
   "metadata": {},
   "outputs": [
    {
     "name": "stdout",
     "output_type": "stream",
     "text": [
      "202.37683637506322\n"
     ]
    }
   ],
   "source": [
    "# Create Lasso Regression CV of training data of Feature Set 1\n",
    "optimal_lasso = LassoCV(n_alphas=500, cv=5)\n",
    "optimal_lasso.fit(X_train, np.ravel(y_train))\n",
    "\n",
    "print(optimal_lasso.alpha_)"
   ]
  },
  {
   "cell_type": "code",
   "execution_count": 13,
   "metadata": {},
   "outputs": [
    {
     "data": {
      "text/plain": [
       "Lasso(alpha=202.37683637506322)"
      ]
     },
     "execution_count": 13,
     "metadata": {},
     "output_type": "execute_result"
    }
   ],
   "source": [
    "# Create Lasso Regression model with optimal alpha\n",
    "lasso = Lasso(alpha=optimal_lasso.alpha_)\n",
    "lasso.fit(X_train, y_train)"
   ]
  },
  {
   "cell_type": "code",
   "execution_count": 14,
   "metadata": {},
   "outputs": [
    {
     "data": {
      "text/plain": [
       "20837.39073596619"
      ]
     },
     "execution_count": 14,
     "metadata": {},
     "output_type": "execute_result"
    }
   ],
   "source": [
    "# Check cross val score (RMSE)\n",
    "abs(cross_val_score(lasso, X_train, y_train, cv=5, scoring='neg_root_mean_squared_error')).mean()"
   ]
  },
  {
   "cell_type": "code",
   "execution_count": 15,
   "metadata": {},
   "outputs": [
    {
     "data": {
      "text/plain": [
       "50134.245321592105"
      ]
     },
     "execution_count": 15,
     "metadata": {},
     "output_type": "execute_result"
    }
   ],
   "source": [
    "# Compare model predictions to test data (RMSE)\n",
    "mean_squared_error(y_test, lasso.predict(X_test), squared=False)"
   ]
  },
  {
   "cell_type": "markdown",
   "metadata": {},
   "source": [
    "The Lasso Regression model performs slightly better than the Ridge Regression model in terms of modelling unseen test data.\n",
    "\n",
    "This is to be expected as Lasso Regression eliminates irrelevant features.\n",
    "\n",
    "| Score | RMSE|\n",
    "|-------|-----|\n",
    "|Cross validation|20837|\n",
    "|Test predictions|50134|"
   ]
  },
  {
   "cell_type": "markdown",
   "metadata": {},
   "source": [
    "### Elastic Net Regression"
   ]
  },
  {
   "cell_type": "code",
   "execution_count": 16,
   "metadata": {},
   "outputs": [
    {
     "data": {
      "text/plain": [
       "ElasticNetCV(cv=5,\n",
       "             l1_ratio=array([0.01   , 0.05125, 0.0925 , 0.13375, 0.175  , 0.21625, 0.2575 ,\n",
       "       0.29875, 0.34   , 0.38125, 0.4225 , 0.46375, 0.505  , 0.54625,\n",
       "       0.5875 , 0.62875, 0.67   , 0.71125, 0.7525 , 0.79375, 0.835  ,\n",
       "       0.87625, 0.9175 , 0.95875, 1.     ]))"
      ]
     },
     "execution_count": 16,
     "metadata": {},
     "output_type": "execute_result"
    }
   ],
   "source": [
    "# Create Enet Regression CV of training data of Feature Set 1\n",
    "l1_ratios = np.linspace(0.01, 1.0, 25)\n",
    "optimal_enet = ElasticNetCV(l1_ratio=l1_ratios, n_alphas=100, cv=5)\n",
    "optimal_enet.fit(X_train, np.ravel(y_train))"
   ]
  },
  {
   "cell_type": "code",
   "execution_count": 17,
   "metadata": {},
   "outputs": [
    {
     "name": "stdout",
     "output_type": "stream",
     "text": [
      "202.37683637506322 1.0\n"
     ]
    }
   ],
   "source": [
    "print(optimal_enet.alpha_, optimal_enet.l1_ratio_)"
   ]
  },
  {
   "cell_type": "code",
   "execution_count": 18,
   "metadata": {},
   "outputs": [
    {
     "data": {
      "text/plain": [
       "ElasticNet(alpha=202.37683637506322, l1_ratio=1.0)"
      ]
     },
     "execution_count": 18,
     "metadata": {},
     "output_type": "execute_result"
    }
   ],
   "source": [
    "# Enet Regression should perform similarly to Lasso, given optimal l1 = 1\n",
    "enet = ElasticNet(alpha=optimal_enet.alpha_, l1_ratio=optimal_enet.l1_ratio_)\n",
    "enet.fit(X_train, y_train)"
   ]
  },
  {
   "cell_type": "code",
   "execution_count": 19,
   "metadata": {},
   "outputs": [
    {
     "data": {
      "text/plain": [
       "20837.39073596619"
      ]
     },
     "execution_count": 19,
     "metadata": {},
     "output_type": "execute_result"
    }
   ],
   "source": [
    "# Check cross val score (RMSE)\n",
    "abs(cross_val_score(enet, X_train, y_train, cv=5, scoring='neg_root_mean_squared_error')).mean()"
   ]
  },
  {
   "cell_type": "code",
   "execution_count": 20,
   "metadata": {},
   "outputs": [
    {
     "data": {
      "text/plain": [
       "50134.245321592105"
      ]
     },
     "execution_count": 20,
     "metadata": {},
     "output_type": "execute_result"
    }
   ],
   "source": [
    "# Compare model predictions to test data (RMSE)\n",
    "mean_squared_error(y_test, enet.predict(X_test), squared=False)"
   ]
  },
  {
   "cell_type": "markdown",
   "metadata": {},
   "source": [
    "The Enet Regression model performs similarly to the Lasso Regression model, as the optimal l1_ratio is 1.0.\n",
    "\n",
    "| Score |RMSE |\n",
    "|-------|-----|\n",
    "|Cross validation|20837|\n",
    "|Test predictions|50134|"
   ]
  },
  {
   "cell_type": "markdown",
   "metadata": {},
   "source": [
    "## Summary (Feature Set 1)"
   ]
  },
  {
   "cell_type": "markdown",
   "metadata": {},
   "source": [
    "The 3 tuned Linear Regression models using Feature Set 1 performed as follows:\n",
    "\n",
    "| Ridge | RMSE|\n",
    "|-------|-----|\n",
    "|Cross validation|19950|\n",
    "|Test predictions|58395|\n",
    "\n",
    "| Lasso | RMSE|\n",
    "|-------|-----|\n",
    "|Cross validation|20837|\n",
    "|Test predictions|50134|\n",
    "\n",
    "| Enet  |RMSE |\n",
    "|-------|-----|\n",
    "|Cross validation|20837|\n",
    "|Test predictions|50134|\n",
    "\n",
    "We can examine the top features of the Lasso Regression model to tune the feature set further."
   ]
  },
  {
   "cell_type": "code",
   "execution_count": 21,
   "metadata": {
    "scrolled": true
   },
   "outputs": [
    {
     "data": {
      "text/html": [
       "<div>\n",
       "<style scoped>\n",
       "    .dataframe tbody tr th:only-of-type {\n",
       "        vertical-align: middle;\n",
       "    }\n",
       "\n",
       "    .dataframe tbody tr th {\n",
       "        vertical-align: top;\n",
       "    }\n",
       "\n",
       "    .dataframe thead th {\n",
       "        text-align: right;\n",
       "    }\n",
       "</style>\n",
       "<table border=\"1\" class=\"dataframe\">\n",
       "  <thead>\n",
       "    <tr style=\"text-align: right;\">\n",
       "      <th></th>\n",
       "      <th>feature</th>\n",
       "      <th>coef</th>\n",
       "      <th>abs_coef</th>\n",
       "    </tr>\n",
       "  </thead>\n",
       "  <tbody>\n",
       "    <tr>\n",
       "      <th>8</th>\n",
       "      <td>Gr Liv Area</td>\n",
       "      <td>24095.700940</td>\n",
       "      <td>24095.700940</td>\n",
       "    </tr>\n",
       "    <tr>\n",
       "      <th>185</th>\n",
       "      <td>Kitchen Qual_Ex</td>\n",
       "      <td>23847.440798</td>\n",
       "      <td>23847.440798</td>\n",
       "    </tr>\n",
       "    <tr>\n",
       "      <th>150</th>\n",
       "      <td>Bsmt Qual_Ex</td>\n",
       "      <td>18516.320628</td>\n",
       "      <td>18516.320628</td>\n",
       "    </tr>\n",
       "    <tr>\n",
       "      <th>47</th>\n",
       "      <td>Neighborhood_NridgHt</td>\n",
       "      <td>17397.100149</td>\n",
       "      <td>17397.100149</td>\n",
       "    </tr>\n",
       "    <tr>\n",
       "      <th>162</th>\n",
       "      <td>Bsmt Exposure_Gd</td>\n",
       "      <td>15177.173105</td>\n",
       "      <td>15177.173105</td>\n",
       "    </tr>\n",
       "    <tr>\n",
       "      <th>141</th>\n",
       "      <td>Exter Qual_Ex</td>\n",
       "      <td>14577.094016</td>\n",
       "      <td>14577.094016</td>\n",
       "    </tr>\n",
       "    <tr>\n",
       "      <th>46</th>\n",
       "      <td>Neighborhood_NoRidge</td>\n",
       "      <td>13415.796923</td>\n",
       "      <td>13415.796923</td>\n",
       "    </tr>\n",
       "    <tr>\n",
       "      <th>35</th>\n",
       "      <td>Neighborhood_Crawfor</td>\n",
       "      <td>11487.809499</td>\n",
       "      <td>11487.809499</td>\n",
       "    </tr>\n",
       "    <tr>\n",
       "      <th>11</th>\n",
       "      <td>Overall Qual</td>\n",
       "      <td>9065.137909</td>\n",
       "      <td>9065.137909</td>\n",
       "    </tr>\n",
       "    <tr>\n",
       "      <th>6</th>\n",
       "      <td>Total Bsmt SF</td>\n",
       "      <td>8556.796445</td>\n",
       "      <td>8556.796445</td>\n",
       "    </tr>\n",
       "    <tr>\n",
       "      <th>53</th>\n",
       "      <td>Neighborhood_StoneBr</td>\n",
       "      <td>8412.946600</td>\n",
       "      <td>8412.946600</td>\n",
       "    </tr>\n",
       "    <tr>\n",
       "      <th>172</th>\n",
       "      <td>BsmtFin Type 1_Unf</td>\n",
       "      <td>-8173.794791</td>\n",
       "      <td>8173.794791</td>\n",
       "    </tr>\n",
       "    <tr>\n",
       "      <th>168</th>\n",
       "      <td>BsmtFin Type 1_GLQ</td>\n",
       "      <td>8161.067388</td>\n",
       "      <td>8161.067388</td>\n",
       "    </tr>\n",
       "    <tr>\n",
       "      <th>0</th>\n",
       "      <td>Year Built</td>\n",
       "      <td>7903.657504</td>\n",
       "      <td>7903.657504</td>\n",
       "    </tr>\n",
       "    <tr>\n",
       "      <th>86</th>\n",
       "      <td>Exterior 1st_BrkFace</td>\n",
       "      <td>7885.435063</td>\n",
       "      <td>7885.435063</td>\n",
       "    </tr>\n",
       "    <tr>\n",
       "      <th>134</th>\n",
       "      <td>Sale Type_New</td>\n",
       "      <td>6453.636935</td>\n",
       "      <td>6453.636935</td>\n",
       "    </tr>\n",
       "    <tr>\n",
       "      <th>65</th>\n",
       "      <td>Bldg Type_1Fam</td>\n",
       "      <td>6416.285448</td>\n",
       "      <td>6416.285448</td>\n",
       "    </tr>\n",
       "    <tr>\n",
       "      <th>9</th>\n",
       "      <td>Garage Area</td>\n",
       "      <td>5685.335824</td>\n",
       "      <td>5685.335824</td>\n",
       "    </tr>\n",
       "    <tr>\n",
       "      <th>21</th>\n",
       "      <td>Land Contour_HLS</td>\n",
       "      <td>5645.181993</td>\n",
       "      <td>5645.181993</td>\n",
       "    </tr>\n",
       "    <tr>\n",
       "      <th>56</th>\n",
       "      <td>Condition 1_Artery</td>\n",
       "      <td>-5021.194826</td>\n",
       "      <td>5021.194826</td>\n",
       "    </tr>\n",
       "    <tr>\n",
       "      <th>12</th>\n",
       "      <td>Overall Cond</td>\n",
       "      <td>4660.814965</td>\n",
       "      <td>4660.814965</td>\n",
       "    </tr>\n",
       "    <tr>\n",
       "      <th>165</th>\n",
       "      <td>Bsmt Exposure_No</td>\n",
       "      <td>-4229.322369</td>\n",
       "      <td>4229.322369</td>\n",
       "    </tr>\n",
       "    <tr>\n",
       "      <th>192</th>\n",
       "      <td>Fireplace Qu_NA</td>\n",
       "      <td>-4063.891430</td>\n",
       "      <td>4063.891430</td>\n",
       "    </tr>\n",
       "    <tr>\n",
       "      <th>52</th>\n",
       "      <td>Neighborhood_Somerst</td>\n",
       "      <td>3408.125911</td>\n",
       "      <td>3408.125911</td>\n",
       "    </tr>\n",
       "    <tr>\n",
       "      <th>67</th>\n",
       "      <td>Bldg Type_Duplex</td>\n",
       "      <td>-3350.513110</td>\n",
       "      <td>3350.513110</td>\n",
       "    </tr>\n",
       "    <tr>\n",
       "      <th>117</th>\n",
       "      <td>Foundation_PConc</td>\n",
       "      <td>3155.819816</td>\n",
       "      <td>3155.819816</td>\n",
       "    </tr>\n",
       "    <tr>\n",
       "      <th>19</th>\n",
       "      <td>MS Zoning_RM</td>\n",
       "      <td>-2921.003610</td>\n",
       "      <td>2921.003610</td>\n",
       "    </tr>\n",
       "    <tr>\n",
       "      <th>144</th>\n",
       "      <td>Exter Qual_TA</td>\n",
       "      <td>-2876.847277</td>\n",
       "      <td>2876.847277</td>\n",
       "    </tr>\n",
       "    <tr>\n",
       "      <th>195</th>\n",
       "      <td>Garage Finish_Fin</td>\n",
       "      <td>2721.284042</td>\n",
       "      <td>2721.284042</td>\n",
       "    </tr>\n",
       "    <tr>\n",
       "      <th>66</th>\n",
       "      <td>Bldg Type_2fmCon</td>\n",
       "      <td>2600.705812</td>\n",
       "      <td>2600.705812</td>\n",
       "    </tr>\n",
       "    <tr>\n",
       "      <th>89</th>\n",
       "      <td>Exterior 1st_HdBoard</td>\n",
       "      <td>-2550.929591</td>\n",
       "      <td>2550.929591</td>\n",
       "    </tr>\n",
       "    <tr>\n",
       "      <th>198</th>\n",
       "      <td>Garage Finish_Unf</td>\n",
       "      <td>-2521.859461</td>\n",
       "      <td>2521.859461</td>\n",
       "    </tr>\n",
       "    <tr>\n",
       "      <th>128</th>\n",
       "      <td>Sale Type_COD</td>\n",
       "      <td>-2512.539247</td>\n",
       "      <td>2512.539247</td>\n",
       "    </tr>\n",
       "    <tr>\n",
       "      <th>36</th>\n",
       "      <td>Neighborhood_Edwards</td>\n",
       "      <td>-2479.082898</td>\n",
       "      <td>2479.082898</td>\n",
       "    </tr>\n",
       "    <tr>\n",
       "      <th>163</th>\n",
       "      <td>Bsmt Exposure_Mn</td>\n",
       "      <td>-2248.227676</td>\n",
       "      <td>2248.227676</td>\n",
       "    </tr>\n",
       "    <tr>\n",
       "      <th>1</th>\n",
       "      <td>Year Remod/Add</td>\n",
       "      <td>2059.222789</td>\n",
       "      <td>2059.222789</td>\n",
       "    </tr>\n",
       "    <tr>\n",
       "      <th>191</th>\n",
       "      <td>Fireplace Qu_Gd</td>\n",
       "      <td>1949.187781</td>\n",
       "      <td>1949.187781</td>\n",
       "    </tr>\n",
       "    <tr>\n",
       "      <th>180</th>\n",
       "      <td>Heating QC_Ex</td>\n",
       "      <td>1886.261053</td>\n",
       "      <td>1886.261053</td>\n",
       "    </tr>\n",
       "    <tr>\n",
       "      <th>34</th>\n",
       "      <td>Neighborhood_CollgCr</td>\n",
       "      <td>-1713.350178</td>\n",
       "      <td>1713.350178</td>\n",
       "    </tr>\n",
       "    <tr>\n",
       "      <th>58</th>\n",
       "      <td>Condition 1_Norm</td>\n",
       "      <td>1713.049108</td>\n",
       "      <td>1713.049108</td>\n",
       "    </tr>\n",
       "    <tr>\n",
       "      <th>166</th>\n",
       "      <td>BsmtFin Type 1_ALQ</td>\n",
       "      <td>1347.529265</td>\n",
       "      <td>1347.529265</td>\n",
       "    </tr>\n",
       "    <tr>\n",
       "      <th>92</th>\n",
       "      <td>Exterior 1st_Plywood</td>\n",
       "      <td>-1323.083811</td>\n",
       "      <td>1323.083811</td>\n",
       "    </tr>\n",
       "    <tr>\n",
       "      <th>51</th>\n",
       "      <td>Neighborhood_SawyerW</td>\n",
       "      <td>-1292.432236</td>\n",
       "      <td>1292.432236</td>\n",
       "    </tr>\n",
       "    <tr>\n",
       "      <th>136</th>\n",
       "      <td>Sale Type_WD</td>\n",
       "      <td>-1206.961629</td>\n",
       "      <td>1206.961629</td>\n",
       "    </tr>\n",
       "    <tr>\n",
       "      <th>5</th>\n",
       "      <td>Garage Cars</td>\n",
       "      <td>1201.563865</td>\n",
       "      <td>1201.563865</td>\n",
       "    </tr>\n",
       "    <tr>\n",
       "      <th>169</th>\n",
       "      <td>BsmtFin Type 1_LwQ</td>\n",
       "      <td>-1100.642445</td>\n",
       "      <td>1100.642445</td>\n",
       "    </tr>\n",
       "    <tr>\n",
       "      <th>2</th>\n",
       "      <td>Full Bath</td>\n",
       "      <td>-1100.245998</td>\n",
       "      <td>1100.245998</td>\n",
       "    </tr>\n",
       "    <tr>\n",
       "      <th>184</th>\n",
       "      <td>Heating QC_TA</td>\n",
       "      <td>-1080.527943</td>\n",
       "      <td>1080.527943</td>\n",
       "    </tr>\n",
       "    <tr>\n",
       "      <th>24</th>\n",
       "      <td>Lot Config_Corner</td>\n",
       "      <td>896.743733</td>\n",
       "      <td>896.743733</td>\n",
       "    </tr>\n",
       "    <tr>\n",
       "      <th>105</th>\n",
       "      <td>Exterior 2nd_Plywood</td>\n",
       "      <td>-802.766379</td>\n",
       "      <td>802.766379</td>\n",
       "    </tr>\n",
       "  </tbody>\n",
       "</table>\n",
       "</div>"
      ],
      "text/plain": [
       "                  feature          coef      abs_coef\n",
       "8             Gr Liv Area  24095.700940  24095.700940\n",
       "185       Kitchen Qual_Ex  23847.440798  23847.440798\n",
       "150          Bsmt Qual_Ex  18516.320628  18516.320628\n",
       "47   Neighborhood_NridgHt  17397.100149  17397.100149\n",
       "162      Bsmt Exposure_Gd  15177.173105  15177.173105\n",
       "141         Exter Qual_Ex  14577.094016  14577.094016\n",
       "46   Neighborhood_NoRidge  13415.796923  13415.796923\n",
       "35   Neighborhood_Crawfor  11487.809499  11487.809499\n",
       "11           Overall Qual   9065.137909   9065.137909\n",
       "6           Total Bsmt SF   8556.796445   8556.796445\n",
       "53   Neighborhood_StoneBr   8412.946600   8412.946600\n",
       "172    BsmtFin Type 1_Unf  -8173.794791   8173.794791\n",
       "168    BsmtFin Type 1_GLQ   8161.067388   8161.067388\n",
       "0              Year Built   7903.657504   7903.657504\n",
       "86   Exterior 1st_BrkFace   7885.435063   7885.435063\n",
       "134         Sale Type_New   6453.636935   6453.636935\n",
       "65         Bldg Type_1Fam   6416.285448   6416.285448\n",
       "9             Garage Area   5685.335824   5685.335824\n",
       "21       Land Contour_HLS   5645.181993   5645.181993\n",
       "56     Condition 1_Artery  -5021.194826   5021.194826\n",
       "12           Overall Cond   4660.814965   4660.814965\n",
       "165      Bsmt Exposure_No  -4229.322369   4229.322369\n",
       "192       Fireplace Qu_NA  -4063.891430   4063.891430\n",
       "52   Neighborhood_Somerst   3408.125911   3408.125911\n",
       "67       Bldg Type_Duplex  -3350.513110   3350.513110\n",
       "117      Foundation_PConc   3155.819816   3155.819816\n",
       "19           MS Zoning_RM  -2921.003610   2921.003610\n",
       "144         Exter Qual_TA  -2876.847277   2876.847277\n",
       "195     Garage Finish_Fin   2721.284042   2721.284042\n",
       "66       Bldg Type_2fmCon   2600.705812   2600.705812\n",
       "89   Exterior 1st_HdBoard  -2550.929591   2550.929591\n",
       "198     Garage Finish_Unf  -2521.859461   2521.859461\n",
       "128         Sale Type_COD  -2512.539247   2512.539247\n",
       "36   Neighborhood_Edwards  -2479.082898   2479.082898\n",
       "163      Bsmt Exposure_Mn  -2248.227676   2248.227676\n",
       "1          Year Remod/Add   2059.222789   2059.222789\n",
       "191       Fireplace Qu_Gd   1949.187781   1949.187781\n",
       "180         Heating QC_Ex   1886.261053   1886.261053\n",
       "34   Neighborhood_CollgCr  -1713.350178   1713.350178\n",
       "58       Condition 1_Norm   1713.049108   1713.049108\n",
       "166    BsmtFin Type 1_ALQ   1347.529265   1347.529265\n",
       "92   Exterior 1st_Plywood  -1323.083811   1323.083811\n",
       "51   Neighborhood_SawyerW  -1292.432236   1292.432236\n",
       "136         Sale Type_WD   -1206.961629   1206.961629\n",
       "5             Garage Cars   1201.563865   1201.563865\n",
       "169    BsmtFin Type 1_LwQ  -1100.642445   1100.642445\n",
       "2               Full Bath  -1100.245998   1100.245998\n",
       "184         Heating QC_TA  -1080.527943   1080.527943\n",
       "24      Lot Config_Corner    896.743733    896.743733\n",
       "105  Exterior 2nd_Plywood   -802.766379    802.766379"
      ]
     },
     "execution_count": 21,
     "metadata": {},
     "output_type": "execute_result"
    }
   ],
   "source": [
    "# Examine top 50 Lasso Regression coefficients\n",
    "lasso_coefs = pd.DataFrame({'feature':X_train.columns,\n",
    "                            'coef':lasso.coef_,\n",
    "                            'abs_coef':np.abs(lasso.coef_)})\n",
    "lasso_coefs.sort_values('abs_coef', inplace=True, ascending=False)\n",
    "lasso_coefs.head(50)"
   ]
  },
  {
   "cell_type": "code",
   "execution_count": 22,
   "metadata": {
    "scrolled": true
   },
   "outputs": [],
   "source": [
    "# Save top 50 Lasso Regression coefficients to csv to develop Feature Set 2 in 03: Model Tuning.\n",
    "lasso_coefs.head(50).to_csv('../datasets/model_tuning/top_lasso_coef.csv')"
   ]
  },
  {
   "cell_type": "markdown",
   "metadata": {},
   "source": [
    "In 03: Model Tuning and Production, we will create Linear Regression models based on these top 50 features and further refine the feature selection. The best scored model will be submitted as the production model to Kaggle."
   ]
  },
  {
   "cell_type": "markdown",
   "metadata": {},
   "source": [
    "## First Kaggle Submission (Trial)"
   ]
  },
  {
   "cell_type": "markdown",
   "metadata": {},
   "source": [
    "Trial a submission to Kaggle, fitting the Lasso model on the full training data and making predictions on the Kaggle test data."
   ]
  },
  {
   "cell_type": "code",
   "execution_count": 23,
   "metadata": {},
   "outputs": [],
   "source": [
    "# Read processed datasets, keeping the 'NA' values filled in previously\n",
    "train_X = pd.read_csv('../datasets/kaggle_submission/train_X_processed.csv', keep_default_na=False, index_col='Id')\n",
    "train_y = pd.read_csv('../datasets/kaggle_submission/train_y.csv', keep_default_na=False, index_col='Id')\n",
    "test_X = pd.read_csv('../datasets/kaggle_submission/test_X_processed.csv', keep_default_na=False, index_col='Id')"
   ]
  },
  {
   "cell_type": "code",
   "execution_count": 24,
   "metadata": {},
   "outputs": [
    {
     "data": {
      "text/plain": [
       "LassoCV(cv=5, n_alphas=500)"
      ]
     },
     "execution_count": 24,
     "metadata": {},
     "output_type": "execute_result"
    }
   ],
   "source": [
    "# Re-perform Lasso CV on full train data\n",
    "optimal_lasso.fit(train_X, np.ravel(train_y))"
   ]
  },
  {
   "cell_type": "code",
   "execution_count": 25,
   "metadata": {},
   "outputs": [
    {
     "data": {
      "text/plain": [
       "Lasso(alpha=241.8116719349783)"
      ]
     },
     "execution_count": 25,
     "metadata": {},
     "output_type": "execute_result"
    }
   ],
   "source": [
    "# Create and fit Lasso model on train_X\n",
    "lasso = Lasso(alpha=optimal_lasso.alpha_)\n",
    "lasso.fit(train_X, train_y)"
   ]
  },
  {
   "cell_type": "code",
   "execution_count": 26,
   "metadata": {},
   "outputs": [],
   "source": [
    "submission = pd.DataFrame(test_X.index, columns=['Id'])"
   ]
  },
  {
   "cell_type": "code",
   "execution_count": 27,
   "metadata": {},
   "outputs": [],
   "source": [
    "submission['SalePrice'] = lasso.predict(test_X)"
   ]
  },
  {
   "cell_type": "code",
   "execution_count": 28,
   "metadata": {},
   "outputs": [],
   "source": [
    "submission.to_csv('../datasets/kaggle_submission/submission_1.csv', index=False)"
   ]
  },
  {
   "cell_type": "markdown",
   "metadata": {},
   "source": [
    "Submission 1 using 220 columns achieved Private Score: 39529 and Public Score: 39084."
   ]
  }
 ],
 "metadata": {
  "kernelspec": {
   "display_name": "Python 3",
   "language": "python",
   "name": "python3"
  },
  "language_info": {
   "codemirror_mode": {
    "name": "ipython",
    "version": 3
   },
   "file_extension": ".py",
   "mimetype": "text/x-python",
   "name": "python",
   "nbconvert_exporter": "python",
   "pygments_lexer": "ipython3",
   "version": "3.8.5"
  },
  "toc": {
   "base_numbering": 1,
   "nav_menu": {},
   "number_sections": true,
   "sideBar": true,
   "skip_h1_title": false,
   "title_cell": "Table of Contents",
   "title_sidebar": "Contents",
   "toc_cell": false,
   "toc_position": {},
   "toc_section_display": true,
   "toc_window_display": true
  }
 },
 "nbformat": 4,
 "nbformat_minor": 4
}
