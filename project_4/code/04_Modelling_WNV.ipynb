{
 "cells": [
  {
   "cell_type": "markdown",
   "metadata": {},
   "source": [
    "# Import Data"
   ]
  },
  {
   "cell_type": "code",
   "execution_count": 1,
   "metadata": {},
   "outputs": [],
   "source": [
    "import pandas as pd\n",
    "import numpy as np\n",
    "import matplotlib.pyplot as plt\n",
    "import seaborn as sns\n",
    "\n",
    "from xgboost import XGBClassifier\n",
    "\n",
    "from imblearn.over_sampling import SMOTE\n",
    "from imblearn.pipeline import Pipeline\n",
    "\n",
    "from sklearn.feature_selection import RFECV\n",
    "from sklearn.preprocessing import StandardScaler\n",
    "from sklearn.model_selection import train_test_split, cross_val_score, GridSearchCV\n",
    "from sklearn.metrics import roc_auc_score, plot_confusion_matrix, recall_score\n",
    "from sklearn.linear_model import LogisticRegression\n",
    "from sklearn.neighbors import KNeighborsClassifier\n",
    "from sklearn.ensemble import RandomForestClassifier, ExtraTreesClassifier\n",
    "from sklearn.svm import SVC"
   ]
  },
  {
   "cell_type": "code",
   "execution_count": 2,
   "metadata": {},
   "outputs": [],
   "source": [
    "df_train=pd.read_csv('../datasets/train_weather.csv',parse_dates=['date'])"
   ]
  },
  {
   "cell_type": "code",
   "execution_count": 3,
   "metadata": {},
   "outputs": [],
   "source": [
    "df_train['wnv']=df_train['wnv'].map(lambda x: 0 if x==0 else 1)"
   ]
  },
  {
   "cell_type": "code",
   "execution_count": 4,
   "metadata": {},
   "outputs": [
    {
     "data": {
      "text/html": [
       "<div>\n",
       "<style scoped>\n",
       "    .dataframe tbody tr th:only-of-type {\n",
       "        vertical-align: middle;\n",
       "    }\n",
       "\n",
       "    .dataframe tbody tr th {\n",
       "        vertical-align: top;\n",
       "    }\n",
       "\n",
       "    .dataframe thead th {\n",
       "        text-align: right;\n",
       "    }\n",
       "</style>\n",
       "<table border=\"1\" class=\"dataframe\">\n",
       "  <thead>\n",
       "    <tr style=\"text-align: right;\">\n",
       "      <th></th>\n",
       "      <th>wetbulb</th>\n",
       "      <th>wetbulb_rolling_14</th>\n",
       "      <th>wetbulb_rolling_14_lag_10</th>\n",
       "      <th>dewpoint</th>\n",
       "      <th>dewpoint_rolling_14</th>\n",
       "      <th>dewpoint_rolling_14_lag_10</th>\n",
       "      <th>tmin</th>\n",
       "      <th>tmin_rolling_14</th>\n",
       "      <th>tmin_rolling_14_lag_10</th>\n",
       "      <th>tavg</th>\n",
       "      <th>...</th>\n",
       "      <th>preciptotal_rolling_14</th>\n",
       "      <th>preciptotal_rolling_14_lag_7</th>\n",
       "      <th>avgspeed</th>\n",
       "      <th>avgspeed_rolling_14</th>\n",
       "      <th>lat</th>\n",
       "      <th>long</th>\n",
       "      <th>cool</th>\n",
       "      <th>heat</th>\n",
       "      <th>date</th>\n",
       "      <th>wnv</th>\n",
       "    </tr>\n",
       "  </thead>\n",
       "  <tbody>\n",
       "    <tr>\n",
       "      <th>0</th>\n",
       "      <td>65</td>\n",
       "      <td>58.285714</td>\n",
       "      <td>53.214286</td>\n",
       "      <td>58</td>\n",
       "      <td>49.857143</td>\n",
       "      <td>42.214286</td>\n",
       "      <td>60</td>\n",
       "      <td>57.642857</td>\n",
       "      <td>51.571429</td>\n",
       "      <td>74</td>\n",
       "      <td>...</td>\n",
       "      <td>0.108571</td>\n",
       "      <td>0.020714</td>\n",
       "      <td>6.5</td>\n",
       "      <td>9.557143</td>\n",
       "      <td>41.954690</td>\n",
       "      <td>-87.800991</td>\n",
       "      <td>9</td>\n",
       "      <td>0</td>\n",
       "      <td>2007-05-29</td>\n",
       "      <td>0</td>\n",
       "    </tr>\n",
       "    <tr>\n",
       "      <th>1</th>\n",
       "      <td>65</td>\n",
       "      <td>58.285714</td>\n",
       "      <td>53.214286</td>\n",
       "      <td>58</td>\n",
       "      <td>49.857143</td>\n",
       "      <td>42.214286</td>\n",
       "      <td>60</td>\n",
       "      <td>57.642857</td>\n",
       "      <td>51.571429</td>\n",
       "      <td>74</td>\n",
       "      <td>...</td>\n",
       "      <td>0.108571</td>\n",
       "      <td>0.020714</td>\n",
       "      <td>6.5</td>\n",
       "      <td>9.557143</td>\n",
       "      <td>41.954690</td>\n",
       "      <td>-87.800991</td>\n",
       "      <td>9</td>\n",
       "      <td>0</td>\n",
       "      <td>2007-05-29</td>\n",
       "      <td>0</td>\n",
       "    </tr>\n",
       "    <tr>\n",
       "      <th>2</th>\n",
       "      <td>65</td>\n",
       "      <td>58.285714</td>\n",
       "      <td>53.214286</td>\n",
       "      <td>58</td>\n",
       "      <td>49.857143</td>\n",
       "      <td>42.214286</td>\n",
       "      <td>60</td>\n",
       "      <td>57.642857</td>\n",
       "      <td>51.571429</td>\n",
       "      <td>74</td>\n",
       "      <td>...</td>\n",
       "      <td>0.108571</td>\n",
       "      <td>0.020714</td>\n",
       "      <td>6.5</td>\n",
       "      <td>9.557143</td>\n",
       "      <td>41.994991</td>\n",
       "      <td>-87.769279</td>\n",
       "      <td>9</td>\n",
       "      <td>0</td>\n",
       "      <td>2007-05-29</td>\n",
       "      <td>0</td>\n",
       "    </tr>\n",
       "    <tr>\n",
       "      <th>3</th>\n",
       "      <td>65</td>\n",
       "      <td>58.285714</td>\n",
       "      <td>53.214286</td>\n",
       "      <td>58</td>\n",
       "      <td>49.857143</td>\n",
       "      <td>42.214286</td>\n",
       "      <td>60</td>\n",
       "      <td>57.642857</td>\n",
       "      <td>51.571429</td>\n",
       "      <td>74</td>\n",
       "      <td>...</td>\n",
       "      <td>0.108571</td>\n",
       "      <td>0.020714</td>\n",
       "      <td>6.5</td>\n",
       "      <td>9.557143</td>\n",
       "      <td>41.974089</td>\n",
       "      <td>-87.824812</td>\n",
       "      <td>9</td>\n",
       "      <td>0</td>\n",
       "      <td>2007-05-29</td>\n",
       "      <td>0</td>\n",
       "    </tr>\n",
       "    <tr>\n",
       "      <th>4</th>\n",
       "      <td>65</td>\n",
       "      <td>58.285714</td>\n",
       "      <td>53.214286</td>\n",
       "      <td>58</td>\n",
       "      <td>49.857143</td>\n",
       "      <td>42.214286</td>\n",
       "      <td>60</td>\n",
       "      <td>57.642857</td>\n",
       "      <td>51.571429</td>\n",
       "      <td>74</td>\n",
       "      <td>...</td>\n",
       "      <td>0.108571</td>\n",
       "      <td>0.020714</td>\n",
       "      <td>6.5</td>\n",
       "      <td>9.557143</td>\n",
       "      <td>41.974089</td>\n",
       "      <td>-87.824812</td>\n",
       "      <td>9</td>\n",
       "      <td>0</td>\n",
       "      <td>2007-05-29</td>\n",
       "      <td>0</td>\n",
       "    </tr>\n",
       "    <tr>\n",
       "      <th>...</th>\n",
       "      <td>...</td>\n",
       "      <td>...</td>\n",
       "      <td>...</td>\n",
       "      <td>...</td>\n",
       "      <td>...</td>\n",
       "      <td>...</td>\n",
       "      <td>...</td>\n",
       "      <td>...</td>\n",
       "      <td>...</td>\n",
       "      <td>...</td>\n",
       "      <td>...</td>\n",
       "      <td>...</td>\n",
       "      <td>...</td>\n",
       "      <td>...</td>\n",
       "      <td>...</td>\n",
       "      <td>...</td>\n",
       "      <td>...</td>\n",
       "      <td>...</td>\n",
       "      <td>...</td>\n",
       "      <td>...</td>\n",
       "      <td>...</td>\n",
       "    </tr>\n",
       "    <tr>\n",
       "      <th>8470</th>\n",
       "      <td>58</td>\n",
       "      <td>55.428571</td>\n",
       "      <td>58.785714</td>\n",
       "      <td>52</td>\n",
       "      <td>50.142857</td>\n",
       "      <td>54.428571</td>\n",
       "      <td>55</td>\n",
       "      <td>51.928571</td>\n",
       "      <td>57.357143</td>\n",
       "      <td>65</td>\n",
       "      <td>...</td>\n",
       "      <td>0.001429</td>\n",
       "      <td>0.137143</td>\n",
       "      <td>4.6</td>\n",
       "      <td>7.607143</td>\n",
       "      <td>41.912563</td>\n",
       "      <td>-87.668055</td>\n",
       "      <td>0</td>\n",
       "      <td>0</td>\n",
       "      <td>2013-09-26</td>\n",
       "      <td>0</td>\n",
       "    </tr>\n",
       "    <tr>\n",
       "      <th>8471</th>\n",
       "      <td>58</td>\n",
       "      <td>56.214286</td>\n",
       "      <td>58.714286</td>\n",
       "      <td>52</td>\n",
       "      <td>51.142857</td>\n",
       "      <td>54.071429</td>\n",
       "      <td>50</td>\n",
       "      <td>53.000000</td>\n",
       "      <td>57.357143</td>\n",
       "      <td>63</td>\n",
       "      <td>...</td>\n",
       "      <td>0.001429</td>\n",
       "      <td>0.137143</td>\n",
       "      <td>4.2</td>\n",
       "      <td>7.992857</td>\n",
       "      <td>42.009876</td>\n",
       "      <td>-87.807277</td>\n",
       "      <td>0</td>\n",
       "      <td>2</td>\n",
       "      <td>2013-09-26</td>\n",
       "      <td>0</td>\n",
       "    </tr>\n",
       "    <tr>\n",
       "      <th>8472</th>\n",
       "      <td>58</td>\n",
       "      <td>55.428571</td>\n",
       "      <td>58.785714</td>\n",
       "      <td>52</td>\n",
       "      <td>50.142857</td>\n",
       "      <td>54.428571</td>\n",
       "      <td>55</td>\n",
       "      <td>51.928571</td>\n",
       "      <td>57.357143</td>\n",
       "      <td>65</td>\n",
       "      <td>...</td>\n",
       "      <td>0.001429</td>\n",
       "      <td>0.137143</td>\n",
       "      <td>4.6</td>\n",
       "      <td>7.607143</td>\n",
       "      <td>41.776428</td>\n",
       "      <td>-87.627096</td>\n",
       "      <td>0</td>\n",
       "      <td>0</td>\n",
       "      <td>2013-09-26</td>\n",
       "      <td>0</td>\n",
       "    </tr>\n",
       "    <tr>\n",
       "      <th>8473</th>\n",
       "      <td>58</td>\n",
       "      <td>56.214286</td>\n",
       "      <td>58.714286</td>\n",
       "      <td>52</td>\n",
       "      <td>51.142857</td>\n",
       "      <td>54.071429</td>\n",
       "      <td>50</td>\n",
       "      <td>53.000000</td>\n",
       "      <td>57.357143</td>\n",
       "      <td>63</td>\n",
       "      <td>...</td>\n",
       "      <td>0.001429</td>\n",
       "      <td>0.137143</td>\n",
       "      <td>4.2</td>\n",
       "      <td>7.992857</td>\n",
       "      <td>41.974689</td>\n",
       "      <td>-87.890615</td>\n",
       "      <td>0</td>\n",
       "      <td>2</td>\n",
       "      <td>2013-09-26</td>\n",
       "      <td>0</td>\n",
       "    </tr>\n",
       "    <tr>\n",
       "      <th>8474</th>\n",
       "      <td>58</td>\n",
       "      <td>56.214286</td>\n",
       "      <td>58.714286</td>\n",
       "      <td>52</td>\n",
       "      <td>51.142857</td>\n",
       "      <td>54.071429</td>\n",
       "      <td>50</td>\n",
       "      <td>53.000000</td>\n",
       "      <td>57.357143</td>\n",
       "      <td>63</td>\n",
       "      <td>...</td>\n",
       "      <td>0.001429</td>\n",
       "      <td>0.137143</td>\n",
       "      <td>4.2</td>\n",
       "      <td>7.992857</td>\n",
       "      <td>41.974689</td>\n",
       "      <td>-87.890615</td>\n",
       "      <td>0</td>\n",
       "      <td>2</td>\n",
       "      <td>2013-09-26</td>\n",
       "      <td>1</td>\n",
       "    </tr>\n",
       "  </tbody>\n",
       "</table>\n",
       "<p>8475 rows × 51 columns</p>\n",
       "</div>"
      ],
      "text/plain": [
       "      wetbulb  wetbulb_rolling_14  wetbulb_rolling_14_lag_10  dewpoint  \\\n",
       "0          65           58.285714                  53.214286        58   \n",
       "1          65           58.285714                  53.214286        58   \n",
       "2          65           58.285714                  53.214286        58   \n",
       "3          65           58.285714                  53.214286        58   \n",
       "4          65           58.285714                  53.214286        58   \n",
       "...       ...                 ...                        ...       ...   \n",
       "8470       58           55.428571                  58.785714        52   \n",
       "8471       58           56.214286                  58.714286        52   \n",
       "8472       58           55.428571                  58.785714        52   \n",
       "8473       58           56.214286                  58.714286        52   \n",
       "8474       58           56.214286                  58.714286        52   \n",
       "\n",
       "      dewpoint_rolling_14  dewpoint_rolling_14_lag_10  tmin  tmin_rolling_14  \\\n",
       "0               49.857143                   42.214286    60        57.642857   \n",
       "1               49.857143                   42.214286    60        57.642857   \n",
       "2               49.857143                   42.214286    60        57.642857   \n",
       "3               49.857143                   42.214286    60        57.642857   \n",
       "4               49.857143                   42.214286    60        57.642857   \n",
       "...                   ...                         ...   ...              ...   \n",
       "8470            50.142857                   54.428571    55        51.928571   \n",
       "8471            51.142857                   54.071429    50        53.000000   \n",
       "8472            50.142857                   54.428571    55        51.928571   \n",
       "8473            51.142857                   54.071429    50        53.000000   \n",
       "8474            51.142857                   54.071429    50        53.000000   \n",
       "\n",
       "      tmin_rolling_14_lag_10  tavg  ...  preciptotal_rolling_14  \\\n",
       "0                  51.571429    74  ...                0.108571   \n",
       "1                  51.571429    74  ...                0.108571   \n",
       "2                  51.571429    74  ...                0.108571   \n",
       "3                  51.571429    74  ...                0.108571   \n",
       "4                  51.571429    74  ...                0.108571   \n",
       "...                      ...   ...  ...                     ...   \n",
       "8470               57.357143    65  ...                0.001429   \n",
       "8471               57.357143    63  ...                0.001429   \n",
       "8472               57.357143    65  ...                0.001429   \n",
       "8473               57.357143    63  ...                0.001429   \n",
       "8474               57.357143    63  ...                0.001429   \n",
       "\n",
       "      preciptotal_rolling_14_lag_7  avgspeed  avgspeed_rolling_14        lat  \\\n",
       "0                         0.020714       6.5             9.557143  41.954690   \n",
       "1                         0.020714       6.5             9.557143  41.954690   \n",
       "2                         0.020714       6.5             9.557143  41.994991   \n",
       "3                         0.020714       6.5             9.557143  41.974089   \n",
       "4                         0.020714       6.5             9.557143  41.974089   \n",
       "...                            ...       ...                  ...        ...   \n",
       "8470                      0.137143       4.6             7.607143  41.912563   \n",
       "8471                      0.137143       4.2             7.992857  42.009876   \n",
       "8472                      0.137143       4.6             7.607143  41.776428   \n",
       "8473                      0.137143       4.2             7.992857  41.974689   \n",
       "8474                      0.137143       4.2             7.992857  41.974689   \n",
       "\n",
       "           long  cool  heat       date  wnv  \n",
       "0    -87.800991     9     0 2007-05-29    0  \n",
       "1    -87.800991     9     0 2007-05-29    0  \n",
       "2    -87.769279     9     0 2007-05-29    0  \n",
       "3    -87.824812     9     0 2007-05-29    0  \n",
       "4    -87.824812     9     0 2007-05-29    0  \n",
       "...         ...   ...   ...        ...  ...  \n",
       "8470 -87.668055     0     0 2013-09-26    0  \n",
       "8471 -87.807277     0     2 2013-09-26    0  \n",
       "8472 -87.627096     0     0 2013-09-26    0  \n",
       "8473 -87.890615     0     2 2013-09-26    0  \n",
       "8474 -87.890615     0     2 2013-09-26    1  \n",
       "\n",
       "[8475 rows x 51 columns]"
      ]
     },
     "execution_count": 4,
     "metadata": {},
     "output_type": "execute_result"
    }
   ],
   "source": [
    "df_train"
   ]
  },
  {
   "cell_type": "code",
   "execution_count": 5,
   "metadata": {},
   "outputs": [],
   "source": [
    "y=df_train['wnv']\n",
    "X=df_train.drop(columns=['wnv','date'])"
   ]
  },
  {
   "cell_type": "code",
   "execution_count": 6,
   "metadata": {},
   "outputs": [
    {
     "data": {
      "text/plain": [
       "0    0.946077\n",
       "1    0.053923\n",
       "Name: wnv, dtype: float64"
      ]
     },
     "execution_count": 6,
     "metadata": {},
     "output_type": "execute_result"
    }
   ],
   "source": [
    "y.value_counts(normalize=True)"
   ]
  },
  {
   "cell_type": "code",
   "execution_count": 7,
   "metadata": {},
   "outputs": [],
   "source": [
    "X_train,X_test,y_train,y_test=train_test_split(X,y,random_state=42,stratify=y)"
   ]
  },
  {
   "cell_type": "code",
   "execution_count": 8,
   "metadata": {
    "scrolled": true
   },
   "outputs": [
    {
     "data": {
      "text/plain": [
       "0    0.946201\n",
       "1    0.053799\n",
       "Name: wnv, dtype: float64"
      ]
     },
     "execution_count": 8,
     "metadata": {},
     "output_type": "execute_result"
    }
   ],
   "source": [
    "y_test.value_counts(normalize=True)"
   ]
  },
  {
   "cell_type": "code",
   "execution_count": 9,
   "metadata": {},
   "outputs": [],
   "source": [
    "ss=StandardScaler()\n",
    "X_train_sc=pd.DataFrame(ss.fit_transform(X_train),columns=X_train.columns,index=X_train.index)\n",
    "X_test_sc=pd.DataFrame(ss.transform(X_test),columns=X_test.columns,index=X_test.index)"
   ]
  },
  {
   "cell_type": "code",
   "execution_count": 10,
   "metadata": {},
   "outputs": [
    {
     "data": {
      "text/html": [
       "<div>\n",
       "<style scoped>\n",
       "    .dataframe tbody tr th:only-of-type {\n",
       "        vertical-align: middle;\n",
       "    }\n",
       "\n",
       "    .dataframe tbody tr th {\n",
       "        vertical-align: top;\n",
       "    }\n",
       "\n",
       "    .dataframe thead th {\n",
       "        text-align: right;\n",
       "    }\n",
       "</style>\n",
       "<table border=\"1\" class=\"dataframe\">\n",
       "  <thead>\n",
       "    <tr style=\"text-align: right;\">\n",
       "      <th></th>\n",
       "      <th>wetbulb</th>\n",
       "      <th>wetbulb_rolling_14</th>\n",
       "      <th>wetbulb_rolling_14_lag_10</th>\n",
       "      <th>dewpoint</th>\n",
       "      <th>dewpoint_rolling_14</th>\n",
       "      <th>dewpoint_rolling_14_lag_10</th>\n",
       "      <th>tmin</th>\n",
       "      <th>tmin_rolling_14</th>\n",
       "      <th>tmin_rolling_14_lag_10</th>\n",
       "      <th>tavg</th>\n",
       "      <th>...</th>\n",
       "      <th>hz_rolling_14_lag_7</th>\n",
       "      <th>preciptotal</th>\n",
       "      <th>preciptotal_rolling_14</th>\n",
       "      <th>preciptotal_rolling_14_lag_7</th>\n",
       "      <th>avgspeed</th>\n",
       "      <th>avgspeed_rolling_14</th>\n",
       "      <th>lat</th>\n",
       "      <th>long</th>\n",
       "      <th>cool</th>\n",
       "      <th>heat</th>\n",
       "    </tr>\n",
       "  </thead>\n",
       "  <tbody>\n",
       "    <tr>\n",
       "      <th>4903</th>\n",
       "      <td>-0.804139</td>\n",
       "      <td>0.409570</td>\n",
       "      <td>-0.400908</td>\n",
       "      <td>-0.538605</td>\n",
       "      <td>0.761898</td>\n",
       "      <td>-0.294206</td>\n",
       "      <td>-0.464361</td>\n",
       "      <td>0.195446</td>\n",
       "      <td>-0.596783</td>\n",
       "      <td>-1.143459</td>\n",
       "      <td>...</td>\n",
       "      <td>-0.965302</td>\n",
       "      <td>-0.398935</td>\n",
       "      <td>0.032953</td>\n",
       "      <td>1.099194</td>\n",
       "      <td>0.462932</td>\n",
       "      <td>1.751266</td>\n",
       "      <td>-0.481082</td>\n",
       "      <td>0.481207</td>\n",
       "      <td>-1.489587</td>\n",
       "      <td>0.016994</td>\n",
       "    </tr>\n",
       "    <tr>\n",
       "      <th>6913</th>\n",
       "      <td>1.106116</td>\n",
       "      <td>0.409570</td>\n",
       "      <td>-0.356939</td>\n",
       "      <td>1.343886</td>\n",
       "      <td>0.570766</td>\n",
       "      <td>-0.206417</td>\n",
       "      <td>0.964423</td>\n",
       "      <td>0.245425</td>\n",
       "      <td>0.023886</td>\n",
       "      <td>0.821526</td>\n",
       "      <td>...</td>\n",
       "      <td>0.000152</td>\n",
       "      <td>1.994650</td>\n",
       "      <td>-0.227543</td>\n",
       "      <td>-0.800310</td>\n",
       "      <td>1.180444</td>\n",
       "      <td>-0.422668</td>\n",
       "      <td>-0.647089</td>\n",
       "      <td>-1.000369</td>\n",
       "      <td>0.912584</td>\n",
       "      <td>-0.341854</td>\n",
       "    </tr>\n",
       "    <tr>\n",
       "      <th>1961</th>\n",
       "      <td>0.224460</td>\n",
       "      <td>0.025101</td>\n",
       "      <td>0.551745</td>\n",
       "      <td>0.088892</td>\n",
       "      <td>-0.117309</td>\n",
       "      <td>0.684017</td>\n",
       "      <td>-0.074693</td>\n",
       "      <td>-0.129421</td>\n",
       "      <td>0.398873</td>\n",
       "      <td>0.428529</td>\n",
       "      <td>...</td>\n",
       "      <td>-0.965302</td>\n",
       "      <td>-0.398935</td>\n",
       "      <td>-0.838216</td>\n",
       "      <td>-0.605782</td>\n",
       "      <td>-1.290986</td>\n",
       "      <td>-0.933449</td>\n",
       "      <td>0.715979</td>\n",
       "      <td>-1.193483</td>\n",
       "      <td>0.397833</td>\n",
       "      <td>-0.341854</td>\n",
       "    </tr>\n",
       "    <tr>\n",
       "      <th>907</th>\n",
       "      <td>0.812231</td>\n",
       "      <td>0.694362</td>\n",
       "      <td>0.141371</td>\n",
       "      <td>0.465390</td>\n",
       "      <td>0.545281</td>\n",
       "      <td>0.082034</td>\n",
       "      <td>0.704644</td>\n",
       "      <td>0.720230</td>\n",
       "      <td>0.243706</td>\n",
       "      <td>0.952525</td>\n",
       "      <td>...</td>\n",
       "      <td>1.931060</td>\n",
       "      <td>-0.398935</td>\n",
       "      <td>-0.287330</td>\n",
       "      <td>-0.205284</td>\n",
       "      <td>-1.530156</td>\n",
       "      <td>-0.759036</td>\n",
       "      <td>-0.179521</td>\n",
       "      <td>0.319697</td>\n",
       "      <td>1.084168</td>\n",
       "      <td>-0.341854</td>\n",
       "    </tr>\n",
       "    <tr>\n",
       "      <th>786</th>\n",
       "      <td>0.812231</td>\n",
       "      <td>0.694362</td>\n",
       "      <td>0.141371</td>\n",
       "      <td>0.465390</td>\n",
       "      <td>0.545281</td>\n",
       "      <td>0.082034</td>\n",
       "      <td>0.704644</td>\n",
       "      <td>0.720230</td>\n",
       "      <td>0.243706</td>\n",
       "      <td>0.952525</td>\n",
       "      <td>...</td>\n",
       "      <td>1.931060</td>\n",
       "      <td>-0.398935</td>\n",
       "      <td>-0.287330</td>\n",
       "      <td>-0.205284</td>\n",
       "      <td>-1.530156</td>\n",
       "      <td>-0.759036</td>\n",
       "      <td>-0.740648</td>\n",
       "      <td>1.566548</td>\n",
       "      <td>1.084168</td>\n",
       "      <td>-0.341854</td>\n",
       "    </tr>\n",
       "    <tr>\n",
       "      <th>...</th>\n",
       "      <td>...</td>\n",
       "      <td>...</td>\n",
       "      <td>...</td>\n",
       "      <td>...</td>\n",
       "      <td>...</td>\n",
       "      <td>...</td>\n",
       "      <td>...</td>\n",
       "      <td>...</td>\n",
       "      <td>...</td>\n",
       "      <td>...</td>\n",
       "      <td>...</td>\n",
       "      <td>...</td>\n",
       "      <td>...</td>\n",
       "      <td>...</td>\n",
       "      <td>...</td>\n",
       "      <td>...</td>\n",
       "      <td>...</td>\n",
       "      <td>...</td>\n",
       "      <td>...</td>\n",
       "      <td>...</td>\n",
       "      <td>...</td>\n",
       "    </tr>\n",
       "    <tr>\n",
       "      <th>7607</th>\n",
       "      <td>-0.363311</td>\n",
       "      <td>0.167497</td>\n",
       "      <td>-0.459533</td>\n",
       "      <td>-0.538605</td>\n",
       "      <td>0.201244</td>\n",
       "      <td>-0.319289</td>\n",
       "      <td>0.704644</td>\n",
       "      <td>0.295405</td>\n",
       "      <td>-0.428685</td>\n",
       "      <td>0.166531</td>\n",
       "      <td>...</td>\n",
       "      <td>-0.482575</td>\n",
       "      <td>-0.398935</td>\n",
       "      <td>-0.334304</td>\n",
       "      <td>0.103671</td>\n",
       "      <td>1.300029</td>\n",
       "      <td>0.723475</td>\n",
       "      <td>-1.541978</td>\n",
       "      <td>1.895567</td>\n",
       "      <td>0.054666</td>\n",
       "      <td>-0.341854</td>\n",
       "    </tr>\n",
       "    <tr>\n",
       "      <th>4235</th>\n",
       "      <td>-0.510254</td>\n",
       "      <td>-0.501764</td>\n",
       "      <td>0.405183</td>\n",
       "      <td>0.088892</td>\n",
       "      <td>-0.168278</td>\n",
       "      <td>0.583686</td>\n",
       "      <td>-0.334471</td>\n",
       "      <td>-0.641711</td>\n",
       "      <td>0.373012</td>\n",
       "      <td>-1.143459</td>\n",
       "      <td>...</td>\n",
       "      <td>-0.965302</td>\n",
       "      <td>2.308095</td>\n",
       "      <td>0.336155</td>\n",
       "      <td>0.361134</td>\n",
       "      <td>0.861550</td>\n",
       "      <td>1.010011</td>\n",
       "      <td>1.118251</td>\n",
       "      <td>0.034737</td>\n",
       "      <td>-1.489587</td>\n",
       "      <td>0.016994</td>\n",
       "    </tr>\n",
       "    <tr>\n",
       "      <th>2855</th>\n",
       "      <td>-1.979681</td>\n",
       "      <td>-1.811806</td>\n",
       "      <td>-1.690653</td>\n",
       "      <td>-1.542600</td>\n",
       "      <td>-1.646365</td>\n",
       "      <td>-1.460549</td>\n",
       "      <td>-1.763255</td>\n",
       "      <td>-1.941177</td>\n",
       "      <td>-1.476064</td>\n",
       "      <td>-2.191451</td>\n",
       "      <td>...</td>\n",
       "      <td>0.000152</td>\n",
       "      <td>-0.227965</td>\n",
       "      <td>-0.210462</td>\n",
       "      <td>0.916109</td>\n",
       "      <td>0.662241</td>\n",
       "      <td>0.038281</td>\n",
       "      <td>0.433451</td>\n",
       "      <td>0.478153</td>\n",
       "      <td>-1.489587</td>\n",
       "      <td>2.887774</td>\n",
       "    </tr>\n",
       "    <tr>\n",
       "      <th>5920</th>\n",
       "      <td>-0.069426</td>\n",
       "      <td>0.324132</td>\n",
       "      <td>0.390527</td>\n",
       "      <td>-0.162107</td>\n",
       "      <td>0.430602</td>\n",
       "      <td>0.345401</td>\n",
       "      <td>-0.334471</td>\n",
       "      <td>0.245425</td>\n",
       "      <td>0.256637</td>\n",
       "      <td>-0.095467</td>\n",
       "      <td>...</td>\n",
       "      <td>-0.482575</td>\n",
       "      <td>-0.398935</td>\n",
       "      <td>0.255016</td>\n",
       "      <td>0.292477</td>\n",
       "      <td>-1.649742</td>\n",
       "      <td>-0.846243</td>\n",
       "      <td>-1.144875</td>\n",
       "      <td>0.531870</td>\n",
       "      <td>-0.288501</td>\n",
       "      <td>-0.341854</td>\n",
       "    </tr>\n",
       "    <tr>\n",
       "      <th>6052</th>\n",
       "      <td>1.400001</td>\n",
       "      <td>0.580445</td>\n",
       "      <td>0.214652</td>\n",
       "      <td>1.218386</td>\n",
       "      <td>0.532539</td>\n",
       "      <td>0.307777</td>\n",
       "      <td>2.003538</td>\n",
       "      <td>0.595282</td>\n",
       "      <td>0.114400</td>\n",
       "      <td>1.869518</td>\n",
       "      <td>...</td>\n",
       "      <td>-0.965302</td>\n",
       "      <td>-0.398935</td>\n",
       "      <td>-0.791242</td>\n",
       "      <td>-0.691603</td>\n",
       "      <td>-0.374165</td>\n",
       "      <td>-0.578394</td>\n",
       "      <td>-1.319915</td>\n",
       "      <td>1.533552</td>\n",
       "      <td>2.285253</td>\n",
       "      <td>-0.341854</td>\n",
       "    </tr>\n",
       "  </tbody>\n",
       "</table>\n",
       "<p>6356 rows × 49 columns</p>\n",
       "</div>"
      ],
      "text/plain": [
       "       wetbulb  wetbulb_rolling_14  wetbulb_rolling_14_lag_10  dewpoint  \\\n",
       "4903 -0.804139            0.409570                  -0.400908 -0.538605   \n",
       "6913  1.106116            0.409570                  -0.356939  1.343886   \n",
       "1961  0.224460            0.025101                   0.551745  0.088892   \n",
       "907   0.812231            0.694362                   0.141371  0.465390   \n",
       "786   0.812231            0.694362                   0.141371  0.465390   \n",
       "...        ...                 ...                        ...       ...   \n",
       "7607 -0.363311            0.167497                  -0.459533 -0.538605   \n",
       "4235 -0.510254           -0.501764                   0.405183  0.088892   \n",
       "2855 -1.979681           -1.811806                  -1.690653 -1.542600   \n",
       "5920 -0.069426            0.324132                   0.390527 -0.162107   \n",
       "6052  1.400001            0.580445                   0.214652  1.218386   \n",
       "\n",
       "      dewpoint_rolling_14  dewpoint_rolling_14_lag_10      tmin  \\\n",
       "4903             0.761898                   -0.294206 -0.464361   \n",
       "6913             0.570766                   -0.206417  0.964423   \n",
       "1961            -0.117309                    0.684017 -0.074693   \n",
       "907              0.545281                    0.082034  0.704644   \n",
       "786              0.545281                    0.082034  0.704644   \n",
       "...                   ...                         ...       ...   \n",
       "7607             0.201244                   -0.319289  0.704644   \n",
       "4235            -0.168278                    0.583686 -0.334471   \n",
       "2855            -1.646365                   -1.460549 -1.763255   \n",
       "5920             0.430602                    0.345401 -0.334471   \n",
       "6052             0.532539                    0.307777  2.003538   \n",
       "\n",
       "      tmin_rolling_14  tmin_rolling_14_lag_10      tavg  ...  \\\n",
       "4903         0.195446               -0.596783 -1.143459  ...   \n",
       "6913         0.245425                0.023886  0.821526  ...   \n",
       "1961        -0.129421                0.398873  0.428529  ...   \n",
       "907          0.720230                0.243706  0.952525  ...   \n",
       "786          0.720230                0.243706  0.952525  ...   \n",
       "...               ...                     ...       ...  ...   \n",
       "7607         0.295405               -0.428685  0.166531  ...   \n",
       "4235        -0.641711                0.373012 -1.143459  ...   \n",
       "2855        -1.941177               -1.476064 -2.191451  ...   \n",
       "5920         0.245425                0.256637 -0.095467  ...   \n",
       "6052         0.595282                0.114400  1.869518  ...   \n",
       "\n",
       "      hz_rolling_14_lag_7  preciptotal  preciptotal_rolling_14  \\\n",
       "4903            -0.965302    -0.398935                0.032953   \n",
       "6913             0.000152     1.994650               -0.227543   \n",
       "1961            -0.965302    -0.398935               -0.838216   \n",
       "907              1.931060    -0.398935               -0.287330   \n",
       "786              1.931060    -0.398935               -0.287330   \n",
       "...                   ...          ...                     ...   \n",
       "7607            -0.482575    -0.398935               -0.334304   \n",
       "4235            -0.965302     2.308095                0.336155   \n",
       "2855             0.000152    -0.227965               -0.210462   \n",
       "5920            -0.482575    -0.398935                0.255016   \n",
       "6052            -0.965302    -0.398935               -0.791242   \n",
       "\n",
       "      preciptotal_rolling_14_lag_7  avgspeed  avgspeed_rolling_14       lat  \\\n",
       "4903                      1.099194  0.462932             1.751266 -0.481082   \n",
       "6913                     -0.800310  1.180444            -0.422668 -0.647089   \n",
       "1961                     -0.605782 -1.290986            -0.933449  0.715979   \n",
       "907                      -0.205284 -1.530156            -0.759036 -0.179521   \n",
       "786                      -0.205284 -1.530156            -0.759036 -0.740648   \n",
       "...                            ...       ...                  ...       ...   \n",
       "7607                      0.103671  1.300029             0.723475 -1.541978   \n",
       "4235                      0.361134  0.861550             1.010011  1.118251   \n",
       "2855                      0.916109  0.662241             0.038281  0.433451   \n",
       "5920                      0.292477 -1.649742            -0.846243 -1.144875   \n",
       "6052                     -0.691603 -0.374165            -0.578394 -1.319915   \n",
       "\n",
       "          long      cool      heat  \n",
       "4903  0.481207 -1.489587  0.016994  \n",
       "6913 -1.000369  0.912584 -0.341854  \n",
       "1961 -1.193483  0.397833 -0.341854  \n",
       "907   0.319697  1.084168 -0.341854  \n",
       "786   1.566548  1.084168 -0.341854  \n",
       "...        ...       ...       ...  \n",
       "7607  1.895567  0.054666 -0.341854  \n",
       "4235  0.034737 -1.489587  0.016994  \n",
       "2855  0.478153 -1.489587  2.887774  \n",
       "5920  0.531870 -0.288501 -0.341854  \n",
       "6052  1.533552  2.285253 -0.341854  \n",
       "\n",
       "[6356 rows x 49 columns]"
      ]
     },
     "execution_count": 10,
     "metadata": {},
     "output_type": "execute_result"
    }
   ],
   "source": [
    "X_train_sc"
   ]
  },
  {
   "cell_type": "code",
   "execution_count": 11,
   "metadata": {},
   "outputs": [],
   "source": [
    "smote=SMOTE(random_state=42, k_neighbors=5)\n",
    "X_train_sc_sm,y_train_sm=smote.fit_resample(X_train_sc,y_train)"
   ]
  },
  {
   "cell_type": "markdown",
   "metadata": {},
   "source": [
    "## Recursive Feature Elimination"
   ]
  },
  {
   "cell_type": "code",
   "execution_count": 12,
   "metadata": {},
   "outputs": [],
   "source": [
    "rfe=RFECV(estimator=XGBClassifier(use_label_encoder=False),\n",
    "          step=1,\n",
    "          cv=5,\n",
    "          scoring='roc_auc'\n",
    "         )"
   ]
  },
  {
   "cell_type": "code",
   "execution_count": 13,
   "metadata": {
    "scrolled": true
   },
   "outputs": [
    {
     "name": "stdout",
     "output_type": "stream",
     "text": [
      "[09:30:42] WARNING: /Users/travis/build/dmlc/xgboost/src/learner.cc:1061: Starting in XGBoost 1.3.0, the default evaluation metric used with the objective 'binary:logistic' was changed from 'error' to 'logloss'. Explicitly set eval_metric if you'd like to restore the old behavior.\n",
      "[09:30:43] WARNING: /Users/travis/build/dmlc/xgboost/src/learner.cc:1061: Starting in XGBoost 1.3.0, the default evaluation metric used with the objective 'binary:logistic' was changed from 'error' to 'logloss'. Explicitly set eval_metric if you'd like to restore the old behavior.\n",
      "[09:30:43] WARNING: /Users/travis/build/dmlc/xgboost/src/learner.cc:1061: Starting in XGBoost 1.3.0, the default evaluation metric used with the objective 'binary:logistic' was changed from 'error' to 'logloss'. Explicitly set eval_metric if you'd like to restore the old behavior.\n",
      "[09:30:44] WARNING: /Users/travis/build/dmlc/xgboost/src/learner.cc:1061: Starting in XGBoost 1.3.0, the default evaluation metric used with the objective 'binary:logistic' was changed from 'error' to 'logloss'. Explicitly set eval_metric if you'd like to restore the old behavior.\n",
      "[09:30:45] WARNING: /Users/travis/build/dmlc/xgboost/src/learner.cc:1061: Starting in XGBoost 1.3.0, the default evaluation metric used with the objective 'binary:logistic' was changed from 'error' to 'logloss'. Explicitly set eval_metric if you'd like to restore the old behavior.\n",
      "[09:30:46] WARNING: /Users/travis/build/dmlc/xgboost/src/learner.cc:1061: Starting in XGBoost 1.3.0, the default evaluation metric used with the objective 'binary:logistic' was changed from 'error' to 'logloss'. Explicitly set eval_metric if you'd like to restore the old behavior.\n",
      "[09:30:46] WARNING: /Users/travis/build/dmlc/xgboost/src/learner.cc:1061: Starting in XGBoost 1.3.0, the default evaluation metric used with the objective 'binary:logistic' was changed from 'error' to 'logloss'. Explicitly set eval_metric if you'd like to restore the old behavior.\n",
      "[09:30:47] WARNING: /Users/travis/build/dmlc/xgboost/src/learner.cc:1061: Starting in XGBoost 1.3.0, the default evaluation metric used with the objective 'binary:logistic' was changed from 'error' to 'logloss'. Explicitly set eval_metric if you'd like to restore the old behavior.\n",
      "[09:30:48] WARNING: /Users/travis/build/dmlc/xgboost/src/learner.cc:1061: Starting in XGBoost 1.3.0, the default evaluation metric used with the objective 'binary:logistic' was changed from 'error' to 'logloss'. Explicitly set eval_metric if you'd like to restore the old behavior.\n",
      "[09:30:49] WARNING: /Users/travis/build/dmlc/xgboost/src/learner.cc:1061: Starting in XGBoost 1.3.0, the default evaluation metric used with the objective 'binary:logistic' was changed from 'error' to 'logloss'. Explicitly set eval_metric if you'd like to restore the old behavior.\n",
      "[09:30:49] WARNING: /Users/travis/build/dmlc/xgboost/src/learner.cc:1061: Starting in XGBoost 1.3.0, the default evaluation metric used with the objective 'binary:logistic' was changed from 'error' to 'logloss'. Explicitly set eval_metric if you'd like to restore the old behavior.\n",
      "[09:30:50] WARNING: /Users/travis/build/dmlc/xgboost/src/learner.cc:1061: Starting in XGBoost 1.3.0, the default evaluation metric used with the objective 'binary:logistic' was changed from 'error' to 'logloss'. Explicitly set eval_metric if you'd like to restore the old behavior.\n",
      "[09:30:50] WARNING: /Users/travis/build/dmlc/xgboost/src/learner.cc:1061: Starting in XGBoost 1.3.0, the default evaluation metric used with the objective 'binary:logistic' was changed from 'error' to 'logloss'. Explicitly set eval_metric if you'd like to restore the old behavior.\n",
      "[09:30:51] WARNING: /Users/travis/build/dmlc/xgboost/src/learner.cc:1061: Starting in XGBoost 1.3.0, the default evaluation metric used with the objective 'binary:logistic' was changed from 'error' to 'logloss'. Explicitly set eval_metric if you'd like to restore the old behavior.\n",
      "[09:30:51] WARNING: /Users/travis/build/dmlc/xgboost/src/learner.cc:1061: Starting in XGBoost 1.3.0, the default evaluation metric used with the objective 'binary:logistic' was changed from 'error' to 'logloss'. Explicitly set eval_metric if you'd like to restore the old behavior.\n",
      "[09:30:52] WARNING: /Users/travis/build/dmlc/xgboost/src/learner.cc:1061: Starting in XGBoost 1.3.0, the default evaluation metric used with the objective 'binary:logistic' was changed from 'error' to 'logloss'. Explicitly set eval_metric if you'd like to restore the old behavior.\n",
      "[09:30:53] WARNING: /Users/travis/build/dmlc/xgboost/src/learner.cc:1061: Starting in XGBoost 1.3.0, the default evaluation metric used with the objective 'binary:logistic' was changed from 'error' to 'logloss'. Explicitly set eval_metric if you'd like to restore the old behavior.\n",
      "[09:30:53] WARNING: /Users/travis/build/dmlc/xgboost/src/learner.cc:1061: Starting in XGBoost 1.3.0, the default evaluation metric used with the objective 'binary:logistic' was changed from 'error' to 'logloss'. Explicitly set eval_metric if you'd like to restore the old behavior.\n",
      "[09:30:54] WARNING: /Users/travis/build/dmlc/xgboost/src/learner.cc:1061: Starting in XGBoost 1.3.0, the default evaluation metric used with the objective 'binary:logistic' was changed from 'error' to 'logloss'. Explicitly set eval_metric if you'd like to restore the old behavior.\n",
      "[09:30:55] WARNING: /Users/travis/build/dmlc/xgboost/src/learner.cc:1061: Starting in XGBoost 1.3.0, the default evaluation metric used with the objective 'binary:logistic' was changed from 'error' to 'logloss'. Explicitly set eval_metric if you'd like to restore the old behavior.\n",
      "[09:30:55] WARNING: /Users/travis/build/dmlc/xgboost/src/learner.cc:1061: Starting in XGBoost 1.3.0, the default evaluation metric used with the objective 'binary:logistic' was changed from 'error' to 'logloss'. Explicitly set eval_metric if you'd like to restore the old behavior.\n",
      "[09:30:56] WARNING: /Users/travis/build/dmlc/xgboost/src/learner.cc:1061: Starting in XGBoost 1.3.0, the default evaluation metric used with the objective 'binary:logistic' was changed from 'error' to 'logloss'. Explicitly set eval_metric if you'd like to restore the old behavior.\n",
      "[09:30:56] WARNING: /Users/travis/build/dmlc/xgboost/src/learner.cc:1061: Starting in XGBoost 1.3.0, the default evaluation metric used with the objective 'binary:logistic' was changed from 'error' to 'logloss'. Explicitly set eval_metric if you'd like to restore the old behavior.\n",
      "[09:30:57] WARNING: /Users/travis/build/dmlc/xgboost/src/learner.cc:1061: Starting in XGBoost 1.3.0, the default evaluation metric used with the objective 'binary:logistic' was changed from 'error' to 'logloss'. Explicitly set eval_metric if you'd like to restore the old behavior.\n",
      "[09:30:57] WARNING: /Users/travis/build/dmlc/xgboost/src/learner.cc:1061: Starting in XGBoost 1.3.0, the default evaluation metric used with the objective 'binary:logistic' was changed from 'error' to 'logloss'. Explicitly set eval_metric if you'd like to restore the old behavior.\n",
      "[09:30:58] WARNING: /Users/travis/build/dmlc/xgboost/src/learner.cc:1061: Starting in XGBoost 1.3.0, the default evaluation metric used with the objective 'binary:logistic' was changed from 'error' to 'logloss'. Explicitly set eval_metric if you'd like to restore the old behavior.\n",
      "[09:30:58] WARNING: /Users/travis/build/dmlc/xgboost/src/learner.cc:1061: Starting in XGBoost 1.3.0, the default evaluation metric used with the objective 'binary:logistic' was changed from 'error' to 'logloss'. Explicitly set eval_metric if you'd like to restore the old behavior.\n",
      "[09:30:58] WARNING: /Users/travis/build/dmlc/xgboost/src/learner.cc:1061: Starting in XGBoost 1.3.0, the default evaluation metric used with the objective 'binary:logistic' was changed from 'error' to 'logloss'. Explicitly set eval_metric if you'd like to restore the old behavior.\n",
      "[09:30:59] WARNING: /Users/travis/build/dmlc/xgboost/src/learner.cc:1061: Starting in XGBoost 1.3.0, the default evaluation metric used with the objective 'binary:logistic' was changed from 'error' to 'logloss'. Explicitly set eval_metric if you'd like to restore the old behavior.\n",
      "[09:30:59] WARNING: /Users/travis/build/dmlc/xgboost/src/learner.cc:1061: Starting in XGBoost 1.3.0, the default evaluation metric used with the objective 'binary:logistic' was changed from 'error' to 'logloss'. Explicitly set eval_metric if you'd like to restore the old behavior.\n"
     ]
    },
    {
     "name": "stdout",
     "output_type": "stream",
     "text": [
      "[09:31:00] WARNING: /Users/travis/build/dmlc/xgboost/src/learner.cc:1061: Starting in XGBoost 1.3.0, the default evaluation metric used with the objective 'binary:logistic' was changed from 'error' to 'logloss'. Explicitly set eval_metric if you'd like to restore the old behavior.\n",
      "[09:31:00] WARNING: /Users/travis/build/dmlc/xgboost/src/learner.cc:1061: Starting in XGBoost 1.3.0, the default evaluation metric used with the objective 'binary:logistic' was changed from 'error' to 'logloss'. Explicitly set eval_metric if you'd like to restore the old behavior.\n",
      "[09:31:01] WARNING: /Users/travis/build/dmlc/xgboost/src/learner.cc:1061: Starting in XGBoost 1.3.0, the default evaluation metric used with the objective 'binary:logistic' was changed from 'error' to 'logloss'. Explicitly set eval_metric if you'd like to restore the old behavior.\n",
      "[09:31:01] WARNING: /Users/travis/build/dmlc/xgboost/src/learner.cc:1061: Starting in XGBoost 1.3.0, the default evaluation metric used with the objective 'binary:logistic' was changed from 'error' to 'logloss'. Explicitly set eval_metric if you'd like to restore the old behavior.\n",
      "[09:31:01] WARNING: /Users/travis/build/dmlc/xgboost/src/learner.cc:1061: Starting in XGBoost 1.3.0, the default evaluation metric used with the objective 'binary:logistic' was changed from 'error' to 'logloss'. Explicitly set eval_metric if you'd like to restore the old behavior.\n",
      "[09:31:02] WARNING: /Users/travis/build/dmlc/xgboost/src/learner.cc:1061: Starting in XGBoost 1.3.0, the default evaluation metric used with the objective 'binary:logistic' was changed from 'error' to 'logloss'. Explicitly set eval_metric if you'd like to restore the old behavior.\n",
      "[09:31:02] WARNING: /Users/travis/build/dmlc/xgboost/src/learner.cc:1061: Starting in XGBoost 1.3.0, the default evaluation metric used with the objective 'binary:logistic' was changed from 'error' to 'logloss'. Explicitly set eval_metric if you'd like to restore the old behavior.\n",
      "[09:31:02] WARNING: /Users/travis/build/dmlc/xgboost/src/learner.cc:1061: Starting in XGBoost 1.3.0, the default evaluation metric used with the objective 'binary:logistic' was changed from 'error' to 'logloss'. Explicitly set eval_metric if you'd like to restore the old behavior.\n",
      "[09:31:03] WARNING: /Users/travis/build/dmlc/xgboost/src/learner.cc:1061: Starting in XGBoost 1.3.0, the default evaluation metric used with the objective 'binary:logistic' was changed from 'error' to 'logloss'. Explicitly set eval_metric if you'd like to restore the old behavior.\n",
      "[09:31:03] WARNING: /Users/travis/build/dmlc/xgboost/src/learner.cc:1061: Starting in XGBoost 1.3.0, the default evaluation metric used with the objective 'binary:logistic' was changed from 'error' to 'logloss'. Explicitly set eval_metric if you'd like to restore the old behavior.\n",
      "[09:31:03] WARNING: /Users/travis/build/dmlc/xgboost/src/learner.cc:1061: Starting in XGBoost 1.3.0, the default evaluation metric used with the objective 'binary:logistic' was changed from 'error' to 'logloss'. Explicitly set eval_metric if you'd like to restore the old behavior.\n",
      "[09:31:03] WARNING: /Users/travis/build/dmlc/xgboost/src/learner.cc:1061: Starting in XGBoost 1.3.0, the default evaluation metric used with the objective 'binary:logistic' was changed from 'error' to 'logloss'. Explicitly set eval_metric if you'd like to restore the old behavior.\n",
      "[09:31:04] WARNING: /Users/travis/build/dmlc/xgboost/src/learner.cc:1061: Starting in XGBoost 1.3.0, the default evaluation metric used with the objective 'binary:logistic' was changed from 'error' to 'logloss'. Explicitly set eval_metric if you'd like to restore the old behavior.\n",
      "[09:31:04] WARNING: /Users/travis/build/dmlc/xgboost/src/learner.cc:1061: Starting in XGBoost 1.3.0, the default evaluation metric used with the objective 'binary:logistic' was changed from 'error' to 'logloss'. Explicitly set eval_metric if you'd like to restore the old behavior.\n",
      "[09:31:04] WARNING: /Users/travis/build/dmlc/xgboost/src/learner.cc:1061: Starting in XGBoost 1.3.0, the default evaluation metric used with the objective 'binary:logistic' was changed from 'error' to 'logloss'. Explicitly set eval_metric if you'd like to restore the old behavior.\n",
      "[09:31:05] WARNING: /Users/travis/build/dmlc/xgboost/src/learner.cc:1061: Starting in XGBoost 1.3.0, the default evaluation metric used with the objective 'binary:logistic' was changed from 'error' to 'logloss'. Explicitly set eval_metric if you'd like to restore the old behavior.\n",
      "[09:31:05] WARNING: /Users/travis/build/dmlc/xgboost/src/learner.cc:1061: Starting in XGBoost 1.3.0, the default evaluation metric used with the objective 'binary:logistic' was changed from 'error' to 'logloss'. Explicitly set eval_metric if you'd like to restore the old behavior.\n",
      "[09:31:05] WARNING: /Users/travis/build/dmlc/xgboost/src/learner.cc:1061: Starting in XGBoost 1.3.0, the default evaluation metric used with the objective 'binary:logistic' was changed from 'error' to 'logloss'. Explicitly set eval_metric if you'd like to restore the old behavior.\n",
      "[09:31:05] WARNING: /Users/travis/build/dmlc/xgboost/src/learner.cc:1061: Starting in XGBoost 1.3.0, the default evaluation metric used with the objective 'binary:logistic' was changed from 'error' to 'logloss'. Explicitly set eval_metric if you'd like to restore the old behavior.\n",
      "[09:31:05] WARNING: /Users/travis/build/dmlc/xgboost/src/learner.cc:1061: Starting in XGBoost 1.3.0, the default evaluation metric used with the objective 'binary:logistic' was changed from 'error' to 'logloss'. Explicitly set eval_metric if you'd like to restore the old behavior.\n",
      "[09:31:06] WARNING: /Users/travis/build/dmlc/xgboost/src/learner.cc:1061: Starting in XGBoost 1.3.0, the default evaluation metric used with the objective 'binary:logistic' was changed from 'error' to 'logloss'. Explicitly set eval_metric if you'd like to restore the old behavior.\n",
      "[09:31:07] WARNING: /Users/travis/build/dmlc/xgboost/src/learner.cc:1061: Starting in XGBoost 1.3.0, the default evaluation metric used with the objective 'binary:logistic' was changed from 'error' to 'logloss'. Explicitly set eval_metric if you'd like to restore the old behavior.\n",
      "[09:31:07] WARNING: /Users/travis/build/dmlc/xgboost/src/learner.cc:1061: Starting in XGBoost 1.3.0, the default evaluation metric used with the objective 'binary:logistic' was changed from 'error' to 'logloss'. Explicitly set eval_metric if you'd like to restore the old behavior.\n",
      "[09:31:08] WARNING: /Users/travis/build/dmlc/xgboost/src/learner.cc:1061: Starting in XGBoost 1.3.0, the default evaluation metric used with the objective 'binary:logistic' was changed from 'error' to 'logloss'. Explicitly set eval_metric if you'd like to restore the old behavior.\n",
      "[09:31:09] WARNING: /Users/travis/build/dmlc/xgboost/src/learner.cc:1061: Starting in XGBoost 1.3.0, the default evaluation metric used with the objective 'binary:logistic' was changed from 'error' to 'logloss'. Explicitly set eval_metric if you'd like to restore the old behavior.\n",
      "[09:31:09] WARNING: /Users/travis/build/dmlc/xgboost/src/learner.cc:1061: Starting in XGBoost 1.3.0, the default evaluation metric used with the objective 'binary:logistic' was changed from 'error' to 'logloss'. Explicitly set eval_metric if you'd like to restore the old behavior.\n",
      "[09:31:10] WARNING: /Users/travis/build/dmlc/xgboost/src/learner.cc:1061: Starting in XGBoost 1.3.0, the default evaluation metric used with the objective 'binary:logistic' was changed from 'error' to 'logloss'. Explicitly set eval_metric if you'd like to restore the old behavior.\n",
      "[09:31:11] WARNING: /Users/travis/build/dmlc/xgboost/src/learner.cc:1061: Starting in XGBoost 1.3.0, the default evaluation metric used with the objective 'binary:logistic' was changed from 'error' to 'logloss'. Explicitly set eval_metric if you'd like to restore the old behavior.\n",
      "[09:31:12] WARNING: /Users/travis/build/dmlc/xgboost/src/learner.cc:1061: Starting in XGBoost 1.3.0, the default evaluation metric used with the objective 'binary:logistic' was changed from 'error' to 'logloss'. Explicitly set eval_metric if you'd like to restore the old behavior.\n",
      "[09:31:12] WARNING: /Users/travis/build/dmlc/xgboost/src/learner.cc:1061: Starting in XGBoost 1.3.0, the default evaluation metric used with the objective 'binary:logistic' was changed from 'error' to 'logloss'. Explicitly set eval_metric if you'd like to restore the old behavior.\n"
     ]
    },
    {
     "name": "stdout",
     "output_type": "stream",
     "text": [
      "[09:31:13] WARNING: /Users/travis/build/dmlc/xgboost/src/learner.cc:1061: Starting in XGBoost 1.3.0, the default evaluation metric used with the objective 'binary:logistic' was changed from 'error' to 'logloss'. Explicitly set eval_metric if you'd like to restore the old behavior.\n",
      "[09:31:14] WARNING: /Users/travis/build/dmlc/xgboost/src/learner.cc:1061: Starting in XGBoost 1.3.0, the default evaluation metric used with the objective 'binary:logistic' was changed from 'error' to 'logloss'. Explicitly set eval_metric if you'd like to restore the old behavior.\n",
      "[09:31:14] WARNING: /Users/travis/build/dmlc/xgboost/src/learner.cc:1061: Starting in XGBoost 1.3.0, the default evaluation metric used with the objective 'binary:logistic' was changed from 'error' to 'logloss'. Explicitly set eval_metric if you'd like to restore the old behavior.\n",
      "[09:31:15] WARNING: /Users/travis/build/dmlc/xgboost/src/learner.cc:1061: Starting in XGBoost 1.3.0, the default evaluation metric used with the objective 'binary:logistic' was changed from 'error' to 'logloss'. Explicitly set eval_metric if you'd like to restore the old behavior.\n",
      "[09:31:16] WARNING: /Users/travis/build/dmlc/xgboost/src/learner.cc:1061: Starting in XGBoost 1.3.0, the default evaluation metric used with the objective 'binary:logistic' was changed from 'error' to 'logloss'. Explicitly set eval_metric if you'd like to restore the old behavior.\n",
      "[09:31:16] WARNING: /Users/travis/build/dmlc/xgboost/src/learner.cc:1061: Starting in XGBoost 1.3.0, the default evaluation metric used with the objective 'binary:logistic' was changed from 'error' to 'logloss'. Explicitly set eval_metric if you'd like to restore the old behavior.\n",
      "[09:31:17] WARNING: /Users/travis/build/dmlc/xgboost/src/learner.cc:1061: Starting in XGBoost 1.3.0, the default evaluation metric used with the objective 'binary:logistic' was changed from 'error' to 'logloss'. Explicitly set eval_metric if you'd like to restore the old behavior.\n",
      "[09:31:18] WARNING: /Users/travis/build/dmlc/xgboost/src/learner.cc:1061: Starting in XGBoost 1.3.0, the default evaluation metric used with the objective 'binary:logistic' was changed from 'error' to 'logloss'. Explicitly set eval_metric if you'd like to restore the old behavior.\n",
      "[09:31:18] WARNING: /Users/travis/build/dmlc/xgboost/src/learner.cc:1061: Starting in XGBoost 1.3.0, the default evaluation metric used with the objective 'binary:logistic' was changed from 'error' to 'logloss'. Explicitly set eval_metric if you'd like to restore the old behavior.\n",
      "[09:31:19] WARNING: /Users/travis/build/dmlc/xgboost/src/learner.cc:1061: Starting in XGBoost 1.3.0, the default evaluation metric used with the objective 'binary:logistic' was changed from 'error' to 'logloss'. Explicitly set eval_metric if you'd like to restore the old behavior.\n",
      "[09:31:19] WARNING: /Users/travis/build/dmlc/xgboost/src/learner.cc:1061: Starting in XGBoost 1.3.0, the default evaluation metric used with the objective 'binary:logistic' was changed from 'error' to 'logloss'. Explicitly set eval_metric if you'd like to restore the old behavior.\n",
      "[09:31:20] WARNING: /Users/travis/build/dmlc/xgboost/src/learner.cc:1061: Starting in XGBoost 1.3.0, the default evaluation metric used with the objective 'binary:logistic' was changed from 'error' to 'logloss'. Explicitly set eval_metric if you'd like to restore the old behavior.\n",
      "[09:31:21] WARNING: /Users/travis/build/dmlc/xgboost/src/learner.cc:1061: Starting in XGBoost 1.3.0, the default evaluation metric used with the objective 'binary:logistic' was changed from 'error' to 'logloss'. Explicitly set eval_metric if you'd like to restore the old behavior.\n",
      "[09:31:21] WARNING: /Users/travis/build/dmlc/xgboost/src/learner.cc:1061: Starting in XGBoost 1.3.0, the default evaluation metric used with the objective 'binary:logistic' was changed from 'error' to 'logloss'. Explicitly set eval_metric if you'd like to restore the old behavior.\n",
      "[09:31:22] WARNING: /Users/travis/build/dmlc/xgboost/src/learner.cc:1061: Starting in XGBoost 1.3.0, the default evaluation metric used with the objective 'binary:logistic' was changed from 'error' to 'logloss'. Explicitly set eval_metric if you'd like to restore the old behavior.\n",
      "[09:31:22] WARNING: /Users/travis/build/dmlc/xgboost/src/learner.cc:1061: Starting in XGBoost 1.3.0, the default evaluation metric used with the objective 'binary:logistic' was changed from 'error' to 'logloss'. Explicitly set eval_metric if you'd like to restore the old behavior.\n",
      "[09:31:23] WARNING: /Users/travis/build/dmlc/xgboost/src/learner.cc:1061: Starting in XGBoost 1.3.0, the default evaluation metric used with the objective 'binary:logistic' was changed from 'error' to 'logloss'. Explicitly set eval_metric if you'd like to restore the old behavior.\n",
      "[09:31:23] WARNING: /Users/travis/build/dmlc/xgboost/src/learner.cc:1061: Starting in XGBoost 1.3.0, the default evaluation metric used with the objective 'binary:logistic' was changed from 'error' to 'logloss'. Explicitly set eval_metric if you'd like to restore the old behavior.\n",
      "[09:31:24] WARNING: /Users/travis/build/dmlc/xgboost/src/learner.cc:1061: Starting in XGBoost 1.3.0, the default evaluation metric used with the objective 'binary:logistic' was changed from 'error' to 'logloss'. Explicitly set eval_metric if you'd like to restore the old behavior.\n",
      "[09:31:24] WARNING: /Users/travis/build/dmlc/xgboost/src/learner.cc:1061: Starting in XGBoost 1.3.0, the default evaluation metric used with the objective 'binary:logistic' was changed from 'error' to 'logloss'. Explicitly set eval_metric if you'd like to restore the old behavior.\n",
      "[09:31:24] WARNING: /Users/travis/build/dmlc/xgboost/src/learner.cc:1061: Starting in XGBoost 1.3.0, the default evaluation metric used with the objective 'binary:logistic' was changed from 'error' to 'logloss'. Explicitly set eval_metric if you'd like to restore the old behavior.\n",
      "[09:31:25] WARNING: /Users/travis/build/dmlc/xgboost/src/learner.cc:1061: Starting in XGBoost 1.3.0, the default evaluation metric used with the objective 'binary:logistic' was changed from 'error' to 'logloss'. Explicitly set eval_metric if you'd like to restore the old behavior.\n",
      "[09:31:25] WARNING: /Users/travis/build/dmlc/xgboost/src/learner.cc:1061: Starting in XGBoost 1.3.0, the default evaluation metric used with the objective 'binary:logistic' was changed from 'error' to 'logloss'. Explicitly set eval_metric if you'd like to restore the old behavior.\n",
      "[09:31:26] WARNING: /Users/travis/build/dmlc/xgboost/src/learner.cc:1061: Starting in XGBoost 1.3.0, the default evaluation metric used with the objective 'binary:logistic' was changed from 'error' to 'logloss'. Explicitly set eval_metric if you'd like to restore the old behavior.\n",
      "[09:31:26] WARNING: /Users/travis/build/dmlc/xgboost/src/learner.cc:1061: Starting in XGBoost 1.3.0, the default evaluation metric used with the objective 'binary:logistic' was changed from 'error' to 'logloss'. Explicitly set eval_metric if you'd like to restore the old behavior.\n",
      "[09:31:26] WARNING: /Users/travis/build/dmlc/xgboost/src/learner.cc:1061: Starting in XGBoost 1.3.0, the default evaluation metric used with the objective 'binary:logistic' was changed from 'error' to 'logloss'. Explicitly set eval_metric if you'd like to restore the old behavior.\n",
      "[09:31:27] WARNING: /Users/travis/build/dmlc/xgboost/src/learner.cc:1061: Starting in XGBoost 1.3.0, the default evaluation metric used with the objective 'binary:logistic' was changed from 'error' to 'logloss'. Explicitly set eval_metric if you'd like to restore the old behavior.\n",
      "[09:31:27] WARNING: /Users/travis/build/dmlc/xgboost/src/learner.cc:1061: Starting in XGBoost 1.3.0, the default evaluation metric used with the objective 'binary:logistic' was changed from 'error' to 'logloss'. Explicitly set eval_metric if you'd like to restore the old behavior.\n",
      "[09:31:27] WARNING: /Users/travis/build/dmlc/xgboost/src/learner.cc:1061: Starting in XGBoost 1.3.0, the default evaluation metric used with the objective 'binary:logistic' was changed from 'error' to 'logloss'. Explicitly set eval_metric if you'd like to restore the old behavior.\n",
      "[09:31:28] WARNING: /Users/travis/build/dmlc/xgboost/src/learner.cc:1061: Starting in XGBoost 1.3.0, the default evaluation metric used with the objective 'binary:logistic' was changed from 'error' to 'logloss'. Explicitly set eval_metric if you'd like to restore the old behavior.\n"
     ]
    },
    {
     "name": "stdout",
     "output_type": "stream",
     "text": [
      "[09:31:28] WARNING: /Users/travis/build/dmlc/xgboost/src/learner.cc:1061: Starting in XGBoost 1.3.0, the default evaluation metric used with the objective 'binary:logistic' was changed from 'error' to 'logloss'. Explicitly set eval_metric if you'd like to restore the old behavior.\n",
      "[09:31:28] WARNING: /Users/travis/build/dmlc/xgboost/src/learner.cc:1061: Starting in XGBoost 1.3.0, the default evaluation metric used with the objective 'binary:logistic' was changed from 'error' to 'logloss'. Explicitly set eval_metric if you'd like to restore the old behavior.\n",
      "[09:31:29] WARNING: /Users/travis/build/dmlc/xgboost/src/learner.cc:1061: Starting in XGBoost 1.3.0, the default evaluation metric used with the objective 'binary:logistic' was changed from 'error' to 'logloss'. Explicitly set eval_metric if you'd like to restore the old behavior.\n",
      "[09:31:29] WARNING: /Users/travis/build/dmlc/xgboost/src/learner.cc:1061: Starting in XGBoost 1.3.0, the default evaluation metric used with the objective 'binary:logistic' was changed from 'error' to 'logloss'. Explicitly set eval_metric if you'd like to restore the old behavior.\n",
      "[09:31:29] WARNING: /Users/travis/build/dmlc/xgboost/src/learner.cc:1061: Starting in XGBoost 1.3.0, the default evaluation metric used with the objective 'binary:logistic' was changed from 'error' to 'logloss'. Explicitly set eval_metric if you'd like to restore the old behavior.\n",
      "[09:31:29] WARNING: /Users/travis/build/dmlc/xgboost/src/learner.cc:1061: Starting in XGBoost 1.3.0, the default evaluation metric used with the objective 'binary:logistic' was changed from 'error' to 'logloss'. Explicitly set eval_metric if you'd like to restore the old behavior.\n",
      "[09:31:30] WARNING: /Users/travis/build/dmlc/xgboost/src/learner.cc:1061: Starting in XGBoost 1.3.0, the default evaluation metric used with the objective 'binary:logistic' was changed from 'error' to 'logloss'. Explicitly set eval_metric if you'd like to restore the old behavior.\n",
      "[09:31:30] WARNING: /Users/travis/build/dmlc/xgboost/src/learner.cc:1061: Starting in XGBoost 1.3.0, the default evaluation metric used with the objective 'binary:logistic' was changed from 'error' to 'logloss'. Explicitly set eval_metric if you'd like to restore the old behavior.\n",
      "[09:31:30] WARNING: /Users/travis/build/dmlc/xgboost/src/learner.cc:1061: Starting in XGBoost 1.3.0, the default evaluation metric used with the objective 'binary:logistic' was changed from 'error' to 'logloss'. Explicitly set eval_metric if you'd like to restore the old behavior.\n",
      "[09:31:31] WARNING: /Users/travis/build/dmlc/xgboost/src/learner.cc:1061: Starting in XGBoost 1.3.0, the default evaluation metric used with the objective 'binary:logistic' was changed from 'error' to 'logloss'. Explicitly set eval_metric if you'd like to restore the old behavior.\n",
      "[09:31:31] WARNING: /Users/travis/build/dmlc/xgboost/src/learner.cc:1061: Starting in XGBoost 1.3.0, the default evaluation metric used with the objective 'binary:logistic' was changed from 'error' to 'logloss'. Explicitly set eval_metric if you'd like to restore the old behavior.\n",
      "[09:31:32] WARNING: /Users/travis/build/dmlc/xgboost/src/learner.cc:1061: Starting in XGBoost 1.3.0, the default evaluation metric used with the objective 'binary:logistic' was changed from 'error' to 'logloss'. Explicitly set eval_metric if you'd like to restore the old behavior.\n",
      "[09:31:33] WARNING: /Users/travis/build/dmlc/xgboost/src/learner.cc:1061: Starting in XGBoost 1.3.0, the default evaluation metric used with the objective 'binary:logistic' was changed from 'error' to 'logloss'. Explicitly set eval_metric if you'd like to restore the old behavior.\n",
      "[09:31:34] WARNING: /Users/travis/build/dmlc/xgboost/src/learner.cc:1061: Starting in XGBoost 1.3.0, the default evaluation metric used with the objective 'binary:logistic' was changed from 'error' to 'logloss'. Explicitly set eval_metric if you'd like to restore the old behavior.\n",
      "[09:31:34] WARNING: /Users/travis/build/dmlc/xgboost/src/learner.cc:1061: Starting in XGBoost 1.3.0, the default evaluation metric used with the objective 'binary:logistic' was changed from 'error' to 'logloss'. Explicitly set eval_metric if you'd like to restore the old behavior.\n",
      "[09:31:35] WARNING: /Users/travis/build/dmlc/xgboost/src/learner.cc:1061: Starting in XGBoost 1.3.0, the default evaluation metric used with the objective 'binary:logistic' was changed from 'error' to 'logloss'. Explicitly set eval_metric if you'd like to restore the old behavior.\n",
      "[09:31:36] WARNING: /Users/travis/build/dmlc/xgboost/src/learner.cc:1061: Starting in XGBoost 1.3.0, the default evaluation metric used with the objective 'binary:logistic' was changed from 'error' to 'logloss'. Explicitly set eval_metric if you'd like to restore the old behavior.\n",
      "[09:31:37] WARNING: /Users/travis/build/dmlc/xgboost/src/learner.cc:1061: Starting in XGBoost 1.3.0, the default evaluation metric used with the objective 'binary:logistic' was changed from 'error' to 'logloss'. Explicitly set eval_metric if you'd like to restore the old behavior.\n",
      "[09:31:37] WARNING: /Users/travis/build/dmlc/xgboost/src/learner.cc:1061: Starting in XGBoost 1.3.0, the default evaluation metric used with the objective 'binary:logistic' was changed from 'error' to 'logloss'. Explicitly set eval_metric if you'd like to restore the old behavior.\n",
      "[09:31:38] WARNING: /Users/travis/build/dmlc/xgboost/src/learner.cc:1061: Starting in XGBoost 1.3.0, the default evaluation metric used with the objective 'binary:logistic' was changed from 'error' to 'logloss'. Explicitly set eval_metric if you'd like to restore the old behavior.\n",
      "[09:31:39] WARNING: /Users/travis/build/dmlc/xgboost/src/learner.cc:1061: Starting in XGBoost 1.3.0, the default evaluation metric used with the objective 'binary:logistic' was changed from 'error' to 'logloss'. Explicitly set eval_metric if you'd like to restore the old behavior.\n",
      "[09:31:40] WARNING: /Users/travis/build/dmlc/xgboost/src/learner.cc:1061: Starting in XGBoost 1.3.0, the default evaluation metric used with the objective 'binary:logistic' was changed from 'error' to 'logloss'. Explicitly set eval_metric if you'd like to restore the old behavior.\n",
      "[09:31:40] WARNING: /Users/travis/build/dmlc/xgboost/src/learner.cc:1061: Starting in XGBoost 1.3.0, the default evaluation metric used with the objective 'binary:logistic' was changed from 'error' to 'logloss'. Explicitly set eval_metric if you'd like to restore the old behavior.\n",
      "[09:31:41] WARNING: /Users/travis/build/dmlc/xgboost/src/learner.cc:1061: Starting in XGBoost 1.3.0, the default evaluation metric used with the objective 'binary:logistic' was changed from 'error' to 'logloss'. Explicitly set eval_metric if you'd like to restore the old behavior.\n",
      "[09:31:42] WARNING: /Users/travis/build/dmlc/xgboost/src/learner.cc:1061: Starting in XGBoost 1.3.0, the default evaluation metric used with the objective 'binary:logistic' was changed from 'error' to 'logloss'. Explicitly set eval_metric if you'd like to restore the old behavior.\n",
      "[09:31:42] WARNING: /Users/travis/build/dmlc/xgboost/src/learner.cc:1061: Starting in XGBoost 1.3.0, the default evaluation metric used with the objective 'binary:logistic' was changed from 'error' to 'logloss'. Explicitly set eval_metric if you'd like to restore the old behavior.\n",
      "[09:31:43] WARNING: /Users/travis/build/dmlc/xgboost/src/learner.cc:1061: Starting in XGBoost 1.3.0, the default evaluation metric used with the objective 'binary:logistic' was changed from 'error' to 'logloss'. Explicitly set eval_metric if you'd like to restore the old behavior.\n",
      "[09:31:44] WARNING: /Users/travis/build/dmlc/xgboost/src/learner.cc:1061: Starting in XGBoost 1.3.0, the default evaluation metric used with the objective 'binary:logistic' was changed from 'error' to 'logloss'. Explicitly set eval_metric if you'd like to restore the old behavior.\n",
      "[09:31:44] WARNING: /Users/travis/build/dmlc/xgboost/src/learner.cc:1061: Starting in XGBoost 1.3.0, the default evaluation metric used with the objective 'binary:logistic' was changed from 'error' to 'logloss'. Explicitly set eval_metric if you'd like to restore the old behavior.\n",
      "[09:31:45] WARNING: /Users/travis/build/dmlc/xgboost/src/learner.cc:1061: Starting in XGBoost 1.3.0, the default evaluation metric used with the objective 'binary:logistic' was changed from 'error' to 'logloss'. Explicitly set eval_metric if you'd like to restore the old behavior.\n"
     ]
    },
    {
     "name": "stdout",
     "output_type": "stream",
     "text": [
      "[09:31:45] WARNING: /Users/travis/build/dmlc/xgboost/src/learner.cc:1061: Starting in XGBoost 1.3.0, the default evaluation metric used with the objective 'binary:logistic' was changed from 'error' to 'logloss'. Explicitly set eval_metric if you'd like to restore the old behavior.\n",
      "[09:31:46] WARNING: /Users/travis/build/dmlc/xgboost/src/learner.cc:1061: Starting in XGBoost 1.3.0, the default evaluation metric used with the objective 'binary:logistic' was changed from 'error' to 'logloss'. Explicitly set eval_metric if you'd like to restore the old behavior.\n",
      "[09:31:46] WARNING: /Users/travis/build/dmlc/xgboost/src/learner.cc:1061: Starting in XGBoost 1.3.0, the default evaluation metric used with the objective 'binary:logistic' was changed from 'error' to 'logloss'. Explicitly set eval_metric if you'd like to restore the old behavior.\n",
      "[09:31:47] WARNING: /Users/travis/build/dmlc/xgboost/src/learner.cc:1061: Starting in XGBoost 1.3.0, the default evaluation metric used with the objective 'binary:logistic' was changed from 'error' to 'logloss'. Explicitly set eval_metric if you'd like to restore the old behavior.\n",
      "[09:31:47] WARNING: /Users/travis/build/dmlc/xgboost/src/learner.cc:1061: Starting in XGBoost 1.3.0, the default evaluation metric used with the objective 'binary:logistic' was changed from 'error' to 'logloss'. Explicitly set eval_metric if you'd like to restore the old behavior.\n",
      "[09:31:48] WARNING: /Users/travis/build/dmlc/xgboost/src/learner.cc:1061: Starting in XGBoost 1.3.0, the default evaluation metric used with the objective 'binary:logistic' was changed from 'error' to 'logloss'. Explicitly set eval_metric if you'd like to restore the old behavior.\n",
      "[09:31:48] WARNING: /Users/travis/build/dmlc/xgboost/src/learner.cc:1061: Starting in XGBoost 1.3.0, the default evaluation metric used with the objective 'binary:logistic' was changed from 'error' to 'logloss'. Explicitly set eval_metric if you'd like to restore the old behavior.\n",
      "[09:31:49] WARNING: /Users/travis/build/dmlc/xgboost/src/learner.cc:1061: Starting in XGBoost 1.3.0, the default evaluation metric used with the objective 'binary:logistic' was changed from 'error' to 'logloss'. Explicitly set eval_metric if you'd like to restore the old behavior.\n",
      "[09:31:49] WARNING: /Users/travis/build/dmlc/xgboost/src/learner.cc:1061: Starting in XGBoost 1.3.0, the default evaluation metric used with the objective 'binary:logistic' was changed from 'error' to 'logloss'. Explicitly set eval_metric if you'd like to restore the old behavior.\n",
      "[09:31:49] WARNING: /Users/travis/build/dmlc/xgboost/src/learner.cc:1061: Starting in XGBoost 1.3.0, the default evaluation metric used with the objective 'binary:logistic' was changed from 'error' to 'logloss'. Explicitly set eval_metric if you'd like to restore the old behavior.\n",
      "[09:31:50] WARNING: /Users/travis/build/dmlc/xgboost/src/learner.cc:1061: Starting in XGBoost 1.3.0, the default evaluation metric used with the objective 'binary:logistic' was changed from 'error' to 'logloss'. Explicitly set eval_metric if you'd like to restore the old behavior.\n",
      "[09:31:50] WARNING: /Users/travis/build/dmlc/xgboost/src/learner.cc:1061: Starting in XGBoost 1.3.0, the default evaluation metric used with the objective 'binary:logistic' was changed from 'error' to 'logloss'. Explicitly set eval_metric if you'd like to restore the old behavior.\n",
      "[09:31:51] WARNING: /Users/travis/build/dmlc/xgboost/src/learner.cc:1061: Starting in XGBoost 1.3.0, the default evaluation metric used with the objective 'binary:logistic' was changed from 'error' to 'logloss'. Explicitly set eval_metric if you'd like to restore the old behavior.\n",
      "[09:31:51] WARNING: /Users/travis/build/dmlc/xgboost/src/learner.cc:1061: Starting in XGBoost 1.3.0, the default evaluation metric used with the objective 'binary:logistic' was changed from 'error' to 'logloss'. Explicitly set eval_metric if you'd like to restore the old behavior.\n",
      "[09:31:51] WARNING: /Users/travis/build/dmlc/xgboost/src/learner.cc:1061: Starting in XGBoost 1.3.0, the default evaluation metric used with the objective 'binary:logistic' was changed from 'error' to 'logloss'. Explicitly set eval_metric if you'd like to restore the old behavior.\n",
      "[09:31:52] WARNING: /Users/travis/build/dmlc/xgboost/src/learner.cc:1061: Starting in XGBoost 1.3.0, the default evaluation metric used with the objective 'binary:logistic' was changed from 'error' to 'logloss'. Explicitly set eval_metric if you'd like to restore the old behavior.\n",
      "[09:31:52] WARNING: /Users/travis/build/dmlc/xgboost/src/learner.cc:1061: Starting in XGBoost 1.3.0, the default evaluation metric used with the objective 'binary:logistic' was changed from 'error' to 'logloss'. Explicitly set eval_metric if you'd like to restore the old behavior.\n",
      "[09:31:52] WARNING: /Users/travis/build/dmlc/xgboost/src/learner.cc:1061: Starting in XGBoost 1.3.0, the default evaluation metric used with the objective 'binary:logistic' was changed from 'error' to 'logloss'. Explicitly set eval_metric if you'd like to restore the old behavior.\n",
      "[09:31:53] WARNING: /Users/travis/build/dmlc/xgboost/src/learner.cc:1061: Starting in XGBoost 1.3.0, the default evaluation metric used with the objective 'binary:logistic' was changed from 'error' to 'logloss'. Explicitly set eval_metric if you'd like to restore the old behavior.\n",
      "[09:31:53] WARNING: /Users/travis/build/dmlc/xgboost/src/learner.cc:1061: Starting in XGBoost 1.3.0, the default evaluation metric used with the objective 'binary:logistic' was changed from 'error' to 'logloss'. Explicitly set eval_metric if you'd like to restore the old behavior.\n",
      "[09:31:54] WARNING: /Users/travis/build/dmlc/xgboost/src/learner.cc:1061: Starting in XGBoost 1.3.0, the default evaluation metric used with the objective 'binary:logistic' was changed from 'error' to 'logloss'. Explicitly set eval_metric if you'd like to restore the old behavior.\n",
      "[09:31:54] WARNING: /Users/travis/build/dmlc/xgboost/src/learner.cc:1061: Starting in XGBoost 1.3.0, the default evaluation metric used with the objective 'binary:logistic' was changed from 'error' to 'logloss'. Explicitly set eval_metric if you'd like to restore the old behavior.\n",
      "[09:31:54] WARNING: /Users/travis/build/dmlc/xgboost/src/learner.cc:1061: Starting in XGBoost 1.3.0, the default evaluation metric used with the objective 'binary:logistic' was changed from 'error' to 'logloss'. Explicitly set eval_metric if you'd like to restore the old behavior.\n",
      "[09:31:54] WARNING: /Users/travis/build/dmlc/xgboost/src/learner.cc:1061: Starting in XGBoost 1.3.0, the default evaluation metric used with the objective 'binary:logistic' was changed from 'error' to 'logloss'. Explicitly set eval_metric if you'd like to restore the old behavior.\n",
      "[09:31:55] WARNING: /Users/travis/build/dmlc/xgboost/src/learner.cc:1061: Starting in XGBoost 1.3.0, the default evaluation metric used with the objective 'binary:logistic' was changed from 'error' to 'logloss'. Explicitly set eval_metric if you'd like to restore the old behavior.\n",
      "[09:31:55] WARNING: /Users/travis/build/dmlc/xgboost/src/learner.cc:1061: Starting in XGBoost 1.3.0, the default evaluation metric used with the objective 'binary:logistic' was changed from 'error' to 'logloss'. Explicitly set eval_metric if you'd like to restore the old behavior.\n",
      "[09:31:55] WARNING: /Users/travis/build/dmlc/xgboost/src/learner.cc:1061: Starting in XGBoost 1.3.0, the default evaluation metric used with the objective 'binary:logistic' was changed from 'error' to 'logloss'. Explicitly set eval_metric if you'd like to restore the old behavior.\n",
      "[09:31:55] WARNING: /Users/travis/build/dmlc/xgboost/src/learner.cc:1061: Starting in XGBoost 1.3.0, the default evaluation metric used with the objective 'binary:logistic' was changed from 'error' to 'logloss'. Explicitly set eval_metric if you'd like to restore the old behavior.\n",
      "[09:31:56] WARNING: /Users/travis/build/dmlc/xgboost/src/learner.cc:1061: Starting in XGBoost 1.3.0, the default evaluation metric used with the objective 'binary:logistic' was changed from 'error' to 'logloss'. Explicitly set eval_metric if you'd like to restore the old behavior.\n",
      "[09:31:56] WARNING: /Users/travis/build/dmlc/xgboost/src/learner.cc:1061: Starting in XGBoost 1.3.0, the default evaluation metric used with the objective 'binary:logistic' was changed from 'error' to 'logloss'. Explicitly set eval_metric if you'd like to restore the old behavior.\n"
     ]
    },
    {
     "name": "stdout",
     "output_type": "stream",
     "text": [
      "[09:31:57] WARNING: /Users/travis/build/dmlc/xgboost/src/learner.cc:1061: Starting in XGBoost 1.3.0, the default evaluation metric used with the objective 'binary:logistic' was changed from 'error' to 'logloss'. Explicitly set eval_metric if you'd like to restore the old behavior.\n",
      "[09:31:58] WARNING: /Users/travis/build/dmlc/xgboost/src/learner.cc:1061: Starting in XGBoost 1.3.0, the default evaluation metric used with the objective 'binary:logistic' was changed from 'error' to 'logloss'. Explicitly set eval_metric if you'd like to restore the old behavior.\n",
      "[09:31:59] WARNING: /Users/travis/build/dmlc/xgboost/src/learner.cc:1061: Starting in XGBoost 1.3.0, the default evaluation metric used with the objective 'binary:logistic' was changed from 'error' to 'logloss'. Explicitly set eval_metric if you'd like to restore the old behavior.\n",
      "[09:31:59] WARNING: /Users/travis/build/dmlc/xgboost/src/learner.cc:1061: Starting in XGBoost 1.3.0, the default evaluation metric used with the objective 'binary:logistic' was changed from 'error' to 'logloss'. Explicitly set eval_metric if you'd like to restore the old behavior.\n",
      "[09:32:00] WARNING: /Users/travis/build/dmlc/xgboost/src/learner.cc:1061: Starting in XGBoost 1.3.0, the default evaluation metric used with the objective 'binary:logistic' was changed from 'error' to 'logloss'. Explicitly set eval_metric if you'd like to restore the old behavior.\n",
      "[09:32:01] WARNING: /Users/travis/build/dmlc/xgboost/src/learner.cc:1061: Starting in XGBoost 1.3.0, the default evaluation metric used with the objective 'binary:logistic' was changed from 'error' to 'logloss'. Explicitly set eval_metric if you'd like to restore the old behavior.\n",
      "[09:32:02] WARNING: /Users/travis/build/dmlc/xgboost/src/learner.cc:1061: Starting in XGBoost 1.3.0, the default evaluation metric used with the objective 'binary:logistic' was changed from 'error' to 'logloss'. Explicitly set eval_metric if you'd like to restore the old behavior.\n",
      "[09:32:02] WARNING: /Users/travis/build/dmlc/xgboost/src/learner.cc:1061: Starting in XGBoost 1.3.0, the default evaluation metric used with the objective 'binary:logistic' was changed from 'error' to 'logloss'. Explicitly set eval_metric if you'd like to restore the old behavior.\n",
      "[09:32:03] WARNING: /Users/travis/build/dmlc/xgboost/src/learner.cc:1061: Starting in XGBoost 1.3.0, the default evaluation metric used with the objective 'binary:logistic' was changed from 'error' to 'logloss'. Explicitly set eval_metric if you'd like to restore the old behavior.\n",
      "[09:32:04] WARNING: /Users/travis/build/dmlc/xgboost/src/learner.cc:1061: Starting in XGBoost 1.3.0, the default evaluation metric used with the objective 'binary:logistic' was changed from 'error' to 'logloss'. Explicitly set eval_metric if you'd like to restore the old behavior.\n",
      "[09:32:05] WARNING: /Users/travis/build/dmlc/xgboost/src/learner.cc:1061: Starting in XGBoost 1.3.0, the default evaluation metric used with the objective 'binary:logistic' was changed from 'error' to 'logloss'. Explicitly set eval_metric if you'd like to restore the old behavior.\n",
      "[09:32:05] WARNING: /Users/travis/build/dmlc/xgboost/src/learner.cc:1061: Starting in XGBoost 1.3.0, the default evaluation metric used with the objective 'binary:logistic' was changed from 'error' to 'logloss'. Explicitly set eval_metric if you'd like to restore the old behavior.\n",
      "[09:32:06] WARNING: /Users/travis/build/dmlc/xgboost/src/learner.cc:1061: Starting in XGBoost 1.3.0, the default evaluation metric used with the objective 'binary:logistic' was changed from 'error' to 'logloss'. Explicitly set eval_metric if you'd like to restore the old behavior.\n",
      "[09:32:07] WARNING: /Users/travis/build/dmlc/xgboost/src/learner.cc:1061: Starting in XGBoost 1.3.0, the default evaluation metric used with the objective 'binary:logistic' was changed from 'error' to 'logloss'. Explicitly set eval_metric if you'd like to restore the old behavior.\n",
      "[09:32:07] WARNING: /Users/travis/build/dmlc/xgboost/src/learner.cc:1061: Starting in XGBoost 1.3.0, the default evaluation metric used with the objective 'binary:logistic' was changed from 'error' to 'logloss'. Explicitly set eval_metric if you'd like to restore the old behavior.\n",
      "[09:32:08] WARNING: /Users/travis/build/dmlc/xgboost/src/learner.cc:1061: Starting in XGBoost 1.3.0, the default evaluation metric used with the objective 'binary:logistic' was changed from 'error' to 'logloss'. Explicitly set eval_metric if you'd like to restore the old behavior.\n",
      "[09:32:09] WARNING: /Users/travis/build/dmlc/xgboost/src/learner.cc:1061: Starting in XGBoost 1.3.0, the default evaluation metric used with the objective 'binary:logistic' was changed from 'error' to 'logloss'. Explicitly set eval_metric if you'd like to restore the old behavior.\n",
      "[09:32:09] WARNING: /Users/travis/build/dmlc/xgboost/src/learner.cc:1061: Starting in XGBoost 1.3.0, the default evaluation metric used with the objective 'binary:logistic' was changed from 'error' to 'logloss'. Explicitly set eval_metric if you'd like to restore the old behavior.\n",
      "[09:32:10] WARNING: /Users/travis/build/dmlc/xgboost/src/learner.cc:1061: Starting in XGBoost 1.3.0, the default evaluation metric used with the objective 'binary:logistic' was changed from 'error' to 'logloss'. Explicitly set eval_metric if you'd like to restore the old behavior.\n",
      "[09:32:11] WARNING: /Users/travis/build/dmlc/xgboost/src/learner.cc:1061: Starting in XGBoost 1.3.0, the default evaluation metric used with the objective 'binary:logistic' was changed from 'error' to 'logloss'. Explicitly set eval_metric if you'd like to restore the old behavior.\n",
      "[09:32:11] WARNING: /Users/travis/build/dmlc/xgboost/src/learner.cc:1061: Starting in XGBoost 1.3.0, the default evaluation metric used with the objective 'binary:logistic' was changed from 'error' to 'logloss'. Explicitly set eval_metric if you'd like to restore the old behavior.\n",
      "[09:32:12] WARNING: /Users/travis/build/dmlc/xgboost/src/learner.cc:1061: Starting in XGBoost 1.3.0, the default evaluation metric used with the objective 'binary:logistic' was changed from 'error' to 'logloss'. Explicitly set eval_metric if you'd like to restore the old behavior.\n",
      "[09:32:13] WARNING: /Users/travis/build/dmlc/xgboost/src/learner.cc:1061: Starting in XGBoost 1.3.0, the default evaluation metric used with the objective 'binary:logistic' was changed from 'error' to 'logloss'. Explicitly set eval_metric if you'd like to restore the old behavior.\n",
      "[09:32:13] WARNING: /Users/travis/build/dmlc/xgboost/src/learner.cc:1061: Starting in XGBoost 1.3.0, the default evaluation metric used with the objective 'binary:logistic' was changed from 'error' to 'logloss'. Explicitly set eval_metric if you'd like to restore the old behavior.\n",
      "[09:32:14] WARNING: /Users/travis/build/dmlc/xgboost/src/learner.cc:1061: Starting in XGBoost 1.3.0, the default evaluation metric used with the objective 'binary:logistic' was changed from 'error' to 'logloss'. Explicitly set eval_metric if you'd like to restore the old behavior.\n",
      "[09:32:14] WARNING: /Users/travis/build/dmlc/xgboost/src/learner.cc:1061: Starting in XGBoost 1.3.0, the default evaluation metric used with the objective 'binary:logistic' was changed from 'error' to 'logloss'. Explicitly set eval_metric if you'd like to restore the old behavior.\n",
      "[09:32:15] WARNING: /Users/travis/build/dmlc/xgboost/src/learner.cc:1061: Starting in XGBoost 1.3.0, the default evaluation metric used with the objective 'binary:logistic' was changed from 'error' to 'logloss'. Explicitly set eval_metric if you'd like to restore the old behavior.\n",
      "[09:32:15] WARNING: /Users/travis/build/dmlc/xgboost/src/learner.cc:1061: Starting in XGBoost 1.3.0, the default evaluation metric used with the objective 'binary:logistic' was changed from 'error' to 'logloss'. Explicitly set eval_metric if you'd like to restore the old behavior.\n",
      "[09:32:16] WARNING: /Users/travis/build/dmlc/xgboost/src/learner.cc:1061: Starting in XGBoost 1.3.0, the default evaluation metric used with the objective 'binary:logistic' was changed from 'error' to 'logloss'. Explicitly set eval_metric if you'd like to restore the old behavior.\n",
      "[09:32:17] WARNING: /Users/travis/build/dmlc/xgboost/src/learner.cc:1061: Starting in XGBoost 1.3.0, the default evaluation metric used with the objective 'binary:logistic' was changed from 'error' to 'logloss'. Explicitly set eval_metric if you'd like to restore the old behavior.\n"
     ]
    },
    {
     "name": "stdout",
     "output_type": "stream",
     "text": [
      "[09:32:17] WARNING: /Users/travis/build/dmlc/xgboost/src/learner.cc:1061: Starting in XGBoost 1.3.0, the default evaluation metric used with the objective 'binary:logistic' was changed from 'error' to 'logloss'. Explicitly set eval_metric if you'd like to restore the old behavior.\n",
      "[09:32:18] WARNING: /Users/travis/build/dmlc/xgboost/src/learner.cc:1061: Starting in XGBoost 1.3.0, the default evaluation metric used with the objective 'binary:logistic' was changed from 'error' to 'logloss'. Explicitly set eval_metric if you'd like to restore the old behavior.\n",
      "[09:32:18] WARNING: /Users/travis/build/dmlc/xgboost/src/learner.cc:1061: Starting in XGBoost 1.3.0, the default evaluation metric used with the objective 'binary:logistic' was changed from 'error' to 'logloss'. Explicitly set eval_metric if you'd like to restore the old behavior.\n",
      "[09:32:19] WARNING: /Users/travis/build/dmlc/xgboost/src/learner.cc:1061: Starting in XGBoost 1.3.0, the default evaluation metric used with the objective 'binary:logistic' was changed from 'error' to 'logloss'. Explicitly set eval_metric if you'd like to restore the old behavior.\n",
      "[09:32:20] WARNING: /Users/travis/build/dmlc/xgboost/src/learner.cc:1061: Starting in XGBoost 1.3.0, the default evaluation metric used with the objective 'binary:logistic' was changed from 'error' to 'logloss'. Explicitly set eval_metric if you'd like to restore the old behavior.\n",
      "[09:32:20] WARNING: /Users/travis/build/dmlc/xgboost/src/learner.cc:1061: Starting in XGBoost 1.3.0, the default evaluation metric used with the objective 'binary:logistic' was changed from 'error' to 'logloss'. Explicitly set eval_metric if you'd like to restore the old behavior.\n",
      "[09:32:21] WARNING: /Users/travis/build/dmlc/xgboost/src/learner.cc:1061: Starting in XGBoost 1.3.0, the default evaluation metric used with the objective 'binary:logistic' was changed from 'error' to 'logloss'. Explicitly set eval_metric if you'd like to restore the old behavior.\n",
      "[09:32:21] WARNING: /Users/travis/build/dmlc/xgboost/src/learner.cc:1061: Starting in XGBoost 1.3.0, the default evaluation metric used with the objective 'binary:logistic' was changed from 'error' to 'logloss'. Explicitly set eval_metric if you'd like to restore the old behavior.\n",
      "[09:32:22] WARNING: /Users/travis/build/dmlc/xgboost/src/learner.cc:1061: Starting in XGBoost 1.3.0, the default evaluation metric used with the objective 'binary:logistic' was changed from 'error' to 'logloss'. Explicitly set eval_metric if you'd like to restore the old behavior.\n",
      "[09:32:22] WARNING: /Users/travis/build/dmlc/xgboost/src/learner.cc:1061: Starting in XGBoost 1.3.0, the default evaluation metric used with the objective 'binary:logistic' was changed from 'error' to 'logloss'. Explicitly set eval_metric if you'd like to restore the old behavior.\n",
      "[09:32:23] WARNING: /Users/travis/build/dmlc/xgboost/src/learner.cc:1061: Starting in XGBoost 1.3.0, the default evaluation metric used with the objective 'binary:logistic' was changed from 'error' to 'logloss'. Explicitly set eval_metric if you'd like to restore the old behavior.\n",
      "[09:32:23] WARNING: /Users/travis/build/dmlc/xgboost/src/learner.cc:1061: Starting in XGBoost 1.3.0, the default evaluation metric used with the objective 'binary:logistic' was changed from 'error' to 'logloss'. Explicitly set eval_metric if you'd like to restore the old behavior.\n",
      "[09:32:24] WARNING: /Users/travis/build/dmlc/xgboost/src/learner.cc:1061: Starting in XGBoost 1.3.0, the default evaluation metric used with the objective 'binary:logistic' was changed from 'error' to 'logloss'. Explicitly set eval_metric if you'd like to restore the old behavior.\n",
      "[09:32:24] WARNING: /Users/travis/build/dmlc/xgboost/src/learner.cc:1061: Starting in XGBoost 1.3.0, the default evaluation metric used with the objective 'binary:logistic' was changed from 'error' to 'logloss'. Explicitly set eval_metric if you'd like to restore the old behavior.\n",
      "[09:32:24] WARNING: /Users/travis/build/dmlc/xgboost/src/learner.cc:1061: Starting in XGBoost 1.3.0, the default evaluation metric used with the objective 'binary:logistic' was changed from 'error' to 'logloss'. Explicitly set eval_metric if you'd like to restore the old behavior.\n",
      "[09:32:24] WARNING: /Users/travis/build/dmlc/xgboost/src/learner.cc:1061: Starting in XGBoost 1.3.0, the default evaluation metric used with the objective 'binary:logistic' was changed from 'error' to 'logloss'. Explicitly set eval_metric if you'd like to restore the old behavior.\n",
      "[09:32:24] WARNING: /Users/travis/build/dmlc/xgboost/src/learner.cc:1061: Starting in XGBoost 1.3.0, the default evaluation metric used with the objective 'binary:logistic' was changed from 'error' to 'logloss'. Explicitly set eval_metric if you'd like to restore the old behavior.\n",
      "[09:32:25] WARNING: /Users/travis/build/dmlc/xgboost/src/learner.cc:1061: Starting in XGBoost 1.3.0, the default evaluation metric used with the objective 'binary:logistic' was changed from 'error' to 'logloss'. Explicitly set eval_metric if you'd like to restore the old behavior.\n",
      "[09:32:26] WARNING: /Users/travis/build/dmlc/xgboost/src/learner.cc:1061: Starting in XGBoost 1.3.0, the default evaluation metric used with the objective 'binary:logistic' was changed from 'error' to 'logloss'. Explicitly set eval_metric if you'd like to restore the old behavior.\n",
      "[09:32:27] WARNING: /Users/travis/build/dmlc/xgboost/src/learner.cc:1061: Starting in XGBoost 1.3.0, the default evaluation metric used with the objective 'binary:logistic' was changed from 'error' to 'logloss'. Explicitly set eval_metric if you'd like to restore the old behavior.\n",
      "[09:32:28] WARNING: /Users/travis/build/dmlc/xgboost/src/learner.cc:1061: Starting in XGBoost 1.3.0, the default evaluation metric used with the objective 'binary:logistic' was changed from 'error' to 'logloss'. Explicitly set eval_metric if you'd like to restore the old behavior.\n",
      "[09:32:29] WARNING: /Users/travis/build/dmlc/xgboost/src/learner.cc:1061: Starting in XGBoost 1.3.0, the default evaluation metric used with the objective 'binary:logistic' was changed from 'error' to 'logloss'. Explicitly set eval_metric if you'd like to restore the old behavior.\n",
      "[09:32:30] WARNING: /Users/travis/build/dmlc/xgboost/src/learner.cc:1061: Starting in XGBoost 1.3.0, the default evaluation metric used with the objective 'binary:logistic' was changed from 'error' to 'logloss'. Explicitly set eval_metric if you'd like to restore the old behavior.\n",
      "[09:32:31] WARNING: /Users/travis/build/dmlc/xgboost/src/learner.cc:1061: Starting in XGBoost 1.3.0, the default evaluation metric used with the objective 'binary:logistic' was changed from 'error' to 'logloss'. Explicitly set eval_metric if you'd like to restore the old behavior.\n",
      "[09:32:31] WARNING: /Users/travis/build/dmlc/xgboost/src/learner.cc:1061: Starting in XGBoost 1.3.0, the default evaluation metric used with the objective 'binary:logistic' was changed from 'error' to 'logloss'. Explicitly set eval_metric if you'd like to restore the old behavior.\n",
      "[09:32:32] WARNING: /Users/travis/build/dmlc/xgboost/src/learner.cc:1061: Starting in XGBoost 1.3.0, the default evaluation metric used with the objective 'binary:logistic' was changed from 'error' to 'logloss'. Explicitly set eval_metric if you'd like to restore the old behavior.\n",
      "[09:32:33] WARNING: /Users/travis/build/dmlc/xgboost/src/learner.cc:1061: Starting in XGBoost 1.3.0, the default evaluation metric used with the objective 'binary:logistic' was changed from 'error' to 'logloss'. Explicitly set eval_metric if you'd like to restore the old behavior.\n",
      "[09:32:34] WARNING: /Users/travis/build/dmlc/xgboost/src/learner.cc:1061: Starting in XGBoost 1.3.0, the default evaluation metric used with the objective 'binary:logistic' was changed from 'error' to 'logloss'. Explicitly set eval_metric if you'd like to restore the old behavior.\n",
      "[09:32:35] WARNING: /Users/travis/build/dmlc/xgboost/src/learner.cc:1061: Starting in XGBoost 1.3.0, the default evaluation metric used with the objective 'binary:logistic' was changed from 'error' to 'logloss'. Explicitly set eval_metric if you'd like to restore the old behavior.\n",
      "[09:32:36] WARNING: /Users/travis/build/dmlc/xgboost/src/learner.cc:1061: Starting in XGBoost 1.3.0, the default evaluation metric used with the objective 'binary:logistic' was changed from 'error' to 'logloss'. Explicitly set eval_metric if you'd like to restore the old behavior.\n"
     ]
    },
    {
     "name": "stdout",
     "output_type": "stream",
     "text": [
      "[09:32:36] WARNING: /Users/travis/build/dmlc/xgboost/src/learner.cc:1061: Starting in XGBoost 1.3.0, the default evaluation metric used with the objective 'binary:logistic' was changed from 'error' to 'logloss'. Explicitly set eval_metric if you'd like to restore the old behavior.\n",
      "[09:32:37] WARNING: /Users/travis/build/dmlc/xgboost/src/learner.cc:1061: Starting in XGBoost 1.3.0, the default evaluation metric used with the objective 'binary:logistic' was changed from 'error' to 'logloss'. Explicitly set eval_metric if you'd like to restore the old behavior.\n",
      "[09:32:38] WARNING: /Users/travis/build/dmlc/xgboost/src/learner.cc:1061: Starting in XGBoost 1.3.0, the default evaluation metric used with the objective 'binary:logistic' was changed from 'error' to 'logloss'. Explicitly set eval_metric if you'd like to restore the old behavior.\n",
      "[09:32:39] WARNING: /Users/travis/build/dmlc/xgboost/src/learner.cc:1061: Starting in XGBoost 1.3.0, the default evaluation metric used with the objective 'binary:logistic' was changed from 'error' to 'logloss'. Explicitly set eval_metric if you'd like to restore the old behavior.\n",
      "[09:32:39] WARNING: /Users/travis/build/dmlc/xgboost/src/learner.cc:1061: Starting in XGBoost 1.3.0, the default evaluation metric used with the objective 'binary:logistic' was changed from 'error' to 'logloss'. Explicitly set eval_metric if you'd like to restore the old behavior.\n",
      "[09:32:40] WARNING: /Users/travis/build/dmlc/xgboost/src/learner.cc:1061: Starting in XGBoost 1.3.0, the default evaluation metric used with the objective 'binary:logistic' was changed from 'error' to 'logloss'. Explicitly set eval_metric if you'd like to restore the old behavior.\n",
      "[09:32:41] WARNING: /Users/travis/build/dmlc/xgboost/src/learner.cc:1061: Starting in XGBoost 1.3.0, the default evaluation metric used with the objective 'binary:logistic' was changed from 'error' to 'logloss'. Explicitly set eval_metric if you'd like to restore the old behavior.\n",
      "[09:32:41] WARNING: /Users/travis/build/dmlc/xgboost/src/learner.cc:1061: Starting in XGBoost 1.3.0, the default evaluation metric used with the objective 'binary:logistic' was changed from 'error' to 'logloss'. Explicitly set eval_metric if you'd like to restore the old behavior.\n",
      "[09:32:42] WARNING: /Users/travis/build/dmlc/xgboost/src/learner.cc:1061: Starting in XGBoost 1.3.0, the default evaluation metric used with the objective 'binary:logistic' was changed from 'error' to 'logloss'. Explicitly set eval_metric if you'd like to restore the old behavior.\n",
      "[09:32:43] WARNING: /Users/travis/build/dmlc/xgboost/src/learner.cc:1061: Starting in XGBoost 1.3.0, the default evaluation metric used with the objective 'binary:logistic' was changed from 'error' to 'logloss'. Explicitly set eval_metric if you'd like to restore the old behavior.\n",
      "[09:32:44] WARNING: /Users/travis/build/dmlc/xgboost/src/learner.cc:1061: Starting in XGBoost 1.3.0, the default evaluation metric used with the objective 'binary:logistic' was changed from 'error' to 'logloss'. Explicitly set eval_metric if you'd like to restore the old behavior.\n",
      "[09:32:44] WARNING: /Users/travis/build/dmlc/xgboost/src/learner.cc:1061: Starting in XGBoost 1.3.0, the default evaluation metric used with the objective 'binary:logistic' was changed from 'error' to 'logloss'. Explicitly set eval_metric if you'd like to restore the old behavior.\n",
      "[09:32:45] WARNING: /Users/travis/build/dmlc/xgboost/src/learner.cc:1061: Starting in XGBoost 1.3.0, the default evaluation metric used with the objective 'binary:logistic' was changed from 'error' to 'logloss'. Explicitly set eval_metric if you'd like to restore the old behavior.\n",
      "[09:32:46] WARNING: /Users/travis/build/dmlc/xgboost/src/learner.cc:1061: Starting in XGBoost 1.3.0, the default evaluation metric used with the objective 'binary:logistic' was changed from 'error' to 'logloss'. Explicitly set eval_metric if you'd like to restore the old behavior.\n",
      "[09:32:47] WARNING: /Users/travis/build/dmlc/xgboost/src/learner.cc:1061: Starting in XGBoost 1.3.0, the default evaluation metric used with the objective 'binary:logistic' was changed from 'error' to 'logloss'. Explicitly set eval_metric if you'd like to restore the old behavior.\n",
      "[09:32:47] WARNING: /Users/travis/build/dmlc/xgboost/src/learner.cc:1061: Starting in XGBoost 1.3.0, the default evaluation metric used with the objective 'binary:logistic' was changed from 'error' to 'logloss'. Explicitly set eval_metric if you'd like to restore the old behavior.\n",
      "[09:32:48] WARNING: /Users/travis/build/dmlc/xgboost/src/learner.cc:1061: Starting in XGBoost 1.3.0, the default evaluation metric used with the objective 'binary:logistic' was changed from 'error' to 'logloss'. Explicitly set eval_metric if you'd like to restore the old behavior.\n",
      "[09:32:48] WARNING: /Users/travis/build/dmlc/xgboost/src/learner.cc:1061: Starting in XGBoost 1.3.0, the default evaluation metric used with the objective 'binary:logistic' was changed from 'error' to 'logloss'. Explicitly set eval_metric if you'd like to restore the old behavior.\n",
      "[09:32:49] WARNING: /Users/travis/build/dmlc/xgboost/src/learner.cc:1061: Starting in XGBoost 1.3.0, the default evaluation metric used with the objective 'binary:logistic' was changed from 'error' to 'logloss'. Explicitly set eval_metric if you'd like to restore the old behavior.\n",
      "[09:32:49] WARNING: /Users/travis/build/dmlc/xgboost/src/learner.cc:1061: Starting in XGBoost 1.3.0, the default evaluation metric used with the objective 'binary:logistic' was changed from 'error' to 'logloss'. Explicitly set eval_metric if you'd like to restore the old behavior.\n",
      "[09:32:50] WARNING: /Users/travis/build/dmlc/xgboost/src/learner.cc:1061: Starting in XGBoost 1.3.0, the default evaluation metric used with the objective 'binary:logistic' was changed from 'error' to 'logloss'. Explicitly set eval_metric if you'd like to restore the old behavior.\n",
      "[09:32:50] WARNING: /Users/travis/build/dmlc/xgboost/src/learner.cc:1061: Starting in XGBoost 1.3.0, the default evaluation metric used with the objective 'binary:logistic' was changed from 'error' to 'logloss'. Explicitly set eval_metric if you'd like to restore the old behavior.\n",
      "[09:32:51] WARNING: /Users/travis/build/dmlc/xgboost/src/learner.cc:1061: Starting in XGBoost 1.3.0, the default evaluation metric used with the objective 'binary:logistic' was changed from 'error' to 'logloss'. Explicitly set eval_metric if you'd like to restore the old behavior.\n",
      "[09:32:51] WARNING: /Users/travis/build/dmlc/xgboost/src/learner.cc:1061: Starting in XGBoost 1.3.0, the default evaluation metric used with the objective 'binary:logistic' was changed from 'error' to 'logloss'. Explicitly set eval_metric if you'd like to restore the old behavior.\n",
      "[09:32:52] WARNING: /Users/travis/build/dmlc/xgboost/src/learner.cc:1061: Starting in XGBoost 1.3.0, the default evaluation metric used with the objective 'binary:logistic' was changed from 'error' to 'logloss'. Explicitly set eval_metric if you'd like to restore the old behavior.\n",
      "[09:32:52] WARNING: /Users/travis/build/dmlc/xgboost/src/learner.cc:1061: Starting in XGBoost 1.3.0, the default evaluation metric used with the objective 'binary:logistic' was changed from 'error' to 'logloss'. Explicitly set eval_metric if you'd like to restore the old behavior.\n",
      "[09:32:52] WARNING: /Users/travis/build/dmlc/xgboost/src/learner.cc:1061: Starting in XGBoost 1.3.0, the default evaluation metric used with the objective 'binary:logistic' was changed from 'error' to 'logloss'. Explicitly set eval_metric if you'd like to restore the old behavior.\n",
      "[09:32:53] WARNING: /Users/travis/build/dmlc/xgboost/src/learner.cc:1061: Starting in XGBoost 1.3.0, the default evaluation metric used with the objective 'binary:logistic' was changed from 'error' to 'logloss'. Explicitly set eval_metric if you'd like to restore the old behavior.\n",
      "[09:32:53] WARNING: /Users/travis/build/dmlc/xgboost/src/learner.cc:1061: Starting in XGBoost 1.3.0, the default evaluation metric used with the objective 'binary:logistic' was changed from 'error' to 'logloss'. Explicitly set eval_metric if you'd like to restore the old behavior.\n",
      "[09:32:53] WARNING: /Users/travis/build/dmlc/xgboost/src/learner.cc:1061: Starting in XGBoost 1.3.0, the default evaluation metric used with the objective 'binary:logistic' was changed from 'error' to 'logloss'. Explicitly set eval_metric if you'd like to restore the old behavior.\n"
     ]
    },
    {
     "name": "stdout",
     "output_type": "stream",
     "text": [
      "[09:32:54] WARNING: /Users/travis/build/dmlc/xgboost/src/learner.cc:1061: Starting in XGBoost 1.3.0, the default evaluation metric used with the objective 'binary:logistic' was changed from 'error' to 'logloss'. Explicitly set eval_metric if you'd like to restore the old behavior.\n",
      "[09:32:54] WARNING: /Users/travis/build/dmlc/xgboost/src/learner.cc:1061: Starting in XGBoost 1.3.0, the default evaluation metric used with the objective 'binary:logistic' was changed from 'error' to 'logloss'. Explicitly set eval_metric if you'd like to restore the old behavior.\n",
      "[09:32:54] WARNING: /Users/travis/build/dmlc/xgboost/src/learner.cc:1061: Starting in XGBoost 1.3.0, the default evaluation metric used with the objective 'binary:logistic' was changed from 'error' to 'logloss'. Explicitly set eval_metric if you'd like to restore the old behavior.\n",
      "[09:32:55] WARNING: /Users/travis/build/dmlc/xgboost/src/learner.cc:1061: Starting in XGBoost 1.3.0, the default evaluation metric used with the objective 'binary:logistic' was changed from 'error' to 'logloss'. Explicitly set eval_metric if you'd like to restore the old behavior.\n",
      "[09:32:55] WARNING: /Users/travis/build/dmlc/xgboost/src/learner.cc:1061: Starting in XGBoost 1.3.0, the default evaluation metric used with the objective 'binary:logistic' was changed from 'error' to 'logloss'. Explicitly set eval_metric if you'd like to restore the old behavior.\n",
      "[09:32:55] WARNING: /Users/travis/build/dmlc/xgboost/src/learner.cc:1061: Starting in XGBoost 1.3.0, the default evaluation metric used with the objective 'binary:logistic' was changed from 'error' to 'logloss'. Explicitly set eval_metric if you'd like to restore the old behavior.\n",
      "[09:32:56] WARNING: /Users/travis/build/dmlc/xgboost/src/learner.cc:1061: Starting in XGBoost 1.3.0, the default evaluation metric used with the objective 'binary:logistic' was changed from 'error' to 'logloss'. Explicitly set eval_metric if you'd like to restore the old behavior.\n",
      "[09:32:57] WARNING: /Users/travis/build/dmlc/xgboost/src/learner.cc:1061: Starting in XGBoost 1.3.0, the default evaluation metric used with the objective 'binary:logistic' was changed from 'error' to 'logloss'. Explicitly set eval_metric if you'd like to restore the old behavior.\n",
      "[09:32:58] WARNING: /Users/travis/build/dmlc/xgboost/src/learner.cc:1061: Starting in XGBoost 1.3.0, the default evaluation metric used with the objective 'binary:logistic' was changed from 'error' to 'logloss'. Explicitly set eval_metric if you'd like to restore the old behavior.\n",
      "[09:32:59] WARNING: /Users/travis/build/dmlc/xgboost/src/learner.cc:1061: Starting in XGBoost 1.3.0, the default evaluation metric used with the objective 'binary:logistic' was changed from 'error' to 'logloss'. Explicitly set eval_metric if you'd like to restore the old behavior.\n",
      "[09:33:01] WARNING: /Users/travis/build/dmlc/xgboost/src/learner.cc:1061: Starting in XGBoost 1.3.0, the default evaluation metric used with the objective 'binary:logistic' was changed from 'error' to 'logloss'. Explicitly set eval_metric if you'd like to restore the old behavior.\n"
     ]
    },
    {
     "data": {
      "text/plain": [
       "RFECV(cv=5,\n",
       "      estimator=XGBClassifier(base_score=None, booster=None,\n",
       "                              colsample_bylevel=None, colsample_bynode=None,\n",
       "                              colsample_bytree=None, gamma=None, gpu_id=None,\n",
       "                              importance_type='gain',\n",
       "                              interaction_constraints=None, learning_rate=None,\n",
       "                              max_delta_step=None, max_depth=None,\n",
       "                              min_child_weight=None, missing=nan,\n",
       "                              monotone_constraints=None, n_estimators=100,\n",
       "                              n_jobs=None, num_parallel_tree=None,\n",
       "                              random_state=None, reg_alpha=None,\n",
       "                              reg_lambda=None, scale_pos_weight=None,\n",
       "                              subsample=None, tree_method=None,\n",
       "                              use_label_encoder=False, validate_parameters=None,\n",
       "                              verbosity=None),\n",
       "      scoring='roc_auc')"
      ]
     },
     "execution_count": 13,
     "metadata": {},
     "output_type": "execute_result"
    }
   ],
   "source": [
    "rfe.fit(X_train_sc_sm,y_train_sm)"
   ]
  },
  {
   "cell_type": "code",
   "execution_count": 14,
   "metadata": {},
   "outputs": [],
   "source": [
    "X_train_sc=X_train_sc.loc[:,rfe.get_support()]"
   ]
  },
  {
   "cell_type": "code",
   "execution_count": 15,
   "metadata": {},
   "outputs": [
    {
     "data": {
      "text/html": [
       "<div>\n",
       "<style scoped>\n",
       "    .dataframe tbody tr th:only-of-type {\n",
       "        vertical-align: middle;\n",
       "    }\n",
       "\n",
       "    .dataframe tbody tr th {\n",
       "        vertical-align: top;\n",
       "    }\n",
       "\n",
       "    .dataframe thead th {\n",
       "        text-align: right;\n",
       "    }\n",
       "</style>\n",
       "<table border=\"1\" class=\"dataframe\">\n",
       "  <thead>\n",
       "    <tr style=\"text-align: right;\">\n",
       "      <th></th>\n",
       "      <th>wetbulb</th>\n",
       "      <th>wetbulb_rolling_14</th>\n",
       "      <th>wetbulb_rolling_14_lag_10</th>\n",
       "      <th>dewpoint</th>\n",
       "      <th>dewpoint_rolling_14</th>\n",
       "      <th>dewpoint_rolling_14_lag_10</th>\n",
       "      <th>tmin</th>\n",
       "      <th>tmin_rolling_14</th>\n",
       "      <th>tmin_rolling_14_lag_10</th>\n",
       "      <th>tavg</th>\n",
       "      <th>...</th>\n",
       "      <th>hz_rolling_14</th>\n",
       "      <th>hz_rolling_14_lag_7</th>\n",
       "      <th>preciptotal</th>\n",
       "      <th>preciptotal_rolling_14</th>\n",
       "      <th>preciptotal_rolling_14_lag_7</th>\n",
       "      <th>avgspeed</th>\n",
       "      <th>avgspeed_rolling_14</th>\n",
       "      <th>lat</th>\n",
       "      <th>long</th>\n",
       "      <th>cool</th>\n",
       "    </tr>\n",
       "  </thead>\n",
       "  <tbody>\n",
       "    <tr>\n",
       "      <th>4903</th>\n",
       "      <td>-0.804139</td>\n",
       "      <td>0.409570</td>\n",
       "      <td>-0.400908</td>\n",
       "      <td>-0.538605</td>\n",
       "      <td>0.761898</td>\n",
       "      <td>-0.294206</td>\n",
       "      <td>-0.464361</td>\n",
       "      <td>0.195446</td>\n",
       "      <td>-0.596783</td>\n",
       "      <td>-1.143459</td>\n",
       "      <td>...</td>\n",
       "      <td>-0.991519</td>\n",
       "      <td>-0.965302</td>\n",
       "      <td>-0.398935</td>\n",
       "      <td>0.032953</td>\n",
       "      <td>1.099194</td>\n",
       "      <td>0.462932</td>\n",
       "      <td>1.751266</td>\n",
       "      <td>-0.481082</td>\n",
       "      <td>0.481207</td>\n",
       "      <td>-1.489587</td>\n",
       "    </tr>\n",
       "    <tr>\n",
       "      <th>6913</th>\n",
       "      <td>1.106116</td>\n",
       "      <td>0.409570</td>\n",
       "      <td>-0.356939</td>\n",
       "      <td>1.343886</td>\n",
       "      <td>0.570766</td>\n",
       "      <td>-0.206417</td>\n",
       "      <td>0.964423</td>\n",
       "      <td>0.245425</td>\n",
       "      <td>0.023886</td>\n",
       "      <td>0.821526</td>\n",
       "      <td>...</td>\n",
       "      <td>0.068993</td>\n",
       "      <td>0.000152</td>\n",
       "      <td>1.994650</td>\n",
       "      <td>-0.227543</td>\n",
       "      <td>-0.800310</td>\n",
       "      <td>1.180444</td>\n",
       "      <td>-0.422668</td>\n",
       "      <td>-0.647089</td>\n",
       "      <td>-1.000369</td>\n",
       "      <td>0.912584</td>\n",
       "    </tr>\n",
       "    <tr>\n",
       "      <th>1961</th>\n",
       "      <td>0.224460</td>\n",
       "      <td>0.025101</td>\n",
       "      <td>0.551745</td>\n",
       "      <td>0.088892</td>\n",
       "      <td>-0.117309</td>\n",
       "      <td>0.684017</td>\n",
       "      <td>-0.074693</td>\n",
       "      <td>-0.129421</td>\n",
       "      <td>0.398873</td>\n",
       "      <td>0.428529</td>\n",
       "      <td>...</td>\n",
       "      <td>-0.991519</td>\n",
       "      <td>-0.965302</td>\n",
       "      <td>-0.398935</td>\n",
       "      <td>-0.838216</td>\n",
       "      <td>-0.605782</td>\n",
       "      <td>-1.290986</td>\n",
       "      <td>-0.933449</td>\n",
       "      <td>0.715979</td>\n",
       "      <td>-1.193483</td>\n",
       "      <td>0.397833</td>\n",
       "    </tr>\n",
       "    <tr>\n",
       "      <th>907</th>\n",
       "      <td>0.812231</td>\n",
       "      <td>0.694362</td>\n",
       "      <td>0.141371</td>\n",
       "      <td>0.465390</td>\n",
       "      <td>0.545281</td>\n",
       "      <td>0.082034</td>\n",
       "      <td>0.704644</td>\n",
       "      <td>0.720230</td>\n",
       "      <td>0.243706</td>\n",
       "      <td>0.952525</td>\n",
       "      <td>...</td>\n",
       "      <td>2.720275</td>\n",
       "      <td>1.931060</td>\n",
       "      <td>-0.398935</td>\n",
       "      <td>-0.287330</td>\n",
       "      <td>-0.205284</td>\n",
       "      <td>-1.530156</td>\n",
       "      <td>-0.759036</td>\n",
       "      <td>-0.179521</td>\n",
       "      <td>0.319697</td>\n",
       "      <td>1.084168</td>\n",
       "    </tr>\n",
       "    <tr>\n",
       "      <th>786</th>\n",
       "      <td>0.812231</td>\n",
       "      <td>0.694362</td>\n",
       "      <td>0.141371</td>\n",
       "      <td>0.465390</td>\n",
       "      <td>0.545281</td>\n",
       "      <td>0.082034</td>\n",
       "      <td>0.704644</td>\n",
       "      <td>0.720230</td>\n",
       "      <td>0.243706</td>\n",
       "      <td>0.952525</td>\n",
       "      <td>...</td>\n",
       "      <td>2.720275</td>\n",
       "      <td>1.931060</td>\n",
       "      <td>-0.398935</td>\n",
       "      <td>-0.287330</td>\n",
       "      <td>-0.205284</td>\n",
       "      <td>-1.530156</td>\n",
       "      <td>-0.759036</td>\n",
       "      <td>-0.740648</td>\n",
       "      <td>1.566548</td>\n",
       "      <td>1.084168</td>\n",
       "    </tr>\n",
       "    <tr>\n",
       "      <th>...</th>\n",
       "      <td>...</td>\n",
       "      <td>...</td>\n",
       "      <td>...</td>\n",
       "      <td>...</td>\n",
       "      <td>...</td>\n",
       "      <td>...</td>\n",
       "      <td>...</td>\n",
       "      <td>...</td>\n",
       "      <td>...</td>\n",
       "      <td>...</td>\n",
       "      <td>...</td>\n",
       "      <td>...</td>\n",
       "      <td>...</td>\n",
       "      <td>...</td>\n",
       "      <td>...</td>\n",
       "      <td>...</td>\n",
       "      <td>...</td>\n",
       "      <td>...</td>\n",
       "      <td>...</td>\n",
       "      <td>...</td>\n",
       "      <td>...</td>\n",
       "    </tr>\n",
       "    <tr>\n",
       "      <th>7607</th>\n",
       "      <td>-0.363311</td>\n",
       "      <td>0.167497</td>\n",
       "      <td>-0.459533</td>\n",
       "      <td>-0.538605</td>\n",
       "      <td>0.201244</td>\n",
       "      <td>-0.319289</td>\n",
       "      <td>0.704644</td>\n",
       "      <td>0.295405</td>\n",
       "      <td>-0.428685</td>\n",
       "      <td>0.166531</td>\n",
       "      <td>...</td>\n",
       "      <td>-0.991519</td>\n",
       "      <td>-0.482575</td>\n",
       "      <td>-0.398935</td>\n",
       "      <td>-0.334304</td>\n",
       "      <td>0.103671</td>\n",
       "      <td>1.300029</td>\n",
       "      <td>0.723475</td>\n",
       "      <td>-1.541978</td>\n",
       "      <td>1.895567</td>\n",
       "      <td>0.054666</td>\n",
       "    </tr>\n",
       "    <tr>\n",
       "      <th>4235</th>\n",
       "      <td>-0.510254</td>\n",
       "      <td>-0.501764</td>\n",
       "      <td>0.405183</td>\n",
       "      <td>0.088892</td>\n",
       "      <td>-0.168278</td>\n",
       "      <td>0.583686</td>\n",
       "      <td>-0.334471</td>\n",
       "      <td>-0.641711</td>\n",
       "      <td>0.373012</td>\n",
       "      <td>-1.143459</td>\n",
       "      <td>...</td>\n",
       "      <td>-0.991519</td>\n",
       "      <td>-0.965302</td>\n",
       "      <td>2.308095</td>\n",
       "      <td>0.336155</td>\n",
       "      <td>0.361134</td>\n",
       "      <td>0.861550</td>\n",
       "      <td>1.010011</td>\n",
       "      <td>1.118251</td>\n",
       "      <td>0.034737</td>\n",
       "      <td>-1.489587</td>\n",
       "    </tr>\n",
       "    <tr>\n",
       "      <th>2855</th>\n",
       "      <td>-1.979681</td>\n",
       "      <td>-1.811806</td>\n",
       "      <td>-1.690653</td>\n",
       "      <td>-1.542600</td>\n",
       "      <td>-1.646365</td>\n",
       "      <td>-1.460549</td>\n",
       "      <td>-1.763255</td>\n",
       "      <td>-1.941177</td>\n",
       "      <td>-1.476064</td>\n",
       "      <td>-2.191451</td>\n",
       "      <td>...</td>\n",
       "      <td>0.068993</td>\n",
       "      <td>0.000152</td>\n",
       "      <td>-0.227965</td>\n",
       "      <td>-0.210462</td>\n",
       "      <td>0.916109</td>\n",
       "      <td>0.662241</td>\n",
       "      <td>0.038281</td>\n",
       "      <td>0.433451</td>\n",
       "      <td>0.478153</td>\n",
       "      <td>-1.489587</td>\n",
       "    </tr>\n",
       "    <tr>\n",
       "      <th>5920</th>\n",
       "      <td>-0.069426</td>\n",
       "      <td>0.324132</td>\n",
       "      <td>0.390527</td>\n",
       "      <td>-0.162107</td>\n",
       "      <td>0.430602</td>\n",
       "      <td>0.345401</td>\n",
       "      <td>-0.334471</td>\n",
       "      <td>0.245425</td>\n",
       "      <td>0.256637</td>\n",
       "      <td>-0.095467</td>\n",
       "      <td>...</td>\n",
       "      <td>-0.991519</td>\n",
       "      <td>-0.482575</td>\n",
       "      <td>-0.398935</td>\n",
       "      <td>0.255016</td>\n",
       "      <td>0.292477</td>\n",
       "      <td>-1.649742</td>\n",
       "      <td>-0.846243</td>\n",
       "      <td>-1.144875</td>\n",
       "      <td>0.531870</td>\n",
       "      <td>-0.288501</td>\n",
       "    </tr>\n",
       "    <tr>\n",
       "      <th>6052</th>\n",
       "      <td>1.400001</td>\n",
       "      <td>0.580445</td>\n",
       "      <td>0.214652</td>\n",
       "      <td>1.218386</td>\n",
       "      <td>0.532539</td>\n",
       "      <td>0.307777</td>\n",
       "      <td>2.003538</td>\n",
       "      <td>0.595282</td>\n",
       "      <td>0.114400</td>\n",
       "      <td>1.869518</td>\n",
       "      <td>...</td>\n",
       "      <td>-0.461263</td>\n",
       "      <td>-0.965302</td>\n",
       "      <td>-0.398935</td>\n",
       "      <td>-0.791242</td>\n",
       "      <td>-0.691603</td>\n",
       "      <td>-0.374165</td>\n",
       "      <td>-0.578394</td>\n",
       "      <td>-1.319915</td>\n",
       "      <td>1.533552</td>\n",
       "      <td>2.285253</td>\n",
       "    </tr>\n",
       "  </tbody>\n",
       "</table>\n",
       "<p>6356 rows × 45 columns</p>\n",
       "</div>"
      ],
      "text/plain": [
       "       wetbulb  wetbulb_rolling_14  wetbulb_rolling_14_lag_10  dewpoint  \\\n",
       "4903 -0.804139            0.409570                  -0.400908 -0.538605   \n",
       "6913  1.106116            0.409570                  -0.356939  1.343886   \n",
       "1961  0.224460            0.025101                   0.551745  0.088892   \n",
       "907   0.812231            0.694362                   0.141371  0.465390   \n",
       "786   0.812231            0.694362                   0.141371  0.465390   \n",
       "...        ...                 ...                        ...       ...   \n",
       "7607 -0.363311            0.167497                  -0.459533 -0.538605   \n",
       "4235 -0.510254           -0.501764                   0.405183  0.088892   \n",
       "2855 -1.979681           -1.811806                  -1.690653 -1.542600   \n",
       "5920 -0.069426            0.324132                   0.390527 -0.162107   \n",
       "6052  1.400001            0.580445                   0.214652  1.218386   \n",
       "\n",
       "      dewpoint_rolling_14  dewpoint_rolling_14_lag_10      tmin  \\\n",
       "4903             0.761898                   -0.294206 -0.464361   \n",
       "6913             0.570766                   -0.206417  0.964423   \n",
       "1961            -0.117309                    0.684017 -0.074693   \n",
       "907              0.545281                    0.082034  0.704644   \n",
       "786              0.545281                    0.082034  0.704644   \n",
       "...                   ...                         ...       ...   \n",
       "7607             0.201244                   -0.319289  0.704644   \n",
       "4235            -0.168278                    0.583686 -0.334471   \n",
       "2855            -1.646365                   -1.460549 -1.763255   \n",
       "5920             0.430602                    0.345401 -0.334471   \n",
       "6052             0.532539                    0.307777  2.003538   \n",
       "\n",
       "      tmin_rolling_14  tmin_rolling_14_lag_10      tavg  ...  hz_rolling_14  \\\n",
       "4903         0.195446               -0.596783 -1.143459  ...      -0.991519   \n",
       "6913         0.245425                0.023886  0.821526  ...       0.068993   \n",
       "1961        -0.129421                0.398873  0.428529  ...      -0.991519   \n",
       "907          0.720230                0.243706  0.952525  ...       2.720275   \n",
       "786          0.720230                0.243706  0.952525  ...       2.720275   \n",
       "...               ...                     ...       ...  ...            ...   \n",
       "7607         0.295405               -0.428685  0.166531  ...      -0.991519   \n",
       "4235        -0.641711                0.373012 -1.143459  ...      -0.991519   \n",
       "2855        -1.941177               -1.476064 -2.191451  ...       0.068993   \n",
       "5920         0.245425                0.256637 -0.095467  ...      -0.991519   \n",
       "6052         0.595282                0.114400  1.869518  ...      -0.461263   \n",
       "\n",
       "      hz_rolling_14_lag_7  preciptotal  preciptotal_rolling_14  \\\n",
       "4903            -0.965302    -0.398935                0.032953   \n",
       "6913             0.000152     1.994650               -0.227543   \n",
       "1961            -0.965302    -0.398935               -0.838216   \n",
       "907              1.931060    -0.398935               -0.287330   \n",
       "786              1.931060    -0.398935               -0.287330   \n",
       "...                   ...          ...                     ...   \n",
       "7607            -0.482575    -0.398935               -0.334304   \n",
       "4235            -0.965302     2.308095                0.336155   \n",
       "2855             0.000152    -0.227965               -0.210462   \n",
       "5920            -0.482575    -0.398935                0.255016   \n",
       "6052            -0.965302    -0.398935               -0.791242   \n",
       "\n",
       "      preciptotal_rolling_14_lag_7  avgspeed  avgspeed_rolling_14       lat  \\\n",
       "4903                      1.099194  0.462932             1.751266 -0.481082   \n",
       "6913                     -0.800310  1.180444            -0.422668 -0.647089   \n",
       "1961                     -0.605782 -1.290986            -0.933449  0.715979   \n",
       "907                      -0.205284 -1.530156            -0.759036 -0.179521   \n",
       "786                      -0.205284 -1.530156            -0.759036 -0.740648   \n",
       "...                            ...       ...                  ...       ...   \n",
       "7607                      0.103671  1.300029             0.723475 -1.541978   \n",
       "4235                      0.361134  0.861550             1.010011  1.118251   \n",
       "2855                      0.916109  0.662241             0.038281  0.433451   \n",
       "5920                      0.292477 -1.649742            -0.846243 -1.144875   \n",
       "6052                     -0.691603 -0.374165            -0.578394 -1.319915   \n",
       "\n",
       "          long      cool  \n",
       "4903  0.481207 -1.489587  \n",
       "6913 -1.000369  0.912584  \n",
       "1961 -1.193483  0.397833  \n",
       "907   0.319697  1.084168  \n",
       "786   1.566548  1.084168  \n",
       "...        ...       ...  \n",
       "7607  1.895567  0.054666  \n",
       "4235  0.034737 -1.489587  \n",
       "2855  0.478153 -1.489587  \n",
       "5920  0.531870 -0.288501  \n",
       "6052  1.533552  2.285253  \n",
       "\n",
       "[6356 rows x 45 columns]"
      ]
     },
     "execution_count": 15,
     "metadata": {},
     "output_type": "execute_result"
    }
   ],
   "source": [
    "X_train_sc"
   ]
  },
  {
   "cell_type": "code",
   "execution_count": 16,
   "metadata": {},
   "outputs": [],
   "source": [
    "X_test_sc=X_test_sc[X_train_sc.columns]"
   ]
  },
  {
   "cell_type": "code",
   "execution_count": 17,
   "metadata": {},
   "outputs": [
    {
     "data": {
      "text/html": [
       "<div>\n",
       "<style scoped>\n",
       "    .dataframe tbody tr th:only-of-type {\n",
       "        vertical-align: middle;\n",
       "    }\n",
       "\n",
       "    .dataframe tbody tr th {\n",
       "        vertical-align: top;\n",
       "    }\n",
       "\n",
       "    .dataframe thead th {\n",
       "        text-align: right;\n",
       "    }\n",
       "</style>\n",
       "<table border=\"1\" class=\"dataframe\">\n",
       "  <thead>\n",
       "    <tr style=\"text-align: right;\">\n",
       "      <th></th>\n",
       "      <th>wetbulb</th>\n",
       "      <th>wetbulb_rolling_14</th>\n",
       "      <th>wetbulb_rolling_14_lag_10</th>\n",
       "      <th>dewpoint</th>\n",
       "      <th>dewpoint_rolling_14</th>\n",
       "      <th>dewpoint_rolling_14_lag_10</th>\n",
       "      <th>tmin</th>\n",
       "      <th>tmin_rolling_14</th>\n",
       "      <th>tmin_rolling_14_lag_10</th>\n",
       "      <th>tavg</th>\n",
       "      <th>...</th>\n",
       "      <th>hz_rolling_14</th>\n",
       "      <th>hz_rolling_14_lag_7</th>\n",
       "      <th>preciptotal</th>\n",
       "      <th>preciptotal_rolling_14</th>\n",
       "      <th>preciptotal_rolling_14_lag_7</th>\n",
       "      <th>avgspeed</th>\n",
       "      <th>avgspeed_rolling_14</th>\n",
       "      <th>lat</th>\n",
       "      <th>long</th>\n",
       "      <th>cool</th>\n",
       "    </tr>\n",
       "  </thead>\n",
       "  <tbody>\n",
       "    <tr>\n",
       "      <th>5602</th>\n",
       "      <td>0.959173</td>\n",
       "      <td>1.676893</td>\n",
       "      <td>1.533710</td>\n",
       "      <td>1.092887</td>\n",
       "      <td>1.717557</td>\n",
       "      <td>1.474120</td>\n",
       "      <td>0.834534</td>\n",
       "      <td>1.444933</td>\n",
       "      <td>1.510905</td>\n",
       "      <td>0.559528</td>\n",
       "      <td>...</td>\n",
       "      <td>0.068993</td>\n",
       "      <td>-0.482575</td>\n",
       "      <td>-0.398935</td>\n",
       "      <td>-0.535015</td>\n",
       "      <td>0.721582</td>\n",
       "      <td>-0.613336</td>\n",
       "      <td>-1.238672</td>\n",
       "      <td>-1.319915</td>\n",
       "      <td>1.533552</td>\n",
       "      <td>0.569417</td>\n",
       "    </tr>\n",
       "    <tr>\n",
       "      <th>792</th>\n",
       "      <td>0.812231</td>\n",
       "      <td>0.694362</td>\n",
       "      <td>0.141371</td>\n",
       "      <td>0.465390</td>\n",
       "      <td>0.545281</td>\n",
       "      <td>0.082034</td>\n",
       "      <td>0.704644</td>\n",
       "      <td>0.720230</td>\n",
       "      <td>0.243706</td>\n",
       "      <td>0.952525</td>\n",
       "      <td>...</td>\n",
       "      <td>2.720275</td>\n",
       "      <td>1.931060</td>\n",
       "      <td>-0.398935</td>\n",
       "      <td>-0.287330</td>\n",
       "      <td>-0.205284</td>\n",
       "      <td>-1.530156</td>\n",
       "      <td>-0.759036</td>\n",
       "      <td>-0.220125</td>\n",
       "      <td>0.795337</td>\n",
       "      <td>1.084168</td>\n",
       "    </tr>\n",
       "    <tr>\n",
       "      <th>1935</th>\n",
       "      <td>0.224460</td>\n",
       "      <td>0.025101</td>\n",
       "      <td>0.551745</td>\n",
       "      <td>0.088892</td>\n",
       "      <td>-0.117309</td>\n",
       "      <td>0.684017</td>\n",
       "      <td>-0.074693</td>\n",
       "      <td>-0.129421</td>\n",
       "      <td>0.398873</td>\n",
       "      <td>0.428529</td>\n",
       "      <td>...</td>\n",
       "      <td>-0.991519</td>\n",
       "      <td>-0.965302</td>\n",
       "      <td>-0.398935</td>\n",
       "      <td>-0.838216</td>\n",
       "      <td>-0.605782</td>\n",
       "      <td>-1.290986</td>\n",
       "      <td>-0.933449</td>\n",
       "      <td>0.938662</td>\n",
       "      <td>-1.640036</td>\n",
       "      <td>0.397833</td>\n",
       "    </tr>\n",
       "    <tr>\n",
       "      <th>3580</th>\n",
       "      <td>-1.098024</td>\n",
       "      <td>-0.516004</td>\n",
       "      <td>-0.210377</td>\n",
       "      <td>-0.915103</td>\n",
       "      <td>-0.881837</td>\n",
       "      <td>-0.319289</td>\n",
       "      <td>-0.724140</td>\n",
       "      <td>-0.166906</td>\n",
       "      <td>-0.118351</td>\n",
       "      <td>-1.143459</td>\n",
       "      <td>...</td>\n",
       "      <td>-0.461263</td>\n",
       "      <td>0.000152</td>\n",
       "      <td>-0.398935</td>\n",
       "      <td>0.246476</td>\n",
       "      <td>0.086507</td>\n",
       "      <td>1.140582</td>\n",
       "      <td>0.922804</td>\n",
       "      <td>-0.182266</td>\n",
       "      <td>-0.378025</td>\n",
       "      <td>-1.489587</td>\n",
       "    </tr>\n",
       "    <tr>\n",
       "      <th>5991</th>\n",
       "      <td>1.546944</td>\n",
       "      <td>0.124778</td>\n",
       "      <td>0.331902</td>\n",
       "      <td>1.469385</td>\n",
       "      <td>0.112049</td>\n",
       "      <td>0.433191</td>\n",
       "      <td>0.964423</td>\n",
       "      <td>0.045507</td>\n",
       "      <td>0.230775</td>\n",
       "      <td>1.214523</td>\n",
       "      <td>...</td>\n",
       "      <td>-0.991519</td>\n",
       "      <td>-0.965302</td>\n",
       "      <td>-0.398935</td>\n",
       "      <td>-0.791242</td>\n",
       "      <td>-0.342598</td>\n",
       "      <td>-0.653197</td>\n",
       "      <td>-0.989511</td>\n",
       "      <td>1.376284</td>\n",
       "      <td>-0.622362</td>\n",
       "      <td>1.427335</td>\n",
       "    </tr>\n",
       "    <tr>\n",
       "      <th>...</th>\n",
       "      <td>...</td>\n",
       "      <td>...</td>\n",
       "      <td>...</td>\n",
       "      <td>...</td>\n",
       "      <td>...</td>\n",
       "      <td>...</td>\n",
       "      <td>...</td>\n",
       "      <td>...</td>\n",
       "      <td>...</td>\n",
       "      <td>...</td>\n",
       "      <td>...</td>\n",
       "      <td>...</td>\n",
       "      <td>...</td>\n",
       "      <td>...</td>\n",
       "      <td>...</td>\n",
       "      <td>...</td>\n",
       "      <td>...</td>\n",
       "      <td>...</td>\n",
       "      <td>...</td>\n",
       "      <td>...</td>\n",
       "      <td>...</td>\n",
       "    </tr>\n",
       "    <tr>\n",
       "      <th>572</th>\n",
       "      <td>0.224460</td>\n",
       "      <td>-0.273931</td>\n",
       "      <td>0.199996</td>\n",
       "      <td>0.088892</td>\n",
       "      <td>-0.435863</td>\n",
       "      <td>0.194905</td>\n",
       "      <td>0.834534</td>\n",
       "      <td>-0.066947</td>\n",
       "      <td>0.243706</td>\n",
       "      <td>0.559528</td>\n",
       "      <td>...</td>\n",
       "      <td>-0.461263</td>\n",
       "      <td>0.000152</td>\n",
       "      <td>-0.398935</td>\n",
       "      <td>-0.765619</td>\n",
       "      <td>0.956159</td>\n",
       "      <td>-0.214718</td>\n",
       "      <td>-0.466271</td>\n",
       "      <td>-1.319915</td>\n",
       "      <td>1.533552</td>\n",
       "      <td>0.569417</td>\n",
       "    </tr>\n",
       "    <tr>\n",
       "      <th>3408</th>\n",
       "      <td>0.371403</td>\n",
       "      <td>-0.359368</td>\n",
       "      <td>-0.738000</td>\n",
       "      <td>0.590890</td>\n",
       "      <td>-0.346668</td>\n",
       "      <td>-0.620280</td>\n",
       "      <td>-0.074693</td>\n",
       "      <td>-0.291854</td>\n",
       "      <td>-0.351102</td>\n",
       "      <td>0.035532</td>\n",
       "      <td>...</td>\n",
       "      <td>0.068993</td>\n",
       "      <td>0.000152</td>\n",
       "      <td>-0.170975</td>\n",
       "      <td>-0.535015</td>\n",
       "      <td>-0.703046</td>\n",
       "      <td>-1.051815</td>\n",
       "      <td>-1.637331</td>\n",
       "      <td>1.534988</td>\n",
       "      <td>-0.988416</td>\n",
       "      <td>-0.116918</td>\n",
       "    </tr>\n",
       "    <tr>\n",
       "      <th>1825</th>\n",
       "      <td>0.665288</td>\n",
       "      <td>0.822518</td>\n",
       "      <td>0.243965</td>\n",
       "      <td>0.967388</td>\n",
       "      <td>1.271583</td>\n",
       "      <td>0.408108</td>\n",
       "      <td>0.704644</td>\n",
       "      <td>0.657756</td>\n",
       "      <td>0.347151</td>\n",
       "      <td>0.297530</td>\n",
       "      <td>...</td>\n",
       "      <td>0.068993</td>\n",
       "      <td>0.000152</td>\n",
       "      <td>0.170966</td>\n",
       "      <td>3.675639</td>\n",
       "      <td>2.529543</td>\n",
       "      <td>-0.095133</td>\n",
       "      <td>-0.055155</td>\n",
       "      <td>-1.161051</td>\n",
       "      <td>0.554517</td>\n",
       "      <td>0.226250</td>\n",
       "    </tr>\n",
       "    <tr>\n",
       "      <th>641</th>\n",
       "      <td>0.812231</td>\n",
       "      <td>-0.060337</td>\n",
       "      <td>0.097403</td>\n",
       "      <td>1.092887</td>\n",
       "      <td>-0.181020</td>\n",
       "      <td>0.144740</td>\n",
       "      <td>0.834534</td>\n",
       "      <td>0.132971</td>\n",
       "      <td>0.127331</td>\n",
       "      <td>0.559528</td>\n",
       "      <td>...</td>\n",
       "      <td>0.599250</td>\n",
       "      <td>0.000152</td>\n",
       "      <td>0.085481</td>\n",
       "      <td>-0.304411</td>\n",
       "      <td>0.692975</td>\n",
       "      <td>0.144038</td>\n",
       "      <td>-0.977052</td>\n",
       "      <td>1.448658</td>\n",
       "      <td>-1.198295</td>\n",
       "      <td>0.569417</td>\n",
       "    </tr>\n",
       "    <tr>\n",
       "      <th>1723</th>\n",
       "      <td>0.665288</td>\n",
       "      <td>0.722841</td>\n",
       "      <td>0.331902</td>\n",
       "      <td>0.967388</td>\n",
       "      <td>1.105935</td>\n",
       "      <td>0.458273</td>\n",
       "      <td>0.704644</td>\n",
       "      <td>0.607776</td>\n",
       "      <td>0.424734</td>\n",
       "      <td>0.297530</td>\n",
       "      <td>...</td>\n",
       "      <td>0.068993</td>\n",
       "      <td>-0.482575</td>\n",
       "      <td>0.284946</td>\n",
       "      <td>3.590231</td>\n",
       "      <td>2.764120</td>\n",
       "      <td>-0.174856</td>\n",
       "      <td>-0.048926</td>\n",
       "      <td>0.912768</td>\n",
       "      <td>-0.970165</td>\n",
       "      <td>0.226250</td>\n",
       "    </tr>\n",
       "  </tbody>\n",
       "</table>\n",
       "<p>2119 rows × 45 columns</p>\n",
       "</div>"
      ],
      "text/plain": [
       "       wetbulb  wetbulb_rolling_14  wetbulb_rolling_14_lag_10  dewpoint  \\\n",
       "5602  0.959173            1.676893                   1.533710  1.092887   \n",
       "792   0.812231            0.694362                   0.141371  0.465390   \n",
       "1935  0.224460            0.025101                   0.551745  0.088892   \n",
       "3580 -1.098024           -0.516004                  -0.210377 -0.915103   \n",
       "5991  1.546944            0.124778                   0.331902  1.469385   \n",
       "...        ...                 ...                        ...       ...   \n",
       "572   0.224460           -0.273931                   0.199996  0.088892   \n",
       "3408  0.371403           -0.359368                  -0.738000  0.590890   \n",
       "1825  0.665288            0.822518                   0.243965  0.967388   \n",
       "641   0.812231           -0.060337                   0.097403  1.092887   \n",
       "1723  0.665288            0.722841                   0.331902  0.967388   \n",
       "\n",
       "      dewpoint_rolling_14  dewpoint_rolling_14_lag_10      tmin  \\\n",
       "5602             1.717557                    1.474120  0.834534   \n",
       "792              0.545281                    0.082034  0.704644   \n",
       "1935            -0.117309                    0.684017 -0.074693   \n",
       "3580            -0.881837                   -0.319289 -0.724140   \n",
       "5991             0.112049                    0.433191  0.964423   \n",
       "...                   ...                         ...       ...   \n",
       "572             -0.435863                    0.194905  0.834534   \n",
       "3408            -0.346668                   -0.620280 -0.074693   \n",
       "1825             1.271583                    0.408108  0.704644   \n",
       "641             -0.181020                    0.144740  0.834534   \n",
       "1723             1.105935                    0.458273  0.704644   \n",
       "\n",
       "      tmin_rolling_14  tmin_rolling_14_lag_10      tavg  ...  hz_rolling_14  \\\n",
       "5602         1.444933                1.510905  0.559528  ...       0.068993   \n",
       "792          0.720230                0.243706  0.952525  ...       2.720275   \n",
       "1935        -0.129421                0.398873  0.428529  ...      -0.991519   \n",
       "3580        -0.166906               -0.118351 -1.143459  ...      -0.461263   \n",
       "5991         0.045507                0.230775  1.214523  ...      -0.991519   \n",
       "...               ...                     ...       ...  ...            ...   \n",
       "572         -0.066947                0.243706  0.559528  ...      -0.461263   \n",
       "3408        -0.291854               -0.351102  0.035532  ...       0.068993   \n",
       "1825         0.657756                0.347151  0.297530  ...       0.068993   \n",
       "641          0.132971                0.127331  0.559528  ...       0.599250   \n",
       "1723         0.607776                0.424734  0.297530  ...       0.068993   \n",
       "\n",
       "      hz_rolling_14_lag_7  preciptotal  preciptotal_rolling_14  \\\n",
       "5602            -0.482575    -0.398935               -0.535015   \n",
       "792              1.931060    -0.398935               -0.287330   \n",
       "1935            -0.965302    -0.398935               -0.838216   \n",
       "3580             0.000152    -0.398935                0.246476   \n",
       "5991            -0.965302    -0.398935               -0.791242   \n",
       "...                   ...          ...                     ...   \n",
       "572              0.000152    -0.398935               -0.765619   \n",
       "3408             0.000152    -0.170975               -0.535015   \n",
       "1825             0.000152     0.170966                3.675639   \n",
       "641              0.000152     0.085481               -0.304411   \n",
       "1723            -0.482575     0.284946                3.590231   \n",
       "\n",
       "      preciptotal_rolling_14_lag_7  avgspeed  avgspeed_rolling_14       lat  \\\n",
       "5602                      0.721582 -0.613336            -1.238672 -1.319915   \n",
       "792                      -0.205284 -1.530156            -0.759036 -0.220125   \n",
       "1935                     -0.605782 -1.290986            -0.933449  0.938662   \n",
       "3580                      0.086507  1.140582             0.922804 -0.182266   \n",
       "5991                     -0.342598 -0.653197            -0.989511  1.376284   \n",
       "...                            ...       ...                  ...       ...   \n",
       "572                       0.956159 -0.214718            -0.466271 -1.319915   \n",
       "3408                     -0.703046 -1.051815            -1.637331  1.534988   \n",
       "1825                      2.529543 -0.095133            -0.055155 -1.161051   \n",
       "641                       0.692975  0.144038            -0.977052  1.448658   \n",
       "1723                      2.764120 -0.174856            -0.048926  0.912768   \n",
       "\n",
       "          long      cool  \n",
       "5602  1.533552  0.569417  \n",
       "792   0.795337  1.084168  \n",
       "1935 -1.640036  0.397833  \n",
       "3580 -0.378025 -1.489587  \n",
       "5991 -0.622362  1.427335  \n",
       "...        ...       ...  \n",
       "572   1.533552  0.569417  \n",
       "3408 -0.988416 -0.116918  \n",
       "1825  0.554517  0.226250  \n",
       "641  -1.198295  0.569417  \n",
       "1723 -0.970165  0.226250  \n",
       "\n",
       "[2119 rows x 45 columns]"
      ]
     },
     "execution_count": 17,
     "metadata": {},
     "output_type": "execute_result"
    }
   ],
   "source": [
    "X_test_sc"
   ]
  },
  {
   "cell_type": "markdown",
   "metadata": {},
   "source": [
    "# Modeling\n",
    "\n",
    "All models will be trained with oversampled data using SMOTE. Original set resulted in very poor recall rate in all models. "
   ]
  },
  {
   "cell_type": "markdown",
   "metadata": {},
   "source": [
    "## Pipeline: Logistic Regression with SMOTE"
   ]
  },
  {
   "cell_type": "code",
   "execution_count": 18,
   "metadata": {
    "scrolled": true
   },
   "outputs": [],
   "source": [
    "pp_smote_lr=Pipeline([\n",
    "    ('sampling',SMOTE(random_state=42)),\n",
    "    ('lr', LogisticRegression(solver='liblinear',max_iter=1000))\n",
    "])"
   ]
  },
  {
   "cell_type": "code",
   "execution_count": 19,
   "metadata": {},
   "outputs": [
    {
     "data": {
      "text/plain": [
       "{'memory': None,\n",
       " 'steps': [('sampling', SMOTE(random_state=42)),\n",
       "  ('lr', LogisticRegression(max_iter=1000, solver='liblinear'))],\n",
       " 'verbose': False,\n",
       " 'sampling': SMOTE(random_state=42),\n",
       " 'lr': LogisticRegression(max_iter=1000, solver='liblinear'),\n",
       " 'sampling__k_neighbors': 5,\n",
       " 'sampling__n_jobs': None,\n",
       " 'sampling__random_state': 42,\n",
       " 'sampling__sampling_strategy': 'auto',\n",
       " 'lr__C': 1.0,\n",
       " 'lr__class_weight': None,\n",
       " 'lr__dual': False,\n",
       " 'lr__fit_intercept': True,\n",
       " 'lr__intercept_scaling': 1,\n",
       " 'lr__l1_ratio': None,\n",
       " 'lr__max_iter': 1000,\n",
       " 'lr__multi_class': 'auto',\n",
       " 'lr__n_jobs': None,\n",
       " 'lr__penalty': 'l2',\n",
       " 'lr__random_state': None,\n",
       " 'lr__solver': 'liblinear',\n",
       " 'lr__tol': 0.0001,\n",
       " 'lr__verbose': 0,\n",
       " 'lr__warm_start': False}"
      ]
     },
     "execution_count": 19,
     "metadata": {},
     "output_type": "execute_result"
    }
   ],
   "source": [
    "pp_smote_lr.get_params()"
   ]
  },
  {
   "cell_type": "code",
   "execution_count": 20,
   "metadata": {},
   "outputs": [],
   "source": [
    "pp_smote_lr_params={\n",
    "    'sampling__k_neighbors':[5,6,7],\n",
    "    'sampling__sampling_strategy':['minority', 'not minority','auto'],\n",
    "    'lr__C':[0.2,0.4,0.6],\n",
    "    'lr__penalty':['l1','l2']\n",
    "}"
   ]
  },
  {
   "cell_type": "code",
   "execution_count": 21,
   "metadata": {},
   "outputs": [],
   "source": [
    "gs_smote_lr=GridSearchCV(pp_smote_lr,pp_smote_lr_params,cv=5,scoring='roc_auc',verbose=2, n_jobs=-1)"
   ]
  },
  {
   "cell_type": "code",
   "execution_count": 22,
   "metadata": {
    "scrolled": true
   },
   "outputs": [
    {
     "name": "stdout",
     "output_type": "stream",
     "text": [
      "Fitting 5 folds for each of 54 candidates, totalling 270 fits\n"
     ]
    },
    {
     "data": {
      "text/plain": [
       "GridSearchCV(cv=5,\n",
       "             estimator=Pipeline(steps=[('sampling', SMOTE(random_state=42)),\n",
       "                                       ('lr',\n",
       "                                        LogisticRegression(max_iter=1000,\n",
       "                                                           solver='liblinear'))]),\n",
       "             n_jobs=-1,\n",
       "             param_grid={'lr__C': [0.2, 0.4, 0.6], 'lr__penalty': ['l1', 'l2'],\n",
       "                         'sampling__k_neighbors': [5, 6, 7],\n",
       "                         'sampling__sampling_strategy': ['minority',\n",
       "                                                         'not minority',\n",
       "                                                         'auto']},\n",
       "             scoring='roc_auc', verbose=2)"
      ]
     },
     "execution_count": 22,
     "metadata": {},
     "output_type": "execute_result"
    }
   ],
   "source": [
    "gs_smote_lr.fit(X_train_sc,y_train)"
   ]
  },
  {
   "cell_type": "code",
   "execution_count": 23,
   "metadata": {},
   "outputs": [
    {
     "data": {
      "text/plain": [
       "0.8156055465829867"
      ]
     },
     "execution_count": 23,
     "metadata": {},
     "output_type": "execute_result"
    }
   ],
   "source": [
    "gs_smote_lr.score(X_train_sc,y_train)"
   ]
  },
  {
   "cell_type": "code",
   "execution_count": 24,
   "metadata": {},
   "outputs": [
    {
     "data": {
      "text/plain": [
       "0.8256595353720961"
      ]
     },
     "execution_count": 24,
     "metadata": {},
     "output_type": "execute_result"
    }
   ],
   "source": [
    "gs_smote_lr.score(X_test_sc,y_test)"
   ]
  },
  {
   "cell_type": "code",
   "execution_count": 25,
   "metadata": {},
   "outputs": [
    {
     "data": {
      "text/plain": [
       "Pipeline(steps=[('sampling', SMOTE(k_neighbors=7, random_state=42)),\n",
       "                ('lr',\n",
       "                 LogisticRegression(C=0.6, max_iter=1000, penalty='l1',\n",
       "                                    solver='liblinear'))])"
      ]
     },
     "execution_count": 25,
     "metadata": {},
     "output_type": "execute_result"
    }
   ],
   "source": [
    "gs_smote_lr.best_estimator_"
   ]
  },
  {
   "cell_type": "code",
   "execution_count": 26,
   "metadata": {},
   "outputs": [],
   "source": [
    "model_lr=gs_smote_lr.best_estimator_"
   ]
  },
  {
   "cell_type": "code",
   "execution_count": 27,
   "metadata": {},
   "outputs": [],
   "source": [
    "pred_lr=model_lr.predict(X_test_sc)"
   ]
  },
  {
   "cell_type": "code",
   "execution_count": 28,
   "metadata": {
    "scrolled": false
   },
   "outputs": [
    {
     "data": {
      "text/plain": [
       "<sklearn.metrics._plot.confusion_matrix.ConfusionMatrixDisplay at 0x7fdd5b0c13d0>"
      ]
     },
     "execution_count": 28,
     "metadata": {},
     "output_type": "execute_result"
    },
    {
     "data": {
      "image/png": "[encoded data removed]",
      "text/plain": [
       "<Figure size 432x288 with 2 Axes>"
      ]
     },
     "metadata": {
      "needs_background": "light"
     },
     "output_type": "display_data"
    }
   ],
   "source": [
    "plot_confusion_matrix(model_lr,X_test_sc,y_test)"
   ]
  },
  {
   "cell_type": "code",
   "execution_count": 29,
   "metadata": {},
   "outputs": [
    {
     "data": {
      "text/plain": [
       "0.7464592023405071"
      ]
     },
     "execution_count": 29,
     "metadata": {},
     "output_type": "execute_result"
    }
   ],
   "source": [
    "roc_auc_score(y_train,model_lr.predict(X_train_sc))"
   ]
  },
  {
   "cell_type": "code",
   "execution_count": 30,
   "metadata": {},
   "outputs": [
    {
     "data": {
      "text/plain": [
       "0.7569781686135538"
      ]
     },
     "execution_count": 30,
     "metadata": {},
     "output_type": "execute_result"
    }
   ],
   "source": [
    "roc_auc_score(y_test,pred_lr)"
   ]
  },
  {
   "cell_type": "code",
   "execution_count": 31,
   "metadata": {},
   "outputs": [],
   "source": [
    "score=dict()"
   ]
  },
  {
   "cell_type": "code",
   "execution_count": 32,
   "metadata": {},
   "outputs": [],
   "source": [
    "score['LR']={'train_acc':gs_smote_lr.score(X_train_sc,y_train),\n",
    "              'val_acc':gs_smote_lr.best_score_,\n",
    "              'test_acc':gs_smote_lr.score(X_test_sc,y_test),\n",
    "              'train_auc':roc_auc_score(y_train,model_lr.predict(X_train_sc)),\n",
    "              'test_auc':roc_auc_score(y_test,pred_lr),\n",
    "              'train_recall':recall_score(y_train,model_lr.predict(X_train_sc)),\n",
    "              'test_recall':recall_score(y_test,pred_lr)\n",
    "}"
   ]
  },
  {
   "cell_type": "markdown",
   "metadata": {},
   "source": [
    "## Pipeline: K Nearest Neighbors with SMOTE"
   ]
  },
  {
   "cell_type": "code",
   "execution_count": 33,
   "metadata": {
    "scrolled": true
   },
   "outputs": [],
   "source": [
    "pp_smote_knn=Pipeline([\n",
    "    ('sampling',SMOTE(random_state=42)),\n",
    "    ('knn', KNeighborsClassifier())\n",
    "])"
   ]
  },
  {
   "cell_type": "code",
   "execution_count": 34,
   "metadata": {},
   "outputs": [
    {
     "data": {
      "text/plain": [
       "{'memory': None,\n",
       " 'steps': [('sampling', SMOTE(random_state=42)),\n",
       "  ('knn', KNeighborsClassifier())],\n",
       " 'verbose': False,\n",
       " 'sampling': SMOTE(random_state=42),\n",
       " 'knn': KNeighborsClassifier(),\n",
       " 'sampling__k_neighbors': 5,\n",
       " 'sampling__n_jobs': None,\n",
       " 'sampling__random_state': 42,\n",
       " 'sampling__sampling_strategy': 'auto',\n",
       " 'knn__algorithm': 'auto',\n",
       " 'knn__leaf_size': 30,\n",
       " 'knn__metric': 'minkowski',\n",
       " 'knn__metric_params': None,\n",
       " 'knn__n_jobs': None,\n",
       " 'knn__n_neighbors': 5,\n",
       " 'knn__p': 2,\n",
       " 'knn__weights': 'uniform'}"
      ]
     },
     "execution_count": 34,
     "metadata": {},
     "output_type": "execute_result"
    }
   ],
   "source": [
    "pp_smote_knn.get_params()"
   ]
  },
  {
   "cell_type": "code",
   "execution_count": 35,
   "metadata": {},
   "outputs": [],
   "source": [
    "pp_smote_knn_params={\n",
    "    'sampling__k_neighbors':[5,6,7],\n",
    "    'sampling__sampling_strategy':['minority', 'not minority','auto'],\n",
    "    'knn__n_neighbors':[5,6,7],\n",
    "    'knn__weights':['uniform','distance']\n",
    "}"
   ]
  },
  {
   "cell_type": "code",
   "execution_count": 36,
   "metadata": {},
   "outputs": [],
   "source": [
    "gs_smote_knn=GridSearchCV(pp_smote_knn,pp_smote_knn_params,cv=5,scoring='roc_auc',verbose=2, n_jobs=-1)"
   ]
  },
  {
   "cell_type": "code",
   "execution_count": 37,
   "metadata": {
    "scrolled": true
   },
   "outputs": [
    {
     "name": "stdout",
     "output_type": "stream",
     "text": [
      "Fitting 5 folds for each of 54 candidates, totalling 270 fits\n"
     ]
    },
    {
     "data": {
      "text/plain": [
       "GridSearchCV(cv=5,\n",
       "             estimator=Pipeline(steps=[('sampling', SMOTE(random_state=42)),\n",
       "                                       ('knn', KNeighborsClassifier())]),\n",
       "             n_jobs=-1,\n",
       "             param_grid={'knn__n_neighbors': [5, 6, 7],\n",
       "                         'knn__weights': ['uniform', 'distance'],\n",
       "                         'sampling__k_neighbors': [5, 6, 7],\n",
       "                         'sampling__sampling_strategy': ['minority',\n",
       "                                                         'not minority',\n",
       "                                                         'auto']},\n",
       "             scoring='roc_auc', verbose=2)"
      ]
     },
     "execution_count": 37,
     "metadata": {},
     "output_type": "execute_result"
    }
   ],
   "source": [
    "gs_smote_knn.fit(X_train_sc,y_train)"
   ]
  },
  {
   "cell_type": "code",
   "execution_count": 38,
   "metadata": {},
   "outputs": [
    {
     "data": {
      "text/plain": [
       "0.9753212063851936"
      ]
     },
     "execution_count": 38,
     "metadata": {},
     "output_type": "execute_result"
    }
   ],
   "source": [
    "gs_smote_knn.score(X_train_sc,y_train)"
   ]
  },
  {
   "cell_type": "code",
   "execution_count": 39,
   "metadata": {},
   "outputs": [
    {
     "data": {
      "text/plain": [
       "0.7752439077744235"
      ]
     },
     "execution_count": 39,
     "metadata": {},
     "output_type": "execute_result"
    }
   ],
   "source": [
    "gs_smote_knn.score(X_test_sc,y_test)"
   ]
  },
  {
   "cell_type": "code",
   "execution_count": 40,
   "metadata": {},
   "outputs": [
    {
     "data": {
      "text/plain": [
       "Pipeline(steps=[('sampling',\n",
       "                 SMOTE(k_neighbors=6, random_state=42,\n",
       "                       sampling_strategy='minority')),\n",
       "                ('knn', KNeighborsClassifier(n_neighbors=7))])"
      ]
     },
     "execution_count": 40,
     "metadata": {},
     "output_type": "execute_result"
    }
   ],
   "source": [
    "gs_smote_knn.best_estimator_"
   ]
  },
  {
   "cell_type": "code",
   "execution_count": 41,
   "metadata": {},
   "outputs": [],
   "source": [
    "model_knn=gs_smote_knn.best_estimator_"
   ]
  },
  {
   "cell_type": "code",
   "execution_count": 42,
   "metadata": {},
   "outputs": [],
   "source": [
    "pred_knn=model_knn.predict(X_test_sc)"
   ]
  },
  {
   "cell_type": "code",
   "execution_count": 43,
   "metadata": {
    "scrolled": false
   },
   "outputs": [
    {
     "data": {
      "text/plain": [
       "<sklearn.metrics._plot.confusion_matrix.ConfusionMatrixDisplay at 0x7fdd3e92b280>"
      ]
     },
     "execution_count": 43,
     "metadata": {},
     "output_type": "execute_result"
    },
    {
     "data": {
      "image/png": "[encoded data removed]",
      "text/plain": [
       "<Figure size 432x288 with 2 Axes>"
      ]
     },
     "metadata": {
      "needs_background": "light"
     },
     "output_type": "display_data"
    }
   ],
   "source": [
    "plot_confusion_matrix(model_knn,X_test_sc,y_test)"
   ]
  },
  {
   "cell_type": "code",
   "execution_count": 44,
   "metadata": {},
   "outputs": [
    {
     "data": {
      "text/plain": [
       "0.9165617352878288"
      ]
     },
     "execution_count": 44,
     "metadata": {},
     "output_type": "execute_result"
    }
   ],
   "source": [
    "roc_auc_score(y_train,model_knn.predict(X_train_sc))"
   ]
  },
  {
   "cell_type": "code",
   "execution_count": 45,
   "metadata": {},
   "outputs": [
    {
     "data": {
      "text/plain": [
       "0.697615610097563"
      ]
     },
     "execution_count": 45,
     "metadata": {},
     "output_type": "execute_result"
    }
   ],
   "source": [
    "roc_auc_score(y_test,pred_knn)"
   ]
  },
  {
   "cell_type": "code",
   "execution_count": 46,
   "metadata": {},
   "outputs": [],
   "source": [
    "score['KNN']={'train_acc':gs_smote_knn.score(X_train_sc,y_train),\n",
    "              'val_acc':gs_smote_knn.best_score_,\n",
    "              'test_acc':gs_smote_knn.score(X_test_sc,y_test),\n",
    "              'train_auc':roc_auc_score(y_train,model_knn.predict(X_train_sc)),\n",
    "              'test_auc':roc_auc_score(y_test,pred_knn),\n",
    "              'train_recall':recall_score(y_train,model_knn.predict(X_train_sc)),\n",
    "              'test_recall':recall_score(y_test,pred_knn)\n",
    "}"
   ]
  },
  {
   "cell_type": "markdown",
   "metadata": {},
   "source": [
    "## Pipeline: Random Forest Classifier with SMOTE"
   ]
  },
  {
   "cell_type": "code",
   "execution_count": 47,
   "metadata": {},
   "outputs": [],
   "source": [
    "pp_smote_rf=Pipeline([\n",
    "    ('sampling',SMOTE(random_state=42)),\n",
    "    ('rf',RandomForestClassifier(random_state=42))\n",
    "])"
   ]
  },
  {
   "cell_type": "code",
   "execution_count": 48,
   "metadata": {},
   "outputs": [],
   "source": [
    "pp_smote_rf_params={\n",
    "    'sampling__k_neighbors':[5,6,7,8],\n",
    "    'sampling__sampling_strategy':['minority', 'not minority', 'auto'],\n",
    "    'rf__max_depth':[4,5,6],\n",
    "    'rf__n_estimators':[100,200,300]\n",
    "}"
   ]
  },
  {
   "cell_type": "code",
   "execution_count": 49,
   "metadata": {},
   "outputs": [],
   "source": [
    "gs_smote_rf=GridSearchCV(pp_smote_rf,pp_smote_rf_params,cv=5,scoring='roc_auc',verbose=2, n_jobs=-1)"
   ]
  },
  {
   "cell_type": "code",
   "execution_count": 50,
   "metadata": {
    "scrolled": true
   },
   "outputs": [
    {
     "name": "stdout",
     "output_type": "stream",
     "text": [
      "Fitting 5 folds for each of 108 candidates, totalling 540 fits\n"
     ]
    },
    {
     "data": {
      "text/plain": [
       "GridSearchCV(cv=5,\n",
       "             estimator=Pipeline(steps=[('sampling', SMOTE(random_state=42)),\n",
       "                                       ('rf',\n",
       "                                        RandomForestClassifier(random_state=42))]),\n",
       "             n_jobs=-1,\n",
       "             param_grid={'rf__max_depth': [4, 5, 6],\n",
       "                         'rf__n_estimators': [100, 200, 300],\n",
       "                         'sampling__k_neighbors': [5, 6, 7, 8],\n",
       "                         'sampling__sampling_strategy': ['minority',\n",
       "                                                         'not minority',\n",
       "                                                         'auto']},\n",
       "             scoring='roc_auc', verbose=2)"
      ]
     },
     "execution_count": 50,
     "metadata": {},
     "output_type": "execute_result"
    }
   ],
   "source": [
    "gs_smote_rf.fit(X_train_sc,y_train)"
   ]
  },
  {
   "cell_type": "code",
   "execution_count": 51,
   "metadata": {},
   "outputs": [
    {
     "data": {
      "text/plain": [
       "0.9012533097627639"
      ]
     },
     "execution_count": 51,
     "metadata": {},
     "output_type": "execute_result"
    }
   ],
   "source": [
    "gs_smote_rf.score(X_train_sc,y_train)"
   ]
  },
  {
   "cell_type": "code",
   "execution_count": 52,
   "metadata": {
    "scrolled": true
   },
   "outputs": [
    {
     "data": {
      "text/plain": [
       "0.8542612766329789"
      ]
     },
     "execution_count": 52,
     "metadata": {},
     "output_type": "execute_result"
    }
   ],
   "source": [
    "gs_smote_rf.score(X_test_sc,y_test)"
   ]
  },
  {
   "cell_type": "code",
   "execution_count": 53,
   "metadata": {},
   "outputs": [
    {
     "data": {
      "text/plain": [
       "Pipeline(steps=[('sampling',\n",
       "                 SMOTE(random_state=42, sampling_strategy='not minority')),\n",
       "                ('rf',\n",
       "                 RandomForestClassifier(max_depth=6, n_estimators=300,\n",
       "                                        random_state=42))])"
      ]
     },
     "execution_count": 53,
     "metadata": {},
     "output_type": "execute_result"
    }
   ],
   "source": [
    "gs_smote_rf.best_estimator_"
   ]
  },
  {
   "cell_type": "code",
   "execution_count": 54,
   "metadata": {},
   "outputs": [],
   "source": [
    "model_rf=gs_smote_rf.best_estimator_"
   ]
  },
  {
   "cell_type": "code",
   "execution_count": 55,
   "metadata": {},
   "outputs": [],
   "source": [
    "pred_rf=model_rf.predict(X_test_sc)"
   ]
  },
  {
   "cell_type": "code",
   "execution_count": 56,
   "metadata": {
    "scrolled": false
   },
   "outputs": [
    {
     "data": {
      "text/plain": [
       "<sklearn.metrics._plot.confusion_matrix.ConfusionMatrixDisplay at 0x7fdd3ea03460>"
      ]
     },
     "execution_count": 56,
     "metadata": {},
     "output_type": "execute_result"
    },
    {
     "data": {
      "image/png": "[encoded data removed]",
      "text/plain": [
       "<Figure size 432x288 with 2 Axes>"
      ]
     },
     "metadata": {
      "needs_background": "light"
     },
     "output_type": "display_data"
    }
   ],
   "source": [
    "plot_confusion_matrix(model_rf,X_test_sc,y_test)"
   ]
  },
  {
   "cell_type": "code",
   "execution_count": 57,
   "metadata": {},
   "outputs": [
    {
     "data": {
      "text/plain": [
       "0.9165617352878288"
      ]
     },
     "execution_count": 57,
     "metadata": {},
     "output_type": "execute_result"
    }
   ],
   "source": [
    "roc_auc_score(y_train,model_knn.predict(X_train_sc))"
   ]
  },
  {
   "cell_type": "code",
   "execution_count": 58,
   "metadata": {},
   "outputs": [
    {
     "data": {
      "text/plain": [
       "0.697615610097563"
      ]
     },
     "execution_count": 58,
     "metadata": {},
     "output_type": "execute_result"
    }
   ],
   "source": [
    "roc_auc_score(y_test,pred_knn)"
   ]
  },
  {
   "cell_type": "code",
   "execution_count": 59,
   "metadata": {},
   "outputs": [],
   "source": [
    "score['RF']={'train_acc':gs_smote_rf.score(X_train_sc,y_train),\n",
    "              'val_acc':gs_smote_rf.best_score_,\n",
    "              'test_acc':gs_smote_rf.score(X_test_sc,y_test),\n",
    "              'train_auc':roc_auc_score(y_train,model_rf.predict(X_train_sc)),\n",
    "              'test_auc':roc_auc_score(y_test,pred_rf),\n",
    "              'train_recall':recall_score(y_train,model_rf.predict(X_train_sc)),\n",
    "              'test_recall':recall_score(y_test,pred_rf)\n",
    "}"
   ]
  },
  {
   "cell_type": "markdown",
   "metadata": {},
   "source": [
    "## Pipeline: Extra Trees Classifiers with SMOTE"
   ]
  },
  {
   "cell_type": "code",
   "execution_count": 60,
   "metadata": {},
   "outputs": [],
   "source": [
    "pp_smote_et=Pipeline([\n",
    "    ('sampling',SMOTE(random_state=42)),\n",
    "    ('et',ExtraTreesClassifier(random_state=42))\n",
    "])"
   ]
  },
  {
   "cell_type": "code",
   "execution_count": 61,
   "metadata": {},
   "outputs": [],
   "source": [
    "pp_smote_et_params={\n",
    "    'sampling__k_neighbors':[5,6,7,8],\n",
    "    'sampling__sampling_strategy':['minority', 'not minority', 'auto'],\n",
    "    'et__max_depth':[6,7,8],\n",
    "    'et__n_estimators':[300,400,500]\n",
    "}"
   ]
  },
  {
   "cell_type": "code",
   "execution_count": 62,
   "metadata": {},
   "outputs": [],
   "source": [
    "gs_smote_et=GridSearchCV(pp_smote_et,pp_smote_et_params,cv=5,scoring='roc_auc',verbose=2, n_jobs=-1)"
   ]
  },
  {
   "cell_type": "code",
   "execution_count": 63,
   "metadata": {
    "scrolled": true
   },
   "outputs": [
    {
     "name": "stdout",
     "output_type": "stream",
     "text": [
      "Fitting 5 folds for each of 108 candidates, totalling 540 fits\n"
     ]
    },
    {
     "data": {
      "text/plain": [
       "GridSearchCV(cv=5,\n",
       "             estimator=Pipeline(steps=[('sampling', SMOTE(random_state=42)),\n",
       "                                       ('et',\n",
       "                                        ExtraTreesClassifier(random_state=42))]),\n",
       "             n_jobs=-1,\n",
       "             param_grid={'et__max_depth': [6, 7, 8],\n",
       "                         'et__n_estimators': [300, 400, 500],\n",
       "                         'sampling__k_neighbors': [5, 6, 7, 8],\n",
       "                         'sampling__sampling_strategy': ['minority',\n",
       "                                                         'not minority',\n",
       "                                                         'auto']},\n",
       "             scoring='roc_auc', verbose=2)"
      ]
     },
     "execution_count": 63,
     "metadata": {},
     "output_type": "execute_result"
    }
   ],
   "source": [
    "gs_smote_et.fit(X_train_sc,y_train)"
   ]
  },
  {
   "cell_type": "code",
   "execution_count": 64,
   "metadata": {},
   "outputs": [
    {
     "data": {
      "text/plain": [
       "0.9096151729561653"
      ]
     },
     "execution_count": 64,
     "metadata": {},
     "output_type": "execute_result"
    }
   ],
   "source": [
    "gs_smote_et.score(X_train_sc,y_train)"
   ]
  },
  {
   "cell_type": "code",
   "execution_count": 65,
   "metadata": {
    "scrolled": true
   },
   "outputs": [
    {
     "data": {
      "text/plain": [
       "0.848064050400315"
      ]
     },
     "execution_count": 65,
     "metadata": {},
     "output_type": "execute_result"
    }
   ],
   "source": [
    "gs_smote_et.score(X_test_sc,y_test)"
   ]
  },
  {
   "cell_type": "code",
   "execution_count": 66,
   "metadata": {},
   "outputs": [
    {
     "data": {
      "text/plain": [
       "Pipeline(steps=[('sampling',\n",
       "                 SMOTE(random_state=42, sampling_strategy='not minority')),\n",
       "                ('et',\n",
       "                 ExtraTreesClassifier(max_depth=8, n_estimators=300,\n",
       "                                      random_state=42))])"
      ]
     },
     "execution_count": 66,
     "metadata": {},
     "output_type": "execute_result"
    }
   ],
   "source": [
    "gs_smote_et.best_estimator_"
   ]
  },
  {
   "cell_type": "code",
   "execution_count": 67,
   "metadata": {},
   "outputs": [],
   "source": [
    "model_et=gs_smote_et.best_estimator_"
   ]
  },
  {
   "cell_type": "code",
   "execution_count": 68,
   "metadata": {},
   "outputs": [],
   "source": [
    "pred_et=model_et.predict(X_test_sc)"
   ]
  },
  {
   "cell_type": "code",
   "execution_count": 69,
   "metadata": {
    "scrolled": false
   },
   "outputs": [
    {
     "data": {
      "text/plain": [
       "<sklearn.metrics._plot.confusion_matrix.ConfusionMatrixDisplay at 0x7fdc7e698550>"
      ]
     },
     "execution_count": 69,
     "metadata": {},
     "output_type": "execute_result"
    },
    {
     "data": {
      "image/png": "[encoded data removed]",
      "text/plain": [
       "<Figure size 432x288 with 2 Axes>"
      ]
     },
     "metadata": {
      "needs_background": "light"
     },
     "output_type": "display_data"
    }
   ],
   "source": [
    "plot_confusion_matrix(model_et,X_test_sc,y_test)"
   ]
  },
  {
   "cell_type": "code",
   "execution_count": 70,
   "metadata": {},
   "outputs": [
    {
     "data": {
      "text/plain": [
       "0.5087463556851312"
      ]
     },
     "execution_count": 70,
     "metadata": {},
     "output_type": "execute_result"
    }
   ],
   "source": [
    "roc_auc_score(y_train,model_et.predict(X_train_sc))"
   ]
  },
  {
   "cell_type": "code",
   "execution_count": 71,
   "metadata": {},
   "outputs": [
    {
     "data": {
      "text/plain": [
       "0.5087719298245614"
      ]
     },
     "execution_count": 71,
     "metadata": {},
     "output_type": "execute_result"
    }
   ],
   "source": [
    "roc_auc_score(y_test,pred_et)"
   ]
  },
  {
   "cell_type": "code",
   "execution_count": 72,
   "metadata": {},
   "outputs": [],
   "source": [
    "score['ET']={'train_acc':gs_smote_et.score(X_train_sc,y_train),\n",
    "              'val_acc':gs_smote_et.best_score_,\n",
    "              'test_acc':gs_smote_et.score(X_test_sc,y_test),\n",
    "              'train_auc':roc_auc_score(y_train,model_et.predict(X_train_sc)),\n",
    "              'test_auc':roc_auc_score(y_test,pred_et),\n",
    "              'train_recall':recall_score(y_train,model_et.predict(X_train_sc)),\n",
    "              'test_recall':recall_score(y_test,pred_et)\n",
    "}"
   ]
  },
  {
   "cell_type": "markdown",
   "metadata": {},
   "source": [
    "## Pipeline: Support Vector Machines with SMOTE"
   ]
  },
  {
   "cell_type": "code",
   "execution_count": 73,
   "metadata": {},
   "outputs": [],
   "source": [
    "pp_smote_svc=Pipeline([\n",
    "    ('sampling',SMOTE()),\n",
    "    ('svc',SVC(probability=True))\n",
    "])"
   ]
  },
  {
   "cell_type": "code",
   "execution_count": 74,
   "metadata": {},
   "outputs": [],
   "source": [
    "pp_smote_svc_params={\n",
    "# params was executed but poly kernel has better results hence these features was comment out to ensure notebook run faster\n",
    "#     {'sampling__k_neighbors':[5,6,7],\n",
    "#      'sampling__sampling_strategy':['minority', 'not minority', 'auto'],\n",
    "#      'svc__C':[0.2,0.4],\n",
    "#      'svc__kernel':['rbf', 'sigmoid']},\n",
    "#     {'sampling__k_neighbors':[5,6,7], \n",
    "    'sampling__sampling_strategy':['minority', 'not minority', 'auto'],\n",
    "    'svc__C':[0.2,0.4],\n",
    "    'svc__kernel':['poly'],\n",
    "    'svc__degree':[2,3]}"
   ]
  },
  {
   "cell_type": "code",
   "execution_count": 75,
   "metadata": {},
   "outputs": [],
   "source": [
    "gs_smote_svc=GridSearchCV(pp_smote_svc,pp_smote_svc_params,cv=5,scoring='roc_auc',verbose=2, n_jobs=-1)"
   ]
  },
  {
   "cell_type": "code",
   "execution_count": 76,
   "metadata": {
    "scrolled": true
   },
   "outputs": [
    {
     "name": "stdout",
     "output_type": "stream",
     "text": [
      "Fitting 5 folds for each of 12 candidates, totalling 60 fits\n"
     ]
    },
    {
     "data": {
      "text/plain": [
       "GridSearchCV(cv=5,\n",
       "             estimator=Pipeline(steps=[('sampling', SMOTE()),\n",
       "                                       ('svc', SVC(probability=True))]),\n",
       "             n_jobs=-1,\n",
       "             param_grid={'sampling__sampling_strategy': ['minority',\n",
       "                                                         'not minority',\n",
       "                                                         'auto'],\n",
       "                         'svc__C': [0.2, 0.4], 'svc__degree': [2, 3],\n",
       "                         'svc__kernel': ['poly']},\n",
       "             scoring='roc_auc', verbose=2)"
      ]
     },
     "execution_count": 76,
     "metadata": {},
     "output_type": "execute_result"
    }
   ],
   "source": [
    "gs_smote_svc.fit(X_train_sc,y_train)"
   ]
  },
  {
   "cell_type": "code",
   "execution_count": 77,
   "metadata": {},
   "outputs": [
    {
     "data": {
      "text/plain": [
       "0.879516150381656"
      ]
     },
     "execution_count": 77,
     "metadata": {},
     "output_type": "execute_result"
    }
   ],
   "source": [
    "gs_smote_svc.score(X_train_sc,y_train)"
   ]
  },
  {
   "cell_type": "code",
   "execution_count": 78,
   "metadata": {
    "scrolled": false
   },
   "outputs": [
    {
     "data": {
      "text/plain": [
       "0.8574922343264646"
      ]
     },
     "execution_count": 78,
     "metadata": {},
     "output_type": "execute_result"
    }
   ],
   "source": [
    "gs_smote_svc.score(X_test_sc,y_test)"
   ]
  },
  {
   "cell_type": "code",
   "execution_count": 79,
   "metadata": {},
   "outputs": [
    {
     "data": {
      "text/plain": [
       "Pipeline(steps=[('sampling', SMOTE()),\n",
       "                ('svc', SVC(C=0.2, kernel='poly', probability=True))])"
      ]
     },
     "execution_count": 79,
     "metadata": {},
     "output_type": "execute_result"
    }
   ],
   "source": [
    "gs_smote_svc.best_estimator_"
   ]
  },
  {
   "cell_type": "code",
   "execution_count": 80,
   "metadata": {},
   "outputs": [],
   "source": [
    "model_svc=gs_smote_svc.best_estimator_"
   ]
  },
  {
   "cell_type": "code",
   "execution_count": 81,
   "metadata": {},
   "outputs": [],
   "source": [
    "pred_svc=model_svc.predict(X_test_sc)"
   ]
  },
  {
   "cell_type": "code",
   "execution_count": 82,
   "metadata": {
    "scrolled": false
   },
   "outputs": [
    {
     "data": {
      "text/plain": [
       "<sklearn.metrics._plot.confusion_matrix.ConfusionMatrixDisplay at 0x7fdc7e5f83a0>"
      ]
     },
     "execution_count": 82,
     "metadata": {},
     "output_type": "execute_result"
    },
    {
     "data": {
      "image/png": "[encoded data removed]",
      "text/plain": [
       "<Figure size 432x288 with 2 Axes>"
      ]
     },
     "metadata": {
      "needs_background": "light"
     },
     "output_type": "display_data"
    }
   ],
   "source": [
    "plot_confusion_matrix(model_svc,X_test_sc,y_test)"
   ]
  },
  {
   "cell_type": "code",
   "execution_count": 83,
   "metadata": {
    "scrolled": true
   },
   "outputs": [
    {
     "data": {
      "text/plain": [
       "0.8075292648241734"
      ]
     },
     "execution_count": 83,
     "metadata": {},
     "output_type": "execute_result"
    }
   ],
   "source": [
    "roc_auc_score(y_train,model_svc.predict(X_train_sc))"
   ]
  },
  {
   "cell_type": "code",
   "execution_count": 84,
   "metadata": {},
   "outputs": [
    {
     "data": {
      "text/plain": [
       "0.7920374502340639"
      ]
     },
     "execution_count": 84,
     "metadata": {},
     "output_type": "execute_result"
    }
   ],
   "source": [
    "roc_auc_score(y_test,pred_svc)"
   ]
  },
  {
   "cell_type": "code",
   "execution_count": 85,
   "metadata": {},
   "outputs": [],
   "source": [
    "score['SVC']={'train_acc':gs_smote_svc.score(X_train_sc,y_train),\n",
    "              'val_acc':gs_smote_svc.best_score_,\n",
    "              'test_acc':gs_smote_svc.score(X_test_sc,y_test),\n",
    "              'train_auc':roc_auc_score(y_train,model_svc.predict(X_train_sc)),\n",
    "              'test_auc':roc_auc_score(y_test,pred_svc),\n",
    "              'train_recall':recall_score(y_train,model_svc.predict(X_train_sc)),\n",
    "              'test_recall':recall_score(y_test,pred_svc)\n",
    "}"
   ]
  },
  {
   "cell_type": "markdown",
   "metadata": {},
   "source": [
    "## Pipeline: XGBoost with SMOTE"
   ]
  },
  {
   "cell_type": "code",
   "execution_count": 86,
   "metadata": {
    "scrolled": true
   },
   "outputs": [],
   "source": [
    "pp_smote_xgb=Pipeline([\n",
    "    ('sampling',SMOTE(random_state=42)),\n",
    "    ('xgb', XGBClassifier(use_label_encoder=False, random_state=42))\n",
    "])"
   ]
  },
  {
   "cell_type": "code",
   "execution_count": 87,
   "metadata": {},
   "outputs": [],
   "source": [
    "pp_smote_xgb_params={\n",
    "    'sampling__k_neighbors': [5],\n",
    "    'xgb__lambda': [0.2],\n",
    "    'xgb__alpha': [0.1],\n",
    "    'xgb__colsample_bytree': [0.9],\n",
    "    'xgb__subsample': [0.8],\n",
    "    'xgb__gamma': [0.4],\n",
    "    'xgb__gpu_hist': ['gpu_hist'],\n",
    "    'xgb__learning_rate': [0.1],\n",
    "    'xgb__max_depth': [5],\n",
    "    'xgb__min_child_weight': [2],\n",
    "    'xgb__n_estimators': [100],\n",
    "    'xgb__n_jobs': [-1],\n",
    "    'xgb__verbosity': [2]\n",
    "}"
   ]
  },
  {
   "cell_type": "code",
   "execution_count": 88,
   "metadata": {},
   "outputs": [],
   "source": [
    "gs_smote_xgb=GridSearchCV(pp_smote_xgb,pp_smote_xgb_params,cv=5,scoring='roc_auc',verbose=2, n_jobs=-1)"
   ]
  },
  {
   "cell_type": "code",
   "execution_count": 89,
   "metadata": {
    "scrolled": true
   },
   "outputs": [
    {
     "name": "stdout",
     "output_type": "stream",
     "text": [
      "Fitting 5 folds for each of 1 candidates, totalling 5 fits\n",
      "[09:50:40] WARNING: /Users/travis/build/dmlc/xgboost/src/learner.cc:541: \n",
      "Parameters: { gpu_hist } might not be used.\n",
      "\n",
      "  This may not be accurate due to some parameters are only used in language bindings but\n",
      "  passed down to XGBoost core.  Or some parameters are not used but slip through this\n",
      "  verification. Please open an issue if you find above cases.\n",
      "\n",
      "\n",
      "[09:50:40] INFO: /Users/travis/build/dmlc/xgboost/src/tree/updater_prune.cc:101: tree pruning end, 46 extra nodes, 0 pruned nodes, max_depth=5\n",
      "[09:50:40] WARNING: /Users/travis/build/dmlc/xgboost/src/learner.cc:1061: Starting in XGBoost 1.3.0, the default evaluation metric used with the objective 'binary:logistic' was changed from 'error' to 'logloss'. Explicitly set eval_metric if you'd like to restore the old behavior.\n",
      "[09:50:40] INFO: /Users/travis/build/dmlc/xgboost/src/tree/updater_prune.cc:101: tree pruning end, 48 extra nodes, 0 pruned nodes, max_depth=5\n",
      "[09:50:40] INFO: /Users/travis/build/dmlc/xgboost/src/tree/updater_prune.cc:101: tree pruning end, 48 extra nodes, 0 pruned nodes, max_depth=5\n",
      "[09:50:40] INFO: /Users/travis/build/dmlc/xgboost/src/tree/updater_prune.cc:101: tree pruning end, 48 extra nodes, 0 pruned nodes, max_depth=5\n",
      "[09:50:40] INFO: /Users/travis/build/dmlc/xgboost/src/tree/updater_prune.cc:101: tree pruning end, 50 extra nodes, 2 pruned nodes, max_depth=5\n",
      "[09:50:40] INFO: /Users/travis/build/dmlc/xgboost/src/tree/updater_prune.cc:101: tree pruning end, 54 extra nodes, 0 pruned nodes, max_depth=5\n",
      "[09:50:40] INFO: /Users/travis/build/dmlc/xgboost/src/tree/updater_prune.cc:101: tree pruning end, 44 extra nodes, 2 pruned nodes, max_depth=5\n",
      "[09:50:40] INFO: /Users/travis/build/dmlc/xgboost/src/tree/updater_prune.cc:101: tree pruning end, 58 extra nodes, 0 pruned nodes, max_depth=5\n",
      "[09:50:40] INFO: /Users/travis/build/dmlc/xgboost/src/tree/updater_prune.cc:101: tree pruning end, 58 extra nodes, 0 pruned nodes, max_depth=5\n",
      "[09:50:40] INFO: /Users/travis/build/dmlc/xgboost/src/tree/updater_prune.cc:101: tree pruning end, 56 extra nodes, 2 pruned nodes, max_depth=5\n",
      "[09:50:40] INFO: /Users/travis/build/dmlc/xgboost/src/tree/updater_prune.cc:101: tree pruning end, 42 extra nodes, 2 pruned nodes, max_depth=5\n",
      "[09:50:40] INFO: /Users/travis/build/dmlc/xgboost/src/tree/updater_prune.cc:101: tree pruning end, 48 extra nodes, 0 pruned nodes, max_depth=5\n",
      "[09:50:40] INFO: /Users/travis/build/dmlc/xgboost/src/tree/updater_prune.cc:101: tree pruning end, 56 extra nodes, 2 pruned nodes, max_depth=5\n",
      "[09:50:40] INFO: /Users/travis/build/dmlc/xgboost/src/tree/updater_prune.cc:101: tree pruning end, 44 extra nodes, 2 pruned nodes, max_depth=5\n",
      "[09:50:40] INFO: /Users/travis/build/dmlc/xgboost/src/tree/updater_prune.cc:101: tree pruning end, 58 extra nodes, 0 pruned nodes, max_depth=5\n",
      "[09:50:40] INFO: /Users/travis/build/dmlc/xgboost/src/tree/updater_prune.cc:101: tree pruning end, 44 extra nodes, 0 pruned nodes, max_depth=5\n",
      "[09:50:40] INFO: /Users/travis/build/dmlc/xgboost/src/tree/updater_prune.cc:101: tree pruning end, 52 extra nodes, 0 pruned nodes, max_depth=5\n",
      "[09:50:40] INFO: /Users/travis/build/dmlc/xgboost/src/tree/updater_prune.cc:101: tree pruning end, 44 extra nodes, 2 pruned nodes, max_depth=5\n",
      "[09:50:40] INFO: /Users/travis/build/dmlc/xgboost/src/tree/updater_prune.cc:101: tree pruning end, 52 extra nodes, 2 pruned nodes, max_depth=5\n",
      "[09:50:40] INFO: /Users/travis/build/dmlc/xgboost/src/tree/updater_prune.cc:101: tree pruning end, 50 extra nodes, 0 pruned nodes, max_depth=5\n",
      "[09:50:40] INFO: /Users/travis/build/dmlc/xgboost/src/tree/updater_prune.cc:101: tree pruning end, 48 extra nodes, 0 pruned nodes, max_depth=5\n",
      "[09:50:40] INFO: /Users/travis/build/dmlc/xgboost/src/tree/updater_prune.cc:101: tree pruning end, 38 extra nodes, 0 pruned nodes, max_depth=5\n",
      "[09:50:40] INFO: /Users/travis/build/dmlc/xgboost/src/tree/updater_prune.cc:101: tree pruning end, 54 extra nodes, 0 pruned nodes, max_depth=5\n",
      "[09:50:40] INFO: /Users/travis/build/dmlc/xgboost/src/tree/updater_prune.cc:101: tree pruning end, 50 extra nodes, 4 pruned nodes, max_depth=5\n",
      "[09:50:40] INFO: /Users/travis/build/dmlc/xgboost/src/tree/updater_prune.cc:101: tree pruning end, 48 extra nodes, 0 pruned nodes, max_depth=5\n",
      "[09:50:40] INFO: /Users/travis/build/dmlc/xgboost/src/tree/updater_prune.cc:101: tree pruning end, 44 extra nodes, 4 pruned nodes, max_depth=5\n",
      "[09:50:40] INFO: /Users/travis/build/dmlc/xgboost/src/tree/updater_prune.cc:101: tree pruning end, 44 extra nodes, 2 pruned nodes, max_depth=5\n",
      "[09:50:40] INFO: /Users/travis/build/dmlc/xgboost/src/tree/updater_prune.cc:101: tree pruning end, 32 extra nodes, 2 pruned nodes, max_depth=5\n",
      "[09:50:40] INFO: /Users/travis/build/dmlc/xgboost/src/tree/updater_prune.cc:101: tree pruning end, 42 extra nodes, 0 pruned nodes, max_depth=5\n",
      "[09:50:40] INFO: /Users/travis/build/dmlc/xgboost/src/tree/updater_prune.cc:101: tree pruning end, 30 extra nodes, 4 pruned nodes, max_depth=5\n",
      "[09:50:40] INFO: /Users/travis/build/dmlc/xgboost/src/tree/updater_prune.cc:101: tree pruning end, 40 extra nodes, 0 pruned nodes, max_depth=5\n",
      "[09:50:40] INFO: /Users/travis/build/dmlc/xgboost/src/tree/updater_prune.cc:101: tree pruning end, 40 extra nodes, 4 pruned nodes, max_depth=5\n",
      "[09:50:40] INFO: /Users/travis/build/dmlc/xgboost/src/tree/updater_prune.cc:101: tree pruning end, 38 extra nodes, 4 pruned nodes, max_depth=5\n",
      "[09:50:40] INFO: /Users/travis/build/dmlc/xgboost/src/tree/updater_prune.cc:101: tree pruning end, 32 extra nodes, 2 pruned nodes, max_depth=5\n",
      "[09:50:40] INFO: /Users/travis/build/dmlc/xgboost/src/tree/updater_prune.cc:101: tree pruning end, 22 extra nodes, 0 pruned nodes, max_depth=5\n",
      "[09:50:40] INFO: /Users/travis/build/dmlc/xgboost/src/tree/updater_prune.cc:101: tree pruning end, 44 extra nodes, 2 pruned nodes, max_depth=5\n",
      "[09:50:40] INFO: /Users/travis/build/dmlc/xgboost/src/tree/updater_prune.cc:101: tree pruning end, 18 extra nodes, 2 pruned nodes, max_depth=5\n",
      "[09:50:40] INFO: /Users/travis/build/dmlc/xgboost/src/tree/updater_prune.cc:101: tree pruning end, 46 extra nodes, 0 pruned nodes, max_depth=5\n",
      "[09:50:40] INFO: /Users/travis/build/dmlc/xgboost/src/tree/updater_prune.cc:101: tree pruning end, 46 extra nodes, 0 pruned nodes, max_depth=5\n",
      "[09:50:40] INFO: /Users/travis/build/dmlc/xgboost/src/tree/updater_prune.cc:101: tree pruning end, 38 extra nodes, 2 pruned nodes, max_depth=5\n",
      "[09:50:40] INFO: /Users/travis/build/dmlc/xgboost/src/tree/updater_prune.cc:101: tree pruning end, 44 extra nodes, 0 pruned nodes, max_depth=5\n",
      "[09:50:40] INFO: /Users/travis/build/dmlc/xgboost/src/tree/updater_prune.cc:101: tree pruning end, 42 extra nodes, 0 pruned nodes, max_depth=5\n",
      "[09:50:40] INFO: /Users/travis/build/dmlc/xgboost/src/tree/updater_prune.cc:101: tree pruning end, 38 extra nodes, 2 pruned nodes, max_depth=5\n",
      "[09:50:40] INFO: /Users/travis/build/dmlc/xgboost/src/tree/updater_prune.cc:101: tree pruning end, 38 extra nodes, 6 pruned nodes, max_depth=5\n",
      "[09:50:40] INFO: /Users/travis/build/dmlc/xgboost/src/tree/updater_prune.cc:101: tree pruning end, 22 extra nodes, 2 pruned nodes, max_depth=5\n",
      "[09:50:40] INFO: /Users/travis/build/dmlc/xgboost/src/tree/updater_prune.cc:101: tree pruning end, 24 extra nodes, 0 pruned nodes, max_depth=5\n",
      "[09:50:40] INFO: /Users/travis/build/dmlc/xgboost/src/tree/updater_prune.cc:101: tree pruning end, 38 extra nodes, 2 pruned nodes, max_depth=5\n",
      "[09:50:40] INFO: /Users/travis/build/dmlc/xgboost/src/tree/updater_prune.cc:101: tree pruning end, 42 extra nodes, 0 pruned nodes, max_depth=5\n",
      "[09:50:40] INFO: /Users/travis/build/dmlc/xgboost/src/tree/updater_prune.cc:101: tree pruning end, 20 extra nodes, 0 pruned nodes, max_depth=5\n",
      "[09:50:40] INFO: /Users/travis/build/dmlc/xgboost/src/tree/updater_prune.cc:101: tree pruning end, 44 extra nodes, 0 pruned nodes, max_depth=5\n",
      "[09:50:40] INFO: /Users/travis/build/dmlc/xgboost/src/tree/updater_prune.cc:101: tree pruning end, 30 extra nodes, 0 pruned nodes, max_depth=5\n",
      "[09:50:40] INFO: /Users/travis/build/dmlc/xgboost/src/tree/updater_prune.cc:101: tree pruning end, 30 extra nodes, 0 pruned nodes, max_depth=5\n",
      "[09:50:40] INFO: /Users/travis/build/dmlc/xgboost/src/tree/updater_prune.cc:101: tree pruning end, 32 extra nodes, 2 pruned nodes, max_depth=5\n",
      "[09:50:40] INFO: /Users/travis/build/dmlc/xgboost/src/tree/updater_prune.cc:101: tree pruning end, 40 extra nodes, 0 pruned nodes, max_depth=5\n",
      "[09:50:40] INFO: /Users/travis/build/dmlc/xgboost/src/tree/updater_prune.cc:101: tree pruning end, 44 extra nodes, 2 pruned nodes, max_depth=5\n",
      "[09:50:40] INFO: /Users/travis/build/dmlc/xgboost/src/tree/updater_prune.cc:101: tree pruning end, 28 extra nodes, 2 pruned nodes, max_depth=5\n",
      "[09:50:40] INFO: /Users/travis/build/dmlc/xgboost/src/tree/updater_prune.cc:101: tree pruning end, 38 extra nodes, 0 pruned nodes, max_depth=5\n",
      "[09:50:40] INFO: /Users/travis/build/dmlc/xgboost/src/tree/updater_prune.cc:101: tree pruning end, 36 extra nodes, 2 pruned nodes, max_depth=5\n",
      "[09:50:40] INFO: /Users/travis/build/dmlc/xgboost/src/tree/updater_prune.cc:101: tree pruning end, 26 extra nodes, 0 pruned nodes, max_depth=5\n",
      "[09:50:40] INFO: /Users/travis/build/dmlc/xgboost/src/tree/updater_prune.cc:101: tree pruning end, 24 extra nodes, 0 pruned nodes, max_depth=5\n",
      "[09:50:40] INFO: /Users/travis/build/dmlc/xgboost/src/tree/updater_prune.cc:101: tree pruning end, 22 extra nodes, 2 pruned nodes, max_depth=5\n",
      "[09:50:40] INFO: /Users/travis/build/dmlc/xgboost/src/tree/updater_prune.cc:101: tree pruning end, 18 extra nodes, 0 pruned nodes, max_depth=5\n",
      "[09:50:40] INFO: /Users/travis/build/dmlc/xgboost/src/tree/updater_prune.cc:101: tree pruning end, 30 extra nodes, 2 pruned nodes, max_depth=5\n",
      "[09:50:40] INFO: /Users/travis/build/dmlc/xgboost/src/tree/updater_prune.cc:101: tree pruning end, 24 extra nodes, 2 pruned nodes, max_depth=5\n"
     ]
    },
    {
     "name": "stdout",
     "output_type": "stream",
     "text": [
      "[09:50:40] INFO: /Users/travis/build/dmlc/xgboost/src/tree/updater_prune.cc:101: tree pruning end, 20 extra nodes, 0 pruned nodes, max_depth=5\n",
      "[09:50:40] INFO: /Users/travis/build/dmlc/xgboost/src/tree/updater_prune.cc:101: tree pruning end, 12 extra nodes, 0 pruned nodes, max_depth=5\n",
      "[09:50:40] INFO: /Users/travis/build/dmlc/xgboost/src/tree/updater_prune.cc:101: tree pruning end, 30 extra nodes, 0 pruned nodes, max_depth=5\n",
      "[09:50:40] INFO: /Users/travis/build/dmlc/xgboost/src/tree/updater_prune.cc:101: tree pruning end, 30 extra nodes, 6 pruned nodes, max_depth=5\n",
      "[09:50:40] INFO: /Users/travis/build/dmlc/xgboost/src/tree/updater_prune.cc:101: tree pruning end, 22 extra nodes, 0 pruned nodes, max_depth=5\n",
      "[09:50:40] INFO: /Users/travis/build/dmlc/xgboost/src/tree/updater_prune.cc:101: tree pruning end, 26 extra nodes, 0 pruned nodes, max_depth=5\n",
      "[09:50:40] INFO: /Users/travis/build/dmlc/xgboost/src/tree/updater_prune.cc:101: tree pruning end, 28 extra nodes, 0 pruned nodes, max_depth=5\n",
      "[09:50:40] INFO: /Users/travis/build/dmlc/xgboost/src/tree/updater_prune.cc:101: tree pruning end, 34 extra nodes, 2 pruned nodes, max_depth=5\n",
      "[09:50:40] INFO: /Users/travis/build/dmlc/xgboost/src/tree/updater_prune.cc:101: tree pruning end, 46 extra nodes, 0 pruned nodes, max_depth=5\n",
      "[09:50:40] INFO: /Users/travis/build/dmlc/xgboost/src/tree/updater_prune.cc:101: tree pruning end, 46 extra nodes, 0 pruned nodes, max_depth=5\n",
      "[09:50:40] INFO: /Users/travis/build/dmlc/xgboost/src/tree/updater_prune.cc:101: tree pruning end, 30 extra nodes, 2 pruned nodes, max_depth=5\n",
      "[09:50:40] INFO: /Users/travis/build/dmlc/xgboost/src/tree/updater_prune.cc:101: tree pruning end, 40 extra nodes, 2 pruned nodes, max_depth=5\n",
      "[09:50:40] INFO: /Users/travis/build/dmlc/xgboost/src/tree/updater_prune.cc:101: tree pruning end, 36 extra nodes, 0 pruned nodes, max_depth=5\n",
      "[09:50:40] INFO: /Users/travis/build/dmlc/xgboost/src/tree/updater_prune.cc:101: tree pruning end, 42 extra nodes, 0 pruned nodes, max_depth=5\n",
      "[09:50:40] INFO: /Users/travis/build/dmlc/xgboost/src/tree/updater_prune.cc:101: tree pruning end, 30 extra nodes, 0 pruned nodes, max_depth=5\n",
      "[09:50:40] INFO: /Users/travis/build/dmlc/xgboost/src/tree/updater_prune.cc:101: tree pruning end, 50 extra nodes, 6 pruned nodes, max_depth=5\n",
      "[09:50:40] INFO: /Users/travis/build/dmlc/xgboost/src/tree/updater_prune.cc:101: tree pruning end, 46 extra nodes, 2 pruned nodes, max_depth=5\n",
      "[09:50:40] INFO: /Users/travis/build/dmlc/xgboost/src/tree/updater_prune.cc:101: tree pruning end, 38 extra nodes, 2 pruned nodes, max_depth=5\n",
      "[09:50:40] INFO: /Users/travis/build/dmlc/xgboost/src/tree/updater_prune.cc:101: tree pruning end, 16 extra nodes, 0 pruned nodes, max_depth=5\n",
      "[09:50:40] INFO: /Users/travis/build/dmlc/xgboost/src/tree/updater_prune.cc:101: tree pruning end, 46 extra nodes, 0 pruned nodes, max_depth=5\n",
      "[09:50:40] INFO: /Users/travis/build/dmlc/xgboost/src/tree/updater_prune.cc:101: tree pruning end, 42 extra nodes, 0 pruned nodes, max_depth=5\n",
      "[09:50:40] INFO: /Users/travis/build/dmlc/xgboost/src/tree/updater_prune.cc:101: tree pruning end, 34 extra nodes, 0 pruned nodes, max_depth=5\n",
      "[09:50:40] INFO: /Users/travis/build/dmlc/xgboost/src/tree/updater_prune.cc:101: tree pruning end, 20 extra nodes, 4 pruned nodes, max_depth=5\n",
      "[09:50:40] INFO: /Users/travis/build/dmlc/xgboost/src/tree/updater_prune.cc:101: tree pruning end, 20 extra nodes, 0 pruned nodes, max_depth=5\n",
      "[09:50:40] INFO: /Users/travis/build/dmlc/xgboost/src/tree/updater_prune.cc:101: tree pruning end, 32 extra nodes, 0 pruned nodes, max_depth=5\n",
      "[09:50:40] INFO: /Users/travis/build/dmlc/xgboost/src/tree/updater_prune.cc:101: tree pruning end, 32 extra nodes, 0 pruned nodes, max_depth=5\n",
      "[09:50:40] INFO: /Users/travis/build/dmlc/xgboost/src/tree/updater_prune.cc:101: tree pruning end, 10 extra nodes, 0 pruned nodes, max_depth=5\n",
      "[09:50:40] INFO: /Users/travis/build/dmlc/xgboost/src/tree/updater_prune.cc:101: tree pruning end, 22 extra nodes, 2 pruned nodes, max_depth=5\n",
      "[09:50:40] INFO: /Users/travis/build/dmlc/xgboost/src/tree/updater_prune.cc:101: tree pruning end, 48 extra nodes, 2 pruned nodes, max_depth=5\n",
      "[09:50:40] INFO: /Users/travis/build/dmlc/xgboost/src/tree/updater_prune.cc:101: tree pruning end, 40 extra nodes, 2 pruned nodes, max_depth=5\n",
      "[09:50:40] INFO: /Users/travis/build/dmlc/xgboost/src/tree/updater_prune.cc:101: tree pruning end, 40 extra nodes, 0 pruned nodes, max_depth=5\n",
      "[09:50:40] INFO: /Users/travis/build/dmlc/xgboost/src/tree/updater_prune.cc:101: tree pruning end, 42 extra nodes, 2 pruned nodes, max_depth=5\n",
      "[09:50:40] INFO: /Users/travis/build/dmlc/xgboost/src/tree/updater_prune.cc:101: tree pruning end, 22 extra nodes, 2 pruned nodes, max_depth=5\n",
      "[09:50:40] INFO: /Users/travis/build/dmlc/xgboost/src/tree/updater_prune.cc:101: tree pruning end, 48 extra nodes, 0 pruned nodes, max_depth=5\n",
      "[09:50:40] INFO: /Users/travis/build/dmlc/xgboost/src/tree/updater_prune.cc:101: tree pruning end, 36 extra nodes, 0 pruned nodes, max_depth=5\n",
      "[09:50:41] INFO: /Users/travis/build/dmlc/xgboost/src/tree/updater_prune.cc:101: tree pruning end, 28 extra nodes, 0 pruned nodes, max_depth=5\n"
     ]
    },
    {
     "data": {
      "text/plain": [
       "GridSearchCV(cv=5,\n",
       "             estimator=Pipeline(steps=[('sampling', SMOTE(random_state=42)),\n",
       "                                       ('xgb',\n",
       "                                        XGBClassifier(base_score=None,\n",
       "                                                      booster=None,\n",
       "                                                      colsample_bylevel=None,\n",
       "                                                      colsample_bynode=None,\n",
       "                                                      colsample_bytree=None,\n",
       "                                                      gamma=None, gpu_id=None,\n",
       "                                                      importance_type='gain',\n",
       "                                                      interaction_constraints=None,\n",
       "                                                      learning_rate=None,\n",
       "                                                      max_delta_step=None,\n",
       "                                                      max_depth=None,\n",
       "                                                      min_child_weight=None,\n",
       "                                                      mi...\n",
       "             param_grid={'sampling__k_neighbors': [5], 'xgb__alpha': [0.1],\n",
       "                         'xgb__colsample_bytree': [0.9], 'xgb__gamma': [0.4],\n",
       "                         'xgb__gpu_hist': ['gpu_hist'], 'xgb__lambda': [0.2],\n",
       "                         'xgb__learning_rate': [0.1], 'xgb__max_depth': [5],\n",
       "                         'xgb__min_child_weight': [2],\n",
       "                         'xgb__n_estimators': [100], 'xgb__n_jobs': [-1],\n",
       "                         'xgb__subsample': [0.8], 'xgb__verbosity': [2]},\n",
       "             scoring='roc_auc', verbose=2)"
      ]
     },
     "execution_count": 89,
     "metadata": {},
     "output_type": "execute_result"
    }
   ],
   "source": [
    "gs_smote_xgb.fit(X_train_sc,y_train)"
   ]
  },
  {
   "cell_type": "code",
   "execution_count": 90,
   "metadata": {},
   "outputs": [
    {
     "data": {
      "text/plain": [
       "0.9140375638982399"
      ]
     },
     "execution_count": 90,
     "metadata": {},
     "output_type": "execute_result"
    }
   ],
   "source": [
    "gs_smote_xgb.score(X_train_sc,y_train)"
   ]
  },
  {
   "cell_type": "code",
   "execution_count": 91,
   "metadata": {},
   "outputs": [
    {
     "data": {
      "text/plain": [
       "0.8594150588441178"
      ]
     },
     "execution_count": 91,
     "metadata": {},
     "output_type": "execute_result"
    }
   ],
   "source": [
    "gs_smote_xgb.score(X_test_sc,y_test)"
   ]
  },
  {
   "cell_type": "code",
   "execution_count": 92,
   "metadata": {},
   "outputs": [
    {
     "data": {
      "text/plain": [
       "Pipeline(steps=[('sampling', SMOTE(random_state=42)),\n",
       "                ('xgb',\n",
       "                 XGBClassifier(alpha=0.1, base_score=0.5, booster='gbtree',\n",
       "                               colsample_bylevel=1, colsample_bynode=1,\n",
       "                               colsample_bytree=0.9, gamma=0.4,\n",
       "                               gpu_hist='gpu_hist', gpu_id=-1,\n",
       "                               importance_type='gain',\n",
       "                               interaction_constraints='', lambda=0.2,\n",
       "                               learning_rate=0.1, max_delta_step=0, max_depth=5,\n",
       "                               min_child_weight=2, missing=nan,\n",
       "                               monotone_constraints='()', n_estimators=100,\n",
       "                               n_jobs=-1, num_parallel_tree=1, random_state=42,\n",
       "                               reg_alpha=0.100000001, reg_lambda=0.200000003,\n",
       "                               scale_pos_weight=1, subsample=0.8,\n",
       "                               tree_method='exact', use_label_encoder=False,\n",
       "                               validate_parameters=1, verbosity=2))])"
      ]
     },
     "execution_count": 92,
     "metadata": {},
     "output_type": "execute_result"
    }
   ],
   "source": [
    "gs_smote_xgb.best_estimator_"
   ]
  },
  {
   "cell_type": "code",
   "execution_count": 93,
   "metadata": {},
   "outputs": [
    {
     "data": {
      "text/plain": [
       "{'sampling__k_neighbors': 5,\n",
       " 'xgb__alpha': 0.1,\n",
       " 'xgb__colsample_bytree': 0.9,\n",
       " 'xgb__gamma': 0.4,\n",
       " 'xgb__gpu_hist': 'gpu_hist',\n",
       " 'xgb__lambda': 0.2,\n",
       " 'xgb__learning_rate': 0.1,\n",
       " 'xgb__max_depth': 5,\n",
       " 'xgb__min_child_weight': 2,\n",
       " 'xgb__n_estimators': 100,\n",
       " 'xgb__n_jobs': -1,\n",
       " 'xgb__subsample': 0.8,\n",
       " 'xgb__verbosity': 2}"
      ]
     },
     "execution_count": 93,
     "metadata": {},
     "output_type": "execute_result"
    }
   ],
   "source": [
    "gs_smote_xgb.best_params_"
   ]
  },
  {
   "cell_type": "code",
   "execution_count": 94,
   "metadata": {},
   "outputs": [],
   "source": [
    "model_xgb=gs_smote_xgb.best_estimator_"
   ]
  },
  {
   "cell_type": "code",
   "execution_count": 95,
   "metadata": {},
   "outputs": [],
   "source": [
    "pred_xgb=model_xgb.predict(X_test_sc)"
   ]
  },
  {
   "cell_type": "code",
   "execution_count": 96,
   "metadata": {
    "scrolled": false
   },
   "outputs": [
    {
     "data": {
      "text/plain": [
       "<sklearn.metrics._plot.confusion_matrix.ConfusionMatrixDisplay at 0x7fdc7ecf9370>"
      ]
     },
     "execution_count": 96,
     "metadata": {},
     "output_type": "execute_result"
    },
    {
     "data": {
      "image/png": "[encoded data removed]",
      "text/plain": [
       "<Figure size 432x288 with 2 Axes>"
      ]
     },
     "metadata": {
      "needs_background": "light"
     },
     "output_type": "display_data"
    }
   ],
   "source": [
    "plot_confusion_matrix(model_xgb,X_test_sc,y_test)"
   ]
  },
  {
   "cell_type": "code",
   "execution_count": 97,
   "metadata": {},
   "outputs": [
    {
     "data": {
      "text/plain": [
       "0.7972573030542668"
      ]
     },
     "execution_count": 97,
     "metadata": {},
     "output_type": "execute_result"
    }
   ],
   "source": [
    "roc_auc_score(y_train,model_xgb.predict(X_train_sc))"
   ]
  },
  {
   "cell_type": "code",
   "execution_count": 98,
   "metadata": {
    "scrolled": true
   },
   "outputs": [
    {
     "data": {
      "text/plain": [
       "0.7552937830861443"
      ]
     },
     "execution_count": 98,
     "metadata": {},
     "output_type": "execute_result"
    }
   ],
   "source": [
    "roc_auc_score(y_test,pred_xgb)"
   ]
  },
  {
   "cell_type": "code",
   "execution_count": 99,
   "metadata": {},
   "outputs": [],
   "source": [
    "score['XGB']={'train_acc':gs_smote_xgb.score(X_train_sc,y_train),\n",
    "              'val_acc':gs_smote_xgb.best_score_,\n",
    "              'test_acc':gs_smote_xgb.score(X_test_sc,y_test),\n",
    "              'train_auc':roc_auc_score(y_train,model_xgb.predict(X_train_sc)),\n",
    "              'test_auc':roc_auc_score(y_test,pred_xgb),\n",
    "              'train_recall':recall_score(y_train,model_xgb.predict(X_train_sc)),\n",
    "              'test_recall':recall_score(y_test,pred_xgb)\n",
    "}"
   ]
  },
  {
   "cell_type": "code",
   "execution_count": 100,
   "metadata": {
    "scrolled": true
   },
   "outputs": [
    {
     "data": {
      "text/html": [
       "<div>\n",
       "<style scoped>\n",
       "    .dataframe tbody tr th:only-of-type {\n",
       "        vertical-align: middle;\n",
       "    }\n",
       "\n",
       "    .dataframe tbody tr th {\n",
       "        vertical-align: top;\n",
       "    }\n",
       "\n",
       "    .dataframe thead th {\n",
       "        text-align: right;\n",
       "    }\n",
       "</style>\n",
       "<table border=\"1\" class=\"dataframe\">\n",
       "  <thead>\n",
       "    <tr style=\"text-align: right;\">\n",
       "      <th></th>\n",
       "      <th>LR</th>\n",
       "      <th>KNN</th>\n",
       "      <th>RF</th>\n",
       "      <th>ET</th>\n",
       "      <th>SVC</th>\n",
       "      <th>XGB</th>\n",
       "    </tr>\n",
       "  </thead>\n",
       "  <tbody>\n",
       "    <tr>\n",
       "      <th>train_acc</th>\n",
       "      <td>0.815606</td>\n",
       "      <td>0.975321</td>\n",
       "      <td>0.901253</td>\n",
       "      <td>0.909615</td>\n",
       "      <td>0.879516</td>\n",
       "      <td>0.914038</td>\n",
       "    </tr>\n",
       "    <tr>\n",
       "      <th>val_acc</th>\n",
       "      <td>0.786606</td>\n",
       "      <td>0.742261</td>\n",
       "      <td>0.823720</td>\n",
       "      <td>0.820316</td>\n",
       "      <td>0.820955</td>\n",
       "      <td>0.822325</td>\n",
       "    </tr>\n",
       "    <tr>\n",
       "      <th>test_acc</th>\n",
       "      <td>0.825660</td>\n",
       "      <td>0.775244</td>\n",
       "      <td>0.854261</td>\n",
       "      <td>0.848064</td>\n",
       "      <td>0.857492</td>\n",
       "      <td>0.859415</td>\n",
       "    </tr>\n",
       "    <tr>\n",
       "      <th>train_auc</th>\n",
       "      <td>0.746459</td>\n",
       "      <td>0.916562</td>\n",
       "      <td>0.500000</td>\n",
       "      <td>0.508746</td>\n",
       "      <td>0.807529</td>\n",
       "      <td>0.797257</td>\n",
       "    </tr>\n",
       "    <tr>\n",
       "      <th>test_auc</th>\n",
       "      <td>0.756978</td>\n",
       "      <td>0.697616</td>\n",
       "      <td>0.504386</td>\n",
       "      <td>0.508772</td>\n",
       "      <td>0.792037</td>\n",
       "      <td>0.755294</td>\n",
       "    </tr>\n",
       "    <tr>\n",
       "      <th>train_recall</th>\n",
       "      <td>0.801749</td>\n",
       "      <td>0.959184</td>\n",
       "      <td>0.000000</td>\n",
       "      <td>0.017493</td>\n",
       "      <td>0.842566</td>\n",
       "      <td>0.696793</td>\n",
       "    </tr>\n",
       "    <tr>\n",
       "      <th>test_recall</th>\n",
       "      <td>0.798246</td>\n",
       "      <td>0.543860</td>\n",
       "      <td>0.008772</td>\n",
       "      <td>0.017544</td>\n",
       "      <td>0.807018</td>\n",
       "      <td>0.622807</td>\n",
       "    </tr>\n",
       "  </tbody>\n",
       "</table>\n",
       "</div>"
      ],
      "text/plain": [
       "                    LR       KNN        RF        ET       SVC       XGB\n",
       "train_acc     0.815606  0.975321  0.901253  0.909615  0.879516  0.914038\n",
       "val_acc       0.786606  0.742261  0.823720  0.820316  0.820955  0.822325\n",
       "test_acc      0.825660  0.775244  0.854261  0.848064  0.857492  0.859415\n",
       "train_auc     0.746459  0.916562  0.500000  0.508746  0.807529  0.797257\n",
       "test_auc      0.756978  0.697616  0.504386  0.508772  0.792037  0.755294\n",
       "train_recall  0.801749  0.959184  0.000000  0.017493  0.842566  0.696793\n",
       "test_recall   0.798246  0.543860  0.008772  0.017544  0.807018  0.622807"
      ]
     },
     "execution_count": 100,
     "metadata": {},
     "output_type": "execute_result"
    }
   ],
   "source": [
    "pd.DataFrame(score)"
   ]
  },
  {
   "cell_type": "markdown",
   "metadata": {},
   "source": [
    "## Model Selection & Evaluation of Results \n",
    "\n",
    "The metrics used for comparison are: Accuracy, AUC and Recall. \n",
    "\n",
    "**Accuracy**\n",
    "<br>The results of the hyperparameter tuning above show that all models had relatively high training and cross-validated scores, indicating that some of the models may have overfit on the training data. However, after comparison with the test accuracy, we note that all models except KNN have test accuracies close to the training accuracies, which suggests that the models generalise well to new data. \n",
    "\n",
    "**AUC-ROC** \n",
    "<br> Due to the imbalanced classes in our dataset, the AUC-ROC curve allows us to assess how well our model performs at distinguishing between the positive and negative classes. We observe that the tree-based models (RF and ET) have the lowest scores of about 0.5, meaning that both models have no class separation capacity whatsoever.\n",
    "\n",
    "The disparity between KNN's training and test AUC shows significantly higher degree of overfitting compared to the remaining 3 models. Of the 3, SVC has the highest score and also generalises well to new data. \n",
    "\n",
    "\n",
    "**Recall** \n",
    "<br> The final metric we use is recall (i.e sensitivity / true positivity rate). Given the severe imbalanced of WNV-positive (i.e WNV=1) classes, recall is an important metric for us to determine how well the model classifies whether the WNV is present in a given location, i.e we want to ensure that pesticides are sprayed in locations which have the WNV. From our results, SVC and LR have the best recall scores while the tree models are the worst-performing. \n",
    "\n",
    "Overall, **SVC** has the best performance in terms of the 3 metrics we're using. However, there is a drawback that SVC fitted using polynomial kernel does not provide any coefficient to weigh the feature columns. Hence we examine the next best estimator, which is logistic regression, for its cofficients."
   ]
  },
  {
   "cell_type": "code",
   "execution_count": 102,
   "metadata": {},
   "outputs": [],
   "source": [
    "# extract coefficients and feature names\n",
    "log_coefs = model_lr.named_steps.lr.coef_\n",
    "log_features = X_train_sc.columns.to_list()\n",
    "\n",
    "log_coefs_df = pd.Series(log_coefs[0], index = log_features)\n",
    "# filter top positive coefficients \n",
    "pos_coefs = log_coefs_df[log_coefs_df > 0]"
   ]
  },
  {
   "cell_type": "code",
   "execution_count": 103,
   "metadata": {},
   "outputs": [
    {
     "data": {
      "image/png": "[encoded data removed]",
      "text/plain": [
       "<Figure size 1152x864 with 1 Axes>"
      ]
     },
     "metadata": {
      "needs_background": "light"
     },
     "output_type": "display_data"
    }
   ],
   "source": [
    "fig = plt.figure(figsize=(16,12))\n",
    "pos_coefs.sort_values().plot(kind = \"barh\")\n",
    "plt.xticks(fontsize=14);\n",
    "plt.yticks(fontsize=14);\n",
    "plt.title(\"Top Coefficients from Logistic Regression\", fontsize=14);"
   ]
  },
  {
   "cell_type": "markdown",
   "metadata": {},
   "source": [
    "## Retrain On Full Dataset"
   ]
  },
  {
   "cell_type": "markdown",
   "metadata": {},
   "source": [
    "Using the final selected model, we fit with preceding years to predict the data for each subsequent year. \n",
    "For example, model is fitted with 2007 train data to perform prediction on 20008 test data. 2007 and 2009 train data is used to predict 2010 test data and so on. "
   ]
  },
  {
   "cell_type": "code",
   "execution_count": null,
   "metadata": {},
   "outputs": [],
   "source": [
    "test=pd.read_csv('../datasets/test_weather.csv',index_col='id',parse_dates=['date'])"
   ]
  },
  {
   "cell_type": "code",
   "execution_count": null,
   "metadata": {},
   "outputs": [],
   "source": [
    "test_08=test[test['date'].dt.year==2008][X_train_sc.columns]\n",
    "test_10=test[test['date'].dt.year==2010][X_train_sc.columns]\n",
    "test_12=test[test['date'].dt.year==2012][X_train_sc.columns]\n",
    "test_14=test[test['date'].dt.year==2014][X_train_sc.columns]"
   ]
  },
  {
   "cell_type": "code",
   "execution_count": null,
   "metadata": {},
   "outputs": [],
   "source": [
    "train_07=df_train[df_train['date'].dt.year==2007][X_train_sc.columns]\n",
    "train_09=df_train[df_train['date'].dt.year<=2009][X_train_sc.columns]\n",
    "train_11=df_train[df_train['date'].dt.year<=2011][X_train_sc.columns]\n",
    "train_13=df_train[df_train['date'].dt.year<=2013][X_train_sc.columns]"
   ]
  },
  {
   "cell_type": "code",
   "execution_count": null,
   "metadata": {},
   "outputs": [],
   "source": [
    "y_07=df_train[df_train['date'].dt.year==2007]['wnv']\n",
    "y_09=df_train[df_train['date'].dt.year<=2009]['wnv']\n",
    "y_11=df_train[df_train['date'].dt.year<=2011]['wnv']\n",
    "y_13=df_train[df_train['date'].dt.year<=2013]['wnv']"
   ]
  },
  {
   "cell_type": "code",
   "execution_count": null,
   "metadata": {},
   "outputs": [],
   "source": [
    "ss1=StandardScaler()\n",
    "train_07_sc=ss1.fit_transform(train_07)\n",
    "test_08_sc=ss1.transform(test_08)"
   ]
  },
  {
   "cell_type": "code",
   "execution_count": null,
   "metadata": {},
   "outputs": [],
   "source": [
    "ss2=StandardScaler()\n",
    "train_09_sc=ss2.fit_transform(train_09)\n",
    "test_10_sc=ss1.transform(test_10)"
   ]
  },
  {
   "cell_type": "code",
   "execution_count": null,
   "metadata": {},
   "outputs": [],
   "source": [
    "ss3=StandardScaler()\n",
    "train_11_sc=ss3.fit_transform(train_11)\n",
    "test_12_sc=ss1.transform(test_12)"
   ]
  },
  {
   "cell_type": "code",
   "execution_count": null,
   "metadata": {},
   "outputs": [],
   "source": [
    "ss4=StandardScaler()\n",
    "train_13_sc=ss3.fit_transform(train_13)\n",
    "test_14_sc=ss1.transform(test_14)"
   ]
  },
  {
   "cell_type": "code",
   "execution_count": null,
   "metadata": {},
   "outputs": [],
   "source": [
    "model_svc.fit(train_07_sc,y_07)"
   ]
  },
  {
   "cell_type": "code",
   "execution_count": null,
   "metadata": {},
   "outputs": [],
   "source": [
    "pred08=pd.DataFrame(model_svc.predict_proba(test_08_sc)[:,1],index=test_08.index,columns=['WnvPresent'])"
   ]
  },
  {
   "cell_type": "code",
   "execution_count": null,
   "metadata": {},
   "outputs": [],
   "source": [
    "model_svc.fit(train_09_sc,y_09)"
   ]
  },
  {
   "cell_type": "code",
   "execution_count": null,
   "metadata": {},
   "outputs": [],
   "source": [
    "pred10=pd.DataFrame(model_svc.predict_proba(test_10_sc)[:,1],index=test_10.index,columns=['WnvPresent'])"
   ]
  },
  {
   "cell_type": "code",
   "execution_count": null,
   "metadata": {},
   "outputs": [],
   "source": [
    "model_svc.fit(train_11_sc,y_11)"
   ]
  },
  {
   "cell_type": "code",
   "execution_count": null,
   "metadata": {},
   "outputs": [],
   "source": [
    "pred12=pd.DataFrame(model_svc.predict_proba(test_12_sc)[:,1],index=test_12.index,columns=['WnvPresent'])"
   ]
  },
  {
   "cell_type": "code",
   "execution_count": null,
   "metadata": {},
   "outputs": [],
   "source": [
    "model_svc.fit(train_13_sc,y_13)"
   ]
  },
  {
   "cell_type": "code",
   "execution_count": null,
   "metadata": {},
   "outputs": [],
   "source": [
    "pred14=pd.DataFrame(model_svc.predict_proba(test_14_sc)[:,1],index=test_14.index,columns=['WnvPresent'])"
   ]
  },
  {
   "cell_type": "code",
   "execution_count": null,
   "metadata": {},
   "outputs": [],
   "source": [
    "kaggle=pd.concat([pred08,pred10,pred12,pred14],axis=0)"
   ]
  },
  {
   "cell_type": "code",
   "execution_count": null,
   "metadata": {},
   "outputs": [],
   "source": [
    "kaggle.to_csv('../datasets/kaggle.csv')"
   ]
  },
  {
   "cell_type": "markdown",
   "metadata": {},
   "source": [
    "# Cost-Benefit Analysis \n",
    "\n",
    "As part of our cost-benefit analysis, we studied research papers which highlighted that an estimated \\\\$778 million was incurred in both short-term and long-term, direct and indirect medical costs associated with the WNV disease, over a 15-year period from 1999 to 2014 across the US. \n",
    "\n",
    "<a href=\"https://wwwnc.cdc.gov/eid/article/16/3/09-0667_article\">Louisiana state data</a> showed that total epidemic costs were around \\\\$20 million for 329 cases, which averages to about \\\\$61,000 per infected case. We also explored a 2005 California economic cost analysis of the virus where the total economic impact was $2.98 million for 163 cases. This averaged the economic impact to around \\\\$18,282 per case, whereas vector control cost was \\\\$701,790. Their analysis also revealed that only <a href=\"https://www.ncbi.nlm.nih.gov/pmc/articles/PMC3322011/\">15 cases</a> of WNV would need to be prevented to justify the cost of the pesticide spraying. \n",
    "\n",
    "However, their analysis is not backed up by our EDA process. Spatial data showing the spray locations did not show any noticeable reductions in the WNV-positive mosquito hot spot, thus we would recommend alternative measures to use in conjunction with the spraying. \n",
    "\n",
    "To increase the cost-effectiveness of pesticide spraying, we advise against spraying when average wind speeds are high (i.e below 10 mph) to reduce the occurrence of <a href=\"https://crops.extension.iastate.edu/cropnews/2017/01/wind-speed-and-herbicide-application#:~:text=specify%2010%20MPH%20as%20the,spray%20pressure%2C%20etc.).\">spray drift</a>. Also, more mosquitoes tend to be caught in traps when wind speeds are lower. Spraying should be avoided above 86°F as the higher temperatures would cause pesticide droplets to <a href=\"https://grdc.com.au/__data/assets/pdf_file/0024/248181/GRDC-Weather-Essentials-for-Pesticide-Application-2017.pdf\">evaporate faster</a> than in cooler air. Results from the EDA showed that the virus is only prevalent during the months of July to September, and thus any efforts to reduce the mosquito population should be focused on this time period. \n",
    "\n",
    "We recommend that The Department of Public Health consider cost-friendly measures such as eliminating mosquito breeding grounds by covering up areas where water tends to collect and remain stagnant, e.g still ponds, flower pots, rainwater barrels, etc. preventing excessive breeding after periods of heavy rainfall. This is backed up by our EDA which shows an increase in WNV counts after a spike in the precipitation total. In addition, mosquito bites can also be reduced by using mosquito repellent, and wearing long pants and long-sleeves. \n",
    "\n",
    "Overall, our findings show that the benefits of increasing pesticide spraying may not outweigh the costs incurred. Therefore, we propose a combination of proactive (eg. spraying of pesticides)and reactive (eg. cover up mosquito breeding grounds) measures to combat the spread of the WNV in a more cost-efficient manner. "
   ]
  },
  {
   "cell_type": "markdown",
   "metadata": {},
   "source": [
    "# Conclusion  \n",
    "\n",
    "Our best performing model is SVM with a test accuracy score of 85.5%. Although accuracy provides an overview of the model's performance, we need to consider the other metrics to gain more meaningful insights to guide the decisions of the Chicago Department of Public Health. \n",
    "\n",
    "Other key metrics include the AUC, which shows that our model is 79.6% capable of distinguishing between WNV-positive and WNV-negative classes. We also note the recall rate which indicates that 80.7% of the actual WNV-positive cases were correctly classified. \n",
    "\n",
    "Based on these 3 metrics, we conclude that our model has performed relatively well in its classification of WNV-positive mosquitoes. This, in conjunction with the findings from the EDA and cost-benefit analysis, would help the Department of Public Health in making better decisions on when and where to spray pesticides to combat the spread of the WNV-virus. "
   ]
  }
 ],
 "metadata": {
  "kernelspec": {
   "display_name": "Python 3",
   "language": "python",
   "name": "python3"
  },
  "language_info": {
   "codemirror_mode": {
    "name": "ipython",
    "version": 3
   },
   "file_extension": ".py",
   "mimetype": "text/x-python",
   "name": "python",
   "nbconvert_exporter": "python",
   "pygments_lexer": "ipython3",
   "version": "3.8.5"
  },
  "toc": {
   "base_numbering": 1,
   "nav_menu": {},
   "number_sections": true,
   "sideBar": true,
   "skip_h1_title": false,
   "title_cell": "Table of Contents",
   "title_sidebar": "Contents",
   "toc_cell": false,
   "toc_position": {},
   "toc_section_display": true,
   "toc_window_display": true
  },
  "varInspector": {
   "cols": {
    "lenName": 16,
    "lenType": 16,
    "lenVar": 40
   },
   "kernels_config": {
    "python": {
     "delete_cmd_postfix": "",
     "delete_cmd_prefix": "del ",
     "library": "var_list.py",
     "varRefreshCmd": "print(var_dic_list())"
    },
    "r": {
     "delete_cmd_postfix": ") ",
     "delete_cmd_prefix": "rm(",
     "library": "var_list.r",
     "varRefreshCmd": "cat(var_dic_list()) "
    }
   },
   "types_to_exclude": [
    "module",
    "function",
    "builtin_function_or_method",
    "instance",
    "_Feature"
   ],
   "window_display": false
  }
 },
 "nbformat": 4,
 "nbformat_minor": 4
}
